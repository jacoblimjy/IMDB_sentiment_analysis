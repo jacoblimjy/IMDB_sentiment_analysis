{
  "cells": [
    {
      "cell_type": "markdown",
      "id": "5ec92d5c",
      "metadata": {
        "id": "5ec92d5c"
      },
      "source": [
        "## Convolutional Neural Network (CNN)\n",
        "\n",
        "In this notebook, we will attempt to train a simple CNN model on our IMDB movie reviews dataset and evaluate its performance."
      ]
    },
    {
      "cell_type": "markdown",
      "id": "cec4667a",
      "metadata": {
        "id": "cec4667a"
      },
      "source": [
        "### 1. Loading the Dataset\n",
        "\n",
        "Dataset has been split into train-test beforehand."
      ]
    },
    {
      "cell_type": "code",
      "execution_count": null,
      "id": "b567512d",
      "metadata": {
        "id": "b567512d"
      },
      "outputs": [],
      "source": [
        "import pandas as pd\n",
        "\n",
        "# load train dataset\n",
        "train_df = pd.read_csv('data/train_set.csv')\n",
        "# load test dataset\n",
        "test_df = pd.read_csv('data/test_set.csv')\n",
        "\n",
        "X_train = train_df['text']\n",
        "y_train = train_df['sentiment']\n",
        "\n",
        "X_test = test_df['text']\n",
        "y_test = test_df['sentiment']"
      ]
    },
    {
      "cell_type": "markdown",
      "id": "a5c4b94a",
      "metadata": {
        "id": "a5c4b94a"
      },
      "source": [
        "### 2. Text Preprocessing: Tokenization and Padding of Reviews\n",
        "\n",
        "As we will need to tokenize our reviews (since the model isn't able to interpret raw text), we will need to pad the reviews after tokenising based on maximum length. We shall take the average lengths of the reviews in our dataset to determine what value to use as our maximum length."
      ]
    },
    {
      "cell_type": "code",
      "execution_count": null,
      "id": "172a31e9",
      "metadata": {
        "id": "172a31e9",
        "outputId": "3e90a366-8c23-437e-d5e8-18d8347344ec"
      },
      "outputs": [
        {
          "name": "stdout",
          "output_type": "stream",
          "text": [
            "Mean length of text: 122.2985\n",
            "Max length of text: 1451\n",
            "Mean length of text (test set): 123.666\n",
            "Max length of text (test set): 1129\n"
          ]
        }
      ],
      "source": [
        "# get the mean and max length of the text in the train set\n",
        "mean_length = X_train.str.split().str.len().mean()\n",
        "max_length = X_train.str.split().str.len().max()\n",
        "print(f'Mean length of text: {mean_length}')\n",
        "print(f'Max length of text: {max_length}')\n",
        "# get the mean and max length of the text in the test set\n",
        "mean_length = X_test.str.split().str.len().mean()\n",
        "max_length = X_test.str.split().str.len().max()\n",
        "print(f'Mean length of text (test set): {mean_length}')\n",
        "print(f'Max length of text (test set): {max_length}')"
      ]
    },
    {
      "cell_type": "markdown",
      "id": "f45d3fe5",
      "metadata": {
        "id": "f45d3fe5"
      },
      "source": [
        "Average lengths hover around 120+, we shall take the upper bound of 200 as our maximum length to cover most reviews (albeit longer review texts).\n",
        "\n",
        "We next load the relevant libraries to tokenize our movie review text."
      ]
    },
    {
      "cell_type": "code",
      "execution_count": null,
      "id": "c96777ce",
      "metadata": {
        "id": "c96777ce"
      },
      "outputs": [],
      "source": [
        "import numpy as np\n",
        "import tensorflow as tf\n",
        "from tensorflow.keras import layers, models\n",
        "from tensorflow.keras.preprocessing.text import Tokenizer\n",
        "from tensorflow.keras.preprocessing.sequence import pad_sequences\n",
        "from sklearn.model_selection import StratifiedKFold"
      ]
    },
    {
      "cell_type": "markdown",
      "id": "a89c4126",
      "metadata": {
        "id": "a89c4126"
      },
      "source": [
        "Tokenizing and padding to ensure all reviews are of uniform length."
      ]
    },
    {
      "cell_type": "code",
      "execution_count": null,
      "id": "d1e3c657",
      "metadata": {
        "id": "d1e3c657"
      },
      "outputs": [],
      "source": [
        "# set up preprocessing parameters\n",
        "vocab_size = 10000 # vocab size that covers 10k most frequent words in our dataset\n",
        "max_length = 200 # mean length is about 120+ words so we set max to 200\n",
        "\n",
        "# initialise and fit tokenizer on trainig data\n",
        "tokenizer = Tokenizer(num_words=vocab_size, oov_token='<OOV>') # adding OOV to hadnle words not in vocab\n",
        "tokenizer.fit_on_texts(X_train)\n",
        "\n",
        "# convert move review text to sequences\n",
        "X_train_seq = tokenizer.texts_to_sequences(X_train)\n",
        "X_test_seq = tokenizer.texts_to_sequences(X_test)\n",
        "\n",
        "# pad sequences to ensure all reviews are of uniform length\n",
        "X_train_pad = pad_sequences(X_train_seq, maxlen=max_length, padding='post', truncating='post')\n",
        "X_test_pad = pad_sequences(X_test_seq, maxlen=max_length, padding='post', truncating='post')"
      ]
    },
    {
      "cell_type": "markdown",
      "id": "4ba6bbcd",
      "metadata": {
        "id": "4ba6bbcd"
      },
      "source": [
        "### 3. Building CNN Architecture\n",
        "\n",
        "In this block, we will define our CNN architecture. We will be using an embedding layer to convert word indices to dense vectors and two covolutional layers, as well as a dense layer for our classification output."
      ]
    },
    {
      "cell_type": "code",
      "execution_count": null,
      "id": "b8924f07",
      "metadata": {
        "id": "b8924f07"
      },
      "outputs": [],
      "source": [
        "# define CNN model using a function\n",
        "def build_cnn_model(vocab_size, embedding_dim, max_length, filters1=64, filters2=128, dense_units=64):\n",
        "    \"\"\"Builds the CNN model with configurable parameters.\"\"\"\n",
        "    print(f\"  Building CNN with embedding_dim={embedding_dim}, filters1={filters1}\")\n",
        "    model = models.Sequential([\n",
        "        layers.Embedding(input_dim=vocab_size, output_dim=embedding_dim, input_length=max_length),\n",
        "        layers.Conv1D(filters=filters1, kernel_size=5, activation='relu'), # Use filters1\n",
        "        layers.MaxPooling1D(pool_size=4),\n",
        "        layers.Conv1D(filters=filters2, kernel_size=5, activation='relu'), # Keep filters2 fixed or add as param\n",
        "        layers.GlobalMaxPool1D(),\n",
        "        layers.Dense(dense_units, activation='relu'), # Keep dense_units fixed or add as param\n",
        "        layers.Dense(1, activation='sigmoid')\n",
        "    ])\n",
        "    return model"
      ]
    },
    {
      "cell_type": "markdown",
      "id": "fa7c8338",
      "metadata": {
        "id": "fa7c8338"
      },
      "source": [
        "### 4. Cross-Validation and Basic Hyperparameter Tuning\n",
        "\n",
        "Before model training, we will attempt to do 5-Fold Cross Validation with our CNN model and set some hyperparameters for basic hyperparameter tuning."
      ]
    },
    {
      "cell_type": "code",
      "execution_count": null,
      "id": "a906d049",
      "metadata": {
        "id": "a906d049"
      },
      "outputs": [],
      "source": [
        "import itertools # for easy looping through combinations\n",
        "\n",
        "# set up CV configuration\n",
        "N_SPLITS = 5\n",
        "cv = StratifiedKFold(n_splits=N_SPLITS, shuffle=True, random_state=42)\n",
        "\n",
        "# hyperparameters for CNN tuning\n",
        "embedding_dims = [50, 100]\n",
        "filter1_couns = [32, 64, 128]\n",
        "learning_rates = [0.001, 0.0005]\n",
        "\n",
        "# fixed parameters during CV\n",
        "EPOCHS_CV_CNN = 10\n",
        "BATCH_SIZE_CNN = 32 # standard batch size\n",
        "FIXED_VOCAB_SIZE = vocab_size\n",
        "FIXED_MAX_LENGTH = max_length"
      ]
    },
    {
      "cell_type": "markdown",
      "id": "ac938d56",
      "metadata": {
        "id": "ac938d56"
      },
      "source": [
        "We carry out the 5-Fold CV here and also introduce early stopping to prevent overfitting."
      ]
    },
    {
      "cell_type": "code",
      "execution_count": null,
      "id": "5775f28b",
      "metadata": {
        "id": "5775f28b",
        "outputId": "1e021068-3954-4b1b-84dc-4376523d5a1b"
      },
      "outputs": [
        {
          "name": "stdout",
          "output_type": "stream",
          "text": [
            "\n",
            "--- Testing Combo 1/12: embed=50, filters1=32, lr=0.001 ---\n",
            "  Fold 1/5...\n",
            "  Building CNN with embedding_dim=50, filters1=32\n",
            "Epoch 1/10\n"
          ]
        },
        {
          "name": "stderr",
          "output_type": "stream",
          "text": [
            "c:\\Users\\ander\\Desktop\\projects\\IMDB_sentiment_analysis\\it1244\\Lib\\site-packages\\keras\\src\\layers\\core\\embedding.py:90: UserWarning: Argument `input_length` is deprecated. Just remove it.\n",
            "  warnings.warn(\n"
          ]
        },
        {
          "name": "stdout",
          "output_type": "stream",
          "text": [
            "\u001b[1m1000/1000\u001b[0m \u001b[32m━━━━━━━━━━━━━━━━━━━━\u001b[0m\u001b[37m\u001b[0m \u001b[1m8s\u001b[0m 7ms/step - accuracy: 0.7396 - loss: 0.4741 - val_accuracy: 0.8695 - val_loss: 0.3068\n",
            "Epoch 2/10\n",
            "\u001b[1m1000/1000\u001b[0m \u001b[32m━━━━━━━━━━━━━━━━━━━━\u001b[0m\u001b[37m\u001b[0m \u001b[1m7s\u001b[0m 7ms/step - accuracy: 0.9249 - loss: 0.1958 - val_accuracy: 0.8845 - val_loss: 0.2968\n",
            "Epoch 3/10\n",
            "\u001b[1m1000/1000\u001b[0m \u001b[32m━━━━━━━━━━━━━━━━━━━━\u001b[0m\u001b[37m\u001b[0m \u001b[1m7s\u001b[0m 7ms/step - accuracy: 0.9699 - loss: 0.0921 - val_accuracy: 0.8652 - val_loss: 0.4212\n",
            "Epoch 4/10\n",
            "\u001b[1m1000/1000\u001b[0m \u001b[32m━━━━━━━━━━━━━━━━━━━━\u001b[0m\u001b[37m\u001b[0m \u001b[1m7s\u001b[0m 7ms/step - accuracy: 0.9891 - loss: 0.0371 - val_accuracy: 0.8714 - val_loss: 0.4887\n",
            "\u001b[1m250/250\u001b[0m \u001b[32m━━━━━━━━━━━━━━━━━━━━\u001b[0m\u001b[37m\u001b[0m \u001b[1m0s\u001b[0m 1ms/step\n",
            "  Fold 2/5...\n",
            "  Building CNN with embedding_dim=50, filters1=32\n",
            "Epoch 1/10\n"
          ]
        },
        {
          "name": "stderr",
          "output_type": "stream",
          "text": [
            "c:\\Users\\ander\\Desktop\\projects\\IMDB_sentiment_analysis\\it1244\\Lib\\site-packages\\keras\\src\\layers\\core\\embedding.py:90: UserWarning: Argument `input_length` is deprecated. Just remove it.\n",
            "  warnings.warn(\n"
          ]
        },
        {
          "name": "stdout",
          "output_type": "stream",
          "text": [
            "\u001b[1m1000/1000\u001b[0m \u001b[32m━━━━━━━━━━━━━━━━━━━━\u001b[0m\u001b[37m\u001b[0m \u001b[1m8s\u001b[0m 7ms/step - accuracy: 0.7415 - loss: 0.4732 - val_accuracy: 0.8752 - val_loss: 0.2925\n",
            "Epoch 2/10\n",
            "\u001b[1m1000/1000\u001b[0m \u001b[32m━━━━━━━━━━━━━━━━━━━━\u001b[0m\u001b[37m\u001b[0m \u001b[1m7s\u001b[0m 7ms/step - accuracy: 0.9269 - loss: 0.1959 - val_accuracy: 0.8839 - val_loss: 0.2835\n",
            "Epoch 3/10\n",
            "\u001b[1m1000/1000\u001b[0m \u001b[32m━━━━━━━━━━━━━━━━━━━━\u001b[0m\u001b[37m\u001b[0m \u001b[1m7s\u001b[0m 7ms/step - accuracy: 0.9700 - loss: 0.0913 - val_accuracy: 0.8602 - val_loss: 0.4198\n",
            "Epoch 4/10\n",
            "\u001b[1m1000/1000\u001b[0m \u001b[32m━━━━━━━━━━━━━━━━━━━━\u001b[0m\u001b[37m\u001b[0m \u001b[1m7s\u001b[0m 7ms/step - accuracy: 0.9897 - loss: 0.0357 - val_accuracy: 0.8708 - val_loss: 0.4938\n",
            "\u001b[1m250/250\u001b[0m \u001b[32m━━━━━━━━━━━━━━━━━━━━\u001b[0m\u001b[37m\u001b[0m \u001b[1m0s\u001b[0m 1ms/step\n",
            "  Fold 3/5...\n",
            "  Building CNN with embedding_dim=50, filters1=32\n",
            "Epoch 1/10\n"
          ]
        },
        {
          "name": "stderr",
          "output_type": "stream",
          "text": [
            "c:\\Users\\ander\\Desktop\\projects\\IMDB_sentiment_analysis\\it1244\\Lib\\site-packages\\keras\\src\\layers\\core\\embedding.py:90: UserWarning: Argument `input_length` is deprecated. Just remove it.\n",
            "  warnings.warn(\n"
          ]
        },
        {
          "name": "stdout",
          "output_type": "stream",
          "text": [
            "\u001b[1m1000/1000\u001b[0m \u001b[32m━━━━━━━━━━━━━━━━━━━━\u001b[0m\u001b[37m\u001b[0m \u001b[1m8s\u001b[0m 7ms/step - accuracy: 0.7365 - loss: 0.4761 - val_accuracy: 0.8784 - val_loss: 0.2826\n",
            "Epoch 2/10\n",
            "\u001b[1m1000/1000\u001b[0m \u001b[32m━━━━━━━━━━━━━━━━━━━━\u001b[0m\u001b[37m\u001b[0m \u001b[1m7s\u001b[0m 7ms/step - accuracy: 0.9279 - loss: 0.1912 - val_accuracy: 0.8809 - val_loss: 0.2980\n",
            "Epoch 3/10\n",
            "\u001b[1m1000/1000\u001b[0m \u001b[32m━━━━━━━━━━━━━━━━━━━━\u001b[0m\u001b[37m\u001b[0m \u001b[1m7s\u001b[0m 7ms/step - accuracy: 0.9717 - loss: 0.0857 - val_accuracy: 0.8661 - val_loss: 0.3930\n",
            "Epoch 4/10\n",
            "\u001b[1m1000/1000\u001b[0m \u001b[32m━━━━━━━━━━━━━━━━━━━━\u001b[0m\u001b[37m\u001b[0m \u001b[1m7s\u001b[0m 7ms/step - accuracy: 0.9909 - loss: 0.0328 - val_accuracy: 0.8660 - val_loss: 0.5241\n",
            "\u001b[1m250/250\u001b[0m \u001b[32m━━━━━━━━━━━━━━━━━━━━\u001b[0m\u001b[37m\u001b[0m \u001b[1m0s\u001b[0m 1ms/step\n",
            "  Fold 4/5...\n",
            "  Building CNN with embedding_dim=50, filters1=32\n",
            "Epoch 1/10\n"
          ]
        },
        {
          "name": "stderr",
          "output_type": "stream",
          "text": [
            "c:\\Users\\ander\\Desktop\\projects\\IMDB_sentiment_analysis\\it1244\\Lib\\site-packages\\keras\\src\\layers\\core\\embedding.py:90: UserWarning: Argument `input_length` is deprecated. Just remove it.\n",
            "  warnings.warn(\n"
          ]
        },
        {
          "name": "stdout",
          "output_type": "stream",
          "text": [
            "\u001b[1m1000/1000\u001b[0m \u001b[32m━━━━━━━━━━━━━━━━━━━━\u001b[0m\u001b[37m\u001b[0m \u001b[1m8s\u001b[0m 7ms/step - accuracy: 0.7399 - loss: 0.4701 - val_accuracy: 0.8781 - val_loss: 0.2896\n",
            "Epoch 2/10\n",
            "\u001b[1m1000/1000\u001b[0m \u001b[32m━━━━━━━━━━━━━━━━━━━━\u001b[0m\u001b[37m\u001b[0m \u001b[1m7s\u001b[0m 7ms/step - accuracy: 0.9268 - loss: 0.1941 - val_accuracy: 0.8756 - val_loss: 0.3129\n",
            "Epoch 3/10\n",
            "\u001b[1m1000/1000\u001b[0m \u001b[32m━━━━━━━━━━━━━━━━━━━━\u001b[0m\u001b[37m\u001b[0m \u001b[1m7s\u001b[0m 7ms/step - accuracy: 0.9726 - loss: 0.0837 - val_accuracy: 0.8681 - val_loss: 0.4115\n",
            "\u001b[1m250/250\u001b[0m \u001b[32m━━━━━━━━━━━━━━━━━━━━\u001b[0m\u001b[37m\u001b[0m \u001b[1m0s\u001b[0m 1ms/step\n",
            "  Fold 5/5...\n",
            "  Building CNN with embedding_dim=50, filters1=32\n",
            "Epoch 1/10\n"
          ]
        },
        {
          "name": "stderr",
          "output_type": "stream",
          "text": [
            "c:\\Users\\ander\\Desktop\\projects\\IMDB_sentiment_analysis\\it1244\\Lib\\site-packages\\keras\\src\\layers\\core\\embedding.py:90: UserWarning: Argument `input_length` is deprecated. Just remove it.\n",
            "  warnings.warn(\n"
          ]
        },
        {
          "name": "stdout",
          "output_type": "stream",
          "text": [
            "\u001b[1m1000/1000\u001b[0m \u001b[32m━━━━━━━━━━━━━━━━━━━━\u001b[0m\u001b[37m\u001b[0m \u001b[1m9s\u001b[0m 8ms/step - accuracy: 0.7186 - loss: 0.4919 - val_accuracy: 0.8774 - val_loss: 0.2879\n",
            "Epoch 2/10\n",
            "\u001b[1m1000/1000\u001b[0m \u001b[32m━━━━━━━━━━━━━━━━━━━━\u001b[0m\u001b[37m\u001b[0m \u001b[1m7s\u001b[0m 7ms/step - accuracy: 0.9305 - loss: 0.1891 - val_accuracy: 0.8700 - val_loss: 0.3159\n",
            "Epoch 3/10\n",
            "\u001b[1m1000/1000\u001b[0m \u001b[32m━━━━━━━━━━━━━━━━━━━━\u001b[0m\u001b[37m\u001b[0m \u001b[1m8s\u001b[0m 8ms/step - accuracy: 0.9732 - loss: 0.0862 - val_accuracy: 0.8666 - val_loss: 0.4167\n",
            "\u001b[1m250/250\u001b[0m \u001b[32m━━━━━━━━━━━━━━━━━━━━\u001b[0m\u001b[37m\u001b[0m \u001b[1m0s\u001b[0m 1ms/step\n",
            "  --- Mean Validation Accuracy: 0.8810 ± 0.0029 ---\n",
            "\n",
            "--- Testing Combo 2/12: embed=50, filters1=32, lr=0.0005 ---\n",
            "  Fold 1/5...\n",
            "  Building CNN with embedding_dim=50, filters1=32\n",
            "Epoch 1/10\n"
          ]
        },
        {
          "name": "stderr",
          "output_type": "stream",
          "text": [
            "c:\\Users\\ander\\Desktop\\projects\\IMDB_sentiment_analysis\\it1244\\Lib\\site-packages\\keras\\src\\layers\\core\\embedding.py:90: UserWarning: Argument `input_length` is deprecated. Just remove it.\n",
            "  warnings.warn(\n"
          ]
        },
        {
          "name": "stdout",
          "output_type": "stream",
          "text": [
            "\u001b[1m1000/1000\u001b[0m \u001b[32m━━━━━━━━━━━━━━━━━━━━\u001b[0m\u001b[37m\u001b[0m \u001b[1m9s\u001b[0m 7ms/step - accuracy: 0.6959 - loss: 0.5172 - val_accuracy: 0.8696 - val_loss: 0.3140\n",
            "Epoch 2/10\n",
            "\u001b[1m1000/1000\u001b[0m \u001b[32m━━━━━━━━━━━━━━━━━━━━\u001b[0m\u001b[37m\u001b[0m \u001b[1m7s\u001b[0m 7ms/step - accuracy: 0.9221 - loss: 0.2047 - val_accuracy: 0.8764 - val_loss: 0.3007\n",
            "Epoch 3/10\n",
            "\u001b[1m1000/1000\u001b[0m \u001b[32m━━━━━━━━━━━━━━━━━━━━\u001b[0m\u001b[37m\u001b[0m \u001b[1m7s\u001b[0m 7ms/step - accuracy: 0.9640 - loss: 0.1083 - val_accuracy: 0.8727 - val_loss: 0.3496\n",
            "Epoch 4/10\n",
            "\u001b[1m1000/1000\u001b[0m \u001b[32m━━━━━━━━━━━━━━━━━━━━\u001b[0m\u001b[37m\u001b[0m \u001b[1m7s\u001b[0m 7ms/step - accuracy: 0.9882 - loss: 0.0447 - val_accuracy: 0.8717 - val_loss: 0.4218\n",
            "\u001b[1m250/250\u001b[0m \u001b[32m━━━━━━━━━━━━━━━━━━━━\u001b[0m\u001b[37m\u001b[0m \u001b[1m0s\u001b[0m 1ms/step\n",
            "  Fold 2/5...\n",
            "  Building CNN with embedding_dim=50, filters1=32\n",
            "Epoch 1/10\n"
          ]
        },
        {
          "name": "stderr",
          "output_type": "stream",
          "text": [
            "c:\\Users\\ander\\Desktop\\projects\\IMDB_sentiment_analysis\\it1244\\Lib\\site-packages\\keras\\src\\layers\\core\\embedding.py:90: UserWarning: Argument `input_length` is deprecated. Just remove it.\n",
            "  warnings.warn(\n"
          ]
        },
        {
          "name": "stdout",
          "output_type": "stream",
          "text": [
            "\u001b[1m1000/1000\u001b[0m \u001b[32m━━━━━━━━━━━━━━━━━━━━\u001b[0m\u001b[37m\u001b[0m \u001b[1m9s\u001b[0m 8ms/step - accuracy: 0.7187 - loss: 0.5066 - val_accuracy: 0.8820 - val_loss: 0.2860\n",
            "Epoch 2/10\n",
            "\u001b[1m1000/1000\u001b[0m \u001b[32m━━━━━━━━━━━━━━━━━━━━\u001b[0m\u001b[37m\u001b[0m \u001b[1m7s\u001b[0m 7ms/step - accuracy: 0.9203 - loss: 0.2055 - val_accuracy: 0.8790 - val_loss: 0.2993\n",
            "Epoch 3/10\n",
            "\u001b[1m1000/1000\u001b[0m \u001b[32m━━━━━━━━━━━━━━━━━━━━\u001b[0m\u001b[37m\u001b[0m \u001b[1m7s\u001b[0m 7ms/step - accuracy: 0.9644 - loss: 0.1109 - val_accuracy: 0.8636 - val_loss: 0.3868\n",
            "\u001b[1m250/250\u001b[0m \u001b[32m━━━━━━━━━━━━━━━━━━━━\u001b[0m\u001b[37m\u001b[0m \u001b[1m0s\u001b[0m 1ms/step\n",
            "  Fold 3/5...\n",
            "  Building CNN with embedding_dim=50, filters1=32\n",
            "Epoch 1/10\n"
          ]
        },
        {
          "name": "stderr",
          "output_type": "stream",
          "text": [
            "c:\\Users\\ander\\Desktop\\projects\\IMDB_sentiment_analysis\\it1244\\Lib\\site-packages\\keras\\src\\layers\\core\\embedding.py:90: UserWarning: Argument `input_length` is deprecated. Just remove it.\n",
            "  warnings.warn(\n"
          ]
        },
        {
          "name": "stdout",
          "output_type": "stream",
          "text": [
            "\u001b[1m1000/1000\u001b[0m \u001b[32m━━━━━━━━━━━━━━━━━━━━\u001b[0m\u001b[37m\u001b[0m \u001b[1m9s\u001b[0m 7ms/step - accuracy: 0.6947 - loss: 0.5233 - val_accuracy: 0.8714 - val_loss: 0.2963\n",
            "Epoch 2/10\n",
            "\u001b[1m1000/1000\u001b[0m \u001b[32m━━━━━━━━━━━━━━━━━━━━\u001b[0m\u001b[37m\u001b[0m \u001b[1m7s\u001b[0m 7ms/step - accuracy: 0.9241 - loss: 0.2050 - val_accuracy: 0.8773 - val_loss: 0.2904\n",
            "Epoch 3/10\n",
            "\u001b[1m1000/1000\u001b[0m \u001b[32m━━━━━━━━━━━━━━━━━━━━\u001b[0m\u001b[37m\u001b[0m \u001b[1m7s\u001b[0m 7ms/step - accuracy: 0.9602 - loss: 0.1182 - val_accuracy: 0.8709 - val_loss: 0.3431\n",
            "Epoch 4/10\n",
            "\u001b[1m1000/1000\u001b[0m \u001b[32m━━━━━━━━━━━━━━━━━━━━\u001b[0m\u001b[37m\u001b[0m \u001b[1m7s\u001b[0m 7ms/step - accuracy: 0.9870 - loss: 0.0508 - val_accuracy: 0.8696 - val_loss: 0.4137\n",
            "\u001b[1m250/250\u001b[0m \u001b[32m━━━━━━━━━━━━━━━━━━━━\u001b[0m\u001b[37m\u001b[0m \u001b[1m0s\u001b[0m 1ms/step\n",
            "  Fold 4/5...\n",
            "  Building CNN with embedding_dim=50, filters1=32\n",
            "Epoch 1/10\n"
          ]
        },
        {
          "name": "stderr",
          "output_type": "stream",
          "text": [
            "c:\\Users\\ander\\Desktop\\projects\\IMDB_sentiment_analysis\\it1244\\Lib\\site-packages\\keras\\src\\layers\\core\\embedding.py:90: UserWarning: Argument `input_length` is deprecated. Just remove it.\n",
            "  warnings.warn(\n"
          ]
        },
        {
          "name": "stdout",
          "output_type": "stream",
          "text": [
            "\u001b[1m1000/1000\u001b[0m \u001b[32m━━━━━━━━━━━━━━━━━━━━\u001b[0m\u001b[37m\u001b[0m \u001b[1m8s\u001b[0m 7ms/step - accuracy: 0.6955 - loss: 0.5182 - val_accuracy: 0.8735 - val_loss: 0.2979\n",
            "Epoch 2/10\n",
            "\u001b[1m1000/1000\u001b[0m \u001b[32m━━━━━━━━━━━━━━━━━━━━\u001b[0m\u001b[37m\u001b[0m \u001b[1m7s\u001b[0m 7ms/step - accuracy: 0.9227 - loss: 0.2054 - val_accuracy: 0.8765 - val_loss: 0.2967\n",
            "Epoch 3/10\n",
            "\u001b[1m1000/1000\u001b[0m \u001b[32m━━━━━━━━━━━━━━━━━━━━\u001b[0m\u001b[37m\u001b[0m \u001b[1m7s\u001b[0m 7ms/step - accuracy: 0.9634 - loss: 0.1131 - val_accuracy: 0.8708 - val_loss: 0.3390\n",
            "Epoch 4/10\n",
            "\u001b[1m1000/1000\u001b[0m \u001b[32m━━━━━━━━━━━━━━━━━━━━\u001b[0m\u001b[37m\u001b[0m \u001b[1m7s\u001b[0m 7ms/step - accuracy: 0.9886 - loss: 0.0470 - val_accuracy: 0.8665 - val_loss: 0.4415\n",
            "\u001b[1m250/250\u001b[0m \u001b[32m━━━━━━━━━━━━━━━━━━━━\u001b[0m\u001b[37m\u001b[0m \u001b[1m0s\u001b[0m 1ms/step\n",
            "  Fold 5/5...\n",
            "  Building CNN with embedding_dim=50, filters1=32\n",
            "Epoch 1/10\n"
          ]
        },
        {
          "name": "stderr",
          "output_type": "stream",
          "text": [
            "c:\\Users\\ander\\Desktop\\projects\\IMDB_sentiment_analysis\\it1244\\Lib\\site-packages\\keras\\src\\layers\\core\\embedding.py:90: UserWarning: Argument `input_length` is deprecated. Just remove it.\n",
            "  warnings.warn(\n"
          ]
        },
        {
          "name": "stdout",
          "output_type": "stream",
          "text": [
            "\u001b[1m1000/1000\u001b[0m \u001b[32m━━━━━━━━━━━━━━━━━━━━\u001b[0m\u001b[37m\u001b[0m \u001b[1m8s\u001b[0m 7ms/step - accuracy: 0.7168 - loss: 0.4995 - val_accuracy: 0.8719 - val_loss: 0.3025\n",
            "Epoch 2/10\n",
            "\u001b[1m1000/1000\u001b[0m \u001b[32m━━━━━━━━━━━━━━━━━━━━\u001b[0m\u001b[37m\u001b[0m \u001b[1m7s\u001b[0m 7ms/step - accuracy: 0.9209 - loss: 0.2054 - val_accuracy: 0.8781 - val_loss: 0.2999\n",
            "Epoch 3/10\n",
            "\u001b[1m1000/1000\u001b[0m \u001b[32m━━━━━━━━━━━━━━━━━━━━\u001b[0m\u001b[37m\u001b[0m \u001b[1m7s\u001b[0m 7ms/step - accuracy: 0.9618 - loss: 0.1184 - val_accuracy: 0.8685 - val_loss: 0.3614\n",
            "Epoch 4/10\n",
            "\u001b[1m1000/1000\u001b[0m \u001b[32m━━━━━━━━━━━━━━━━━━━━\u001b[0m\u001b[37m\u001b[0m \u001b[1m7s\u001b[0m 7ms/step - accuracy: 0.9882 - loss: 0.0474 - val_accuracy: 0.8649 - val_loss: 0.4515\n",
            "\u001b[1m250/250\u001b[0m \u001b[32m━━━━━━━━━━━━━━━━━━━━\u001b[0m\u001b[37m\u001b[0m \u001b[1m0s\u001b[0m 1ms/step\n",
            "  --- Mean Validation Accuracy: 0.8781 ± 0.0021 ---\n",
            "\n",
            "--- Testing Combo 3/12: embed=50, filters1=64, lr=0.001 ---\n",
            "  Fold 1/5...\n",
            "  Building CNN with embedding_dim=50, filters1=64\n",
            "Epoch 1/10\n"
          ]
        },
        {
          "name": "stderr",
          "output_type": "stream",
          "text": [
            "c:\\Users\\ander\\Desktop\\projects\\IMDB_sentiment_analysis\\it1244\\Lib\\site-packages\\keras\\src\\layers\\core\\embedding.py:90: UserWarning: Argument `input_length` is deprecated. Just remove it.\n",
            "  warnings.warn(\n"
          ]
        },
        {
          "name": "stdout",
          "output_type": "stream",
          "text": [
            "\u001b[1m1000/1000\u001b[0m \u001b[32m━━━━━━━━━━━━━━━━━━━━\u001b[0m\u001b[37m\u001b[0m \u001b[1m10s\u001b[0m 8ms/step - accuracy: 0.7353 - loss: 0.4783 - val_accuracy: 0.8809 - val_loss: 0.2918\n",
            "Epoch 2/10\n",
            "\u001b[1m1000/1000\u001b[0m \u001b[32m━━━━━━━━━━━━━━━━━━━━\u001b[0m\u001b[37m\u001b[0m \u001b[1m8s\u001b[0m 8ms/step - accuracy: 0.9258 - loss: 0.1911 - val_accuracy: 0.8819 - val_loss: 0.2984\n",
            "Epoch 3/10\n",
            "\u001b[1m1000/1000\u001b[0m \u001b[32m━━━━━━━━━━━━━━━━━━━━\u001b[0m\u001b[37m\u001b[0m \u001b[1m8s\u001b[0m 8ms/step - accuracy: 0.9709 - loss: 0.0927 - val_accuracy: 0.8767 - val_loss: 0.3902\n",
            "Epoch 4/10\n",
            "\u001b[1m1000/1000\u001b[0m \u001b[32m━━━━━━━━━━━━━━━━━━━━\u001b[0m\u001b[37m\u001b[0m \u001b[1m9s\u001b[0m 9ms/step - accuracy: 0.9902 - loss: 0.0359 - val_accuracy: 0.8625 - val_loss: 0.5544\n",
            "\u001b[1m250/250\u001b[0m \u001b[32m━━━━━━━━━━━━━━━━━━━━\u001b[0m\u001b[37m\u001b[0m \u001b[1m0s\u001b[0m 2ms/step\n",
            "  Fold 2/5...\n",
            "  Building CNN with embedding_dim=50, filters1=64\n",
            "Epoch 1/10\n"
          ]
        },
        {
          "name": "stderr",
          "output_type": "stream",
          "text": [
            "c:\\Users\\ander\\Desktop\\projects\\IMDB_sentiment_analysis\\it1244\\Lib\\site-packages\\keras\\src\\layers\\core\\embedding.py:90: UserWarning: Argument `input_length` is deprecated. Just remove it.\n",
            "  warnings.warn(\n"
          ]
        },
        {
          "name": "stdout",
          "output_type": "stream",
          "text": [
            "\u001b[1m1000/1000\u001b[0m \u001b[32m━━━━━━━━━━━━━━━━━━━━\u001b[0m\u001b[37m\u001b[0m \u001b[1m11s\u001b[0m 9ms/step - accuracy: 0.7391 - loss: 0.4751 - val_accuracy: 0.8749 - val_loss: 0.2977\n",
            "Epoch 2/10\n",
            "\u001b[1m1000/1000\u001b[0m \u001b[32m━━━━━━━━━━━━━━━━━━━━\u001b[0m\u001b[37m\u001b[0m \u001b[1m9s\u001b[0m 9ms/step - accuracy: 0.9233 - loss: 0.1913 - val_accuracy: 0.8824 - val_loss: 0.2954\n",
            "Epoch 3/10\n",
            "\u001b[1m1000/1000\u001b[0m \u001b[32m━━━━━━━━━━━━━━━━━━━━\u001b[0m\u001b[37m\u001b[0m \u001b[1m9s\u001b[0m 9ms/step - accuracy: 0.9707 - loss: 0.0926 - val_accuracy: 0.8801 - val_loss: 0.3565\n",
            "Epoch 4/10\n",
            "\u001b[1m1000/1000\u001b[0m \u001b[32m━━━━━━━━━━━━━━━━━━━━\u001b[0m\u001b[37m\u001b[0m \u001b[1m9s\u001b[0m 9ms/step - accuracy: 0.9903 - loss: 0.0364 - val_accuracy: 0.8696 - val_loss: 0.4821\n",
            "\u001b[1m250/250\u001b[0m \u001b[32m━━━━━━━━━━━━━━━━━━━━\u001b[0m\u001b[37m\u001b[0m \u001b[1m1s\u001b[0m 2ms/step\n",
            "  Fold 3/5...\n",
            "  Building CNN with embedding_dim=50, filters1=64\n",
            "Epoch 1/10\n"
          ]
        },
        {
          "name": "stderr",
          "output_type": "stream",
          "text": [
            "c:\\Users\\ander\\Desktop\\projects\\IMDB_sentiment_analysis\\it1244\\Lib\\site-packages\\keras\\src\\layers\\core\\embedding.py:90: UserWarning: Argument `input_length` is deprecated. Just remove it.\n",
            "  warnings.warn(\n"
          ]
        },
        {
          "name": "stdout",
          "output_type": "stream",
          "text": [
            "\u001b[1m1000/1000\u001b[0m \u001b[32m━━━━━━━━━━━━━━━━━━━━\u001b[0m\u001b[37m\u001b[0m \u001b[1m10s\u001b[0m 9ms/step - accuracy: 0.7030 - loss: 0.5106 - val_accuracy: 0.8766 - val_loss: 0.2877\n",
            "Epoch 2/10\n",
            "\u001b[1m1000/1000\u001b[0m \u001b[32m━━━━━━━━━━━━━━━━━━━━\u001b[0m\u001b[37m\u001b[0m \u001b[1m9s\u001b[0m 9ms/step - accuracy: 0.9251 - loss: 0.1979 - val_accuracy: 0.8741 - val_loss: 0.3156\n",
            "Epoch 3/10\n",
            "\u001b[1m1000/1000\u001b[0m \u001b[32m━━━━━━━━━━━━━━━━━━━━\u001b[0m\u001b[37m\u001b[0m \u001b[1m9s\u001b[0m 9ms/step - accuracy: 0.9674 - loss: 0.0998 - val_accuracy: 0.8767 - val_loss: 0.3630\n",
            "Epoch 4/10\n",
            "\u001b[1m1000/1000\u001b[0m \u001b[32m━━━━━━━━━━━━━━━━━━━━\u001b[0m\u001b[37m\u001b[0m \u001b[1m9s\u001b[0m 9ms/step - accuracy: 0.9897 - loss: 0.0390 - val_accuracy: 0.8648 - val_loss: 0.4482\n",
            "Epoch 5/10\n",
            "\u001b[1m1000/1000\u001b[0m \u001b[32m━━━━━━━━━━━━━━━━━━━━\u001b[0m\u001b[37m\u001b[0m \u001b[1m9s\u001b[0m 9ms/step - accuracy: 0.9942 - loss: 0.0217 - val_accuracy: 0.8630 - val_loss: 0.6842\n",
            "\u001b[1m250/250\u001b[0m \u001b[32m━━━━━━━━━━━━━━━━━━━━\u001b[0m\u001b[37m\u001b[0m \u001b[1m1s\u001b[0m 2ms/step\n",
            "  Fold 4/5...\n",
            "  Building CNN with embedding_dim=50, filters1=64\n",
            "Epoch 1/10\n"
          ]
        },
        {
          "name": "stderr",
          "output_type": "stream",
          "text": [
            "c:\\Users\\ander\\Desktop\\projects\\IMDB_sentiment_analysis\\it1244\\Lib\\site-packages\\keras\\src\\layers\\core\\embedding.py:90: UserWarning: Argument `input_length` is deprecated. Just remove it.\n",
            "  warnings.warn(\n"
          ]
        },
        {
          "name": "stdout",
          "output_type": "stream",
          "text": [
            "\u001b[1m1000/1000\u001b[0m \u001b[32m━━━━━━━━━━━━━━━━━━━━\u001b[0m\u001b[37m\u001b[0m \u001b[1m10s\u001b[0m 9ms/step - accuracy: 0.7240 - loss: 0.4903 - val_accuracy: 0.8660 - val_loss: 0.3179\n",
            "Epoch 2/10\n",
            "\u001b[1m1000/1000\u001b[0m \u001b[32m━━━━━━━━━━━━━━━━━━━━\u001b[0m\u001b[37m\u001b[0m \u001b[1m8s\u001b[0m 8ms/step - accuracy: 0.9260 - loss: 0.1870 - val_accuracy: 0.8741 - val_loss: 0.2963\n",
            "Epoch 3/10\n",
            "\u001b[1m1000/1000\u001b[0m \u001b[32m━━━━━━━━━━━━━━━━━━━━\u001b[0m\u001b[37m\u001b[0m \u001b[1m9s\u001b[0m 9ms/step - accuracy: 0.9691 - loss: 0.0938 - val_accuracy: 0.8702 - val_loss: 0.3340\n",
            "Epoch 4/10\n",
            "\u001b[1m1000/1000\u001b[0m \u001b[32m━━━━━━━━━━━━━━━━━━━━\u001b[0m\u001b[37m\u001b[0m \u001b[1m8s\u001b[0m 8ms/step - accuracy: 0.9880 - loss: 0.0442 - val_accuracy: 0.8654 - val_loss: 0.5019\n",
            "\u001b[1m250/250\u001b[0m \u001b[32m━━━━━━━━━━━━━━━━━━━━\u001b[0m\u001b[37m\u001b[0m \u001b[1m0s\u001b[0m 2ms/step\n",
            "  Fold 5/5...\n",
            "  Building CNN with embedding_dim=50, filters1=64\n",
            "Epoch 1/10\n"
          ]
        },
        {
          "name": "stderr",
          "output_type": "stream",
          "text": [
            "c:\\Users\\ander\\Desktop\\projects\\IMDB_sentiment_analysis\\it1244\\Lib\\site-packages\\keras\\src\\layers\\core\\embedding.py:90: UserWarning: Argument `input_length` is deprecated. Just remove it.\n",
            "  warnings.warn(\n"
          ]
        },
        {
          "name": "stdout",
          "output_type": "stream",
          "text": [
            "\u001b[1m1000/1000\u001b[0m \u001b[32m━━━━━━━━━━━━━━━━━━━━\u001b[0m\u001b[37m\u001b[0m \u001b[1m10s\u001b[0m 9ms/step - accuracy: 0.7394 - loss: 0.4749 - val_accuracy: 0.8735 - val_loss: 0.2985\n",
            "Epoch 2/10\n",
            "\u001b[1m1000/1000\u001b[0m \u001b[32m━━━━━━━━━━━━━━━━━━━━\u001b[0m\u001b[37m\u001b[0m \u001b[1m9s\u001b[0m 9ms/step - accuracy: 0.9251 - loss: 0.1976 - val_accuracy: 0.8755 - val_loss: 0.3011\n",
            "Epoch 3/10\n",
            "\u001b[1m1000/1000\u001b[0m \u001b[32m━━━━━━━━━━━━━━━━━━━━\u001b[0m\u001b[37m\u001b[0m \u001b[1m9s\u001b[0m 9ms/step - accuracy: 0.9680 - loss: 0.0972 - val_accuracy: 0.8709 - val_loss: 0.3539\n",
            "Epoch 4/10\n",
            "\u001b[1m1000/1000\u001b[0m \u001b[32m━━━━━━━━━━━━━━━━━━━━\u001b[0m\u001b[37m\u001b[0m \u001b[1m9s\u001b[0m 9ms/step - accuracy: 0.9868 - loss: 0.0453 - val_accuracy: 0.8644 - val_loss: 0.5319\n",
            "\u001b[1m250/250\u001b[0m \u001b[32m━━━━━━━━━━━━━━━━━━━━\u001b[0m\u001b[37m\u001b[0m \u001b[1m0s\u001b[0m 2ms/step\n",
            "  --- Mean Validation Accuracy: 0.8781 ± 0.0034 ---\n",
            "\n",
            "--- Testing Combo 4/12: embed=50, filters1=64, lr=0.0005 ---\n",
            "  Fold 1/5...\n",
            "  Building CNN with embedding_dim=50, filters1=64\n",
            "Epoch 1/10\n"
          ]
        },
        {
          "name": "stderr",
          "output_type": "stream",
          "text": [
            "c:\\Users\\ander\\Desktop\\projects\\IMDB_sentiment_analysis\\it1244\\Lib\\site-packages\\keras\\src\\layers\\core\\embedding.py:90: UserWarning: Argument `input_length` is deprecated. Just remove it.\n",
            "  warnings.warn(\n"
          ]
        },
        {
          "name": "stdout",
          "output_type": "stream",
          "text": [
            "\u001b[1m1000/1000\u001b[0m \u001b[32m━━━━━━━━━━━━━━━━━━━━\u001b[0m\u001b[37m\u001b[0m \u001b[1m10s\u001b[0m 9ms/step - accuracy: 0.6878 - loss: 0.5221 - val_accuracy: 0.8695 - val_loss: 0.3130\n",
            "Epoch 2/10\n",
            "\u001b[1m1000/1000\u001b[0m \u001b[32m━━━━━━━━━━━━━━━━━━━━\u001b[0m\u001b[37m\u001b[0m \u001b[1m9s\u001b[0m 9ms/step - accuracy: 0.9219 - loss: 0.2053 - val_accuracy: 0.8839 - val_loss: 0.2902\n",
            "Epoch 3/10\n",
            "\u001b[1m1000/1000\u001b[0m \u001b[32m━━━━━━━━━━━━━━━━━━━━\u001b[0m\u001b[37m\u001b[0m \u001b[1m9s\u001b[0m 9ms/step - accuracy: 0.9603 - loss: 0.1199 - val_accuracy: 0.8777 - val_loss: 0.3422\n",
            "Epoch 4/10\n",
            "\u001b[1m1000/1000\u001b[0m \u001b[32m━━━━━━━━━━━━━━━━━━━━\u001b[0m\u001b[37m\u001b[0m \u001b[1m9s\u001b[0m 9ms/step - accuracy: 0.9859 - loss: 0.0518 - val_accuracy: 0.8726 - val_loss: 0.4486\n",
            "\u001b[1m250/250\u001b[0m \u001b[32m━━━━━━━━━━━━━━━━━━━━\u001b[0m\u001b[37m\u001b[0m \u001b[1m0s\u001b[0m 2ms/step\n",
            "  Fold 2/5...\n",
            "  Building CNN with embedding_dim=50, filters1=64\n",
            "Epoch 1/10\n"
          ]
        },
        {
          "name": "stderr",
          "output_type": "stream",
          "text": [
            "c:\\Users\\ander\\Desktop\\projects\\IMDB_sentiment_analysis\\it1244\\Lib\\site-packages\\keras\\src\\layers\\core\\embedding.py:90: UserWarning: Argument `input_length` is deprecated. Just remove it.\n",
            "  warnings.warn(\n"
          ]
        },
        {
          "name": "stdout",
          "output_type": "stream",
          "text": [
            "\u001b[1m1000/1000\u001b[0m \u001b[32m━━━━━━━━━━━━━━━━━━━━\u001b[0m\u001b[37m\u001b[0m \u001b[1m10s\u001b[0m 9ms/step - accuracy: 0.7022 - loss: 0.5215 - val_accuracy: 0.8790 - val_loss: 0.2841\n",
            "Epoch 2/10\n",
            "\u001b[1m1000/1000\u001b[0m \u001b[32m━━━━━━━━━━━━━━━━━━━━\u001b[0m\u001b[37m\u001b[0m \u001b[1m8s\u001b[0m 8ms/step - accuracy: 0.9184 - loss: 0.2100 - val_accuracy: 0.8809 - val_loss: 0.2824\n",
            "Epoch 3/10\n",
            "\u001b[1m1000/1000\u001b[0m \u001b[32m━━━━━━━━━━━━━━━━━━━━\u001b[0m\u001b[37m\u001b[0m \u001b[1m9s\u001b[0m 8ms/step - accuracy: 0.9569 - loss: 0.1308 - val_accuracy: 0.8765 - val_loss: 0.3345\n",
            "Epoch 4/10\n",
            "\u001b[1m1000/1000\u001b[0m \u001b[32m━━━━━━━━━━━━━━━━━━━━\u001b[0m\u001b[37m\u001b[0m \u001b[1m8s\u001b[0m 8ms/step - accuracy: 0.9846 - loss: 0.0592 - val_accuracy: 0.8754 - val_loss: 0.4236\n",
            "\u001b[1m250/250\u001b[0m \u001b[32m━━━━━━━━━━━━━━━━━━━━\u001b[0m\u001b[37m\u001b[0m \u001b[1m1s\u001b[0m 2ms/step\n",
            "  Fold 3/5...\n",
            "  Building CNN with embedding_dim=50, filters1=64\n",
            "Epoch 1/10\n"
          ]
        },
        {
          "name": "stderr",
          "output_type": "stream",
          "text": [
            "c:\\Users\\ander\\Desktop\\projects\\IMDB_sentiment_analysis\\it1244\\Lib\\site-packages\\keras\\src\\layers\\core\\embedding.py:90: UserWarning: Argument `input_length` is deprecated. Just remove it.\n",
            "  warnings.warn(\n"
          ]
        },
        {
          "name": "stdout",
          "output_type": "stream",
          "text": [
            "\u001b[1m1000/1000\u001b[0m \u001b[32m━━━━━━━━━━━━━━━━━━━━\u001b[0m\u001b[37m\u001b[0m \u001b[1m10s\u001b[0m 9ms/step - accuracy: 0.7006 - loss: 0.5140 - val_accuracy: 0.8679 - val_loss: 0.3003\n",
            "Epoch 2/10\n",
            "\u001b[1m1000/1000\u001b[0m \u001b[32m━━━━━━━━━━━━━━━━━━━━\u001b[0m\u001b[37m\u001b[0m \u001b[1m9s\u001b[0m 9ms/step - accuracy: 0.9175 - loss: 0.2140 - val_accuracy: 0.8744 - val_loss: 0.2963\n",
            "Epoch 3/10\n",
            "\u001b[1m1000/1000\u001b[0m \u001b[32m━━━━━━━━━━━━━━━━━━━━\u001b[0m\u001b[37m\u001b[0m \u001b[1m9s\u001b[0m 9ms/step - accuracy: 0.9605 - loss: 0.1194 - val_accuracy: 0.8774 - val_loss: 0.3291\n",
            "Epoch 4/10\n",
            "\u001b[1m1000/1000\u001b[0m \u001b[32m━━━━━━━━━━━━━━━━━━━━\u001b[0m\u001b[37m\u001b[0m \u001b[1m9s\u001b[0m 9ms/step - accuracy: 0.9847 - loss: 0.0570 - val_accuracy: 0.8645 - val_loss: 0.4523\n",
            "Epoch 5/10\n",
            "\u001b[1m1000/1000\u001b[0m \u001b[32m━━━━━━━━━━━━━━━━━━━━\u001b[0m\u001b[37m\u001b[0m \u001b[1m9s\u001b[0m 9ms/step - accuracy: 0.9949 - loss: 0.0229 - val_accuracy: 0.8600 - val_loss: 0.5152\n",
            "\u001b[1m250/250\u001b[0m \u001b[32m━━━━━━━━━━━━━━━━━━━━\u001b[0m\u001b[37m\u001b[0m \u001b[1m0s\u001b[0m 2ms/step\n",
            "  Fold 4/5...\n",
            "  Building CNN with embedding_dim=50, filters1=64\n",
            "Epoch 1/10\n"
          ]
        },
        {
          "name": "stderr",
          "output_type": "stream",
          "text": [
            "c:\\Users\\ander\\Desktop\\projects\\IMDB_sentiment_analysis\\it1244\\Lib\\site-packages\\keras\\src\\layers\\core\\embedding.py:90: UserWarning: Argument `input_length` is deprecated. Just remove it.\n",
            "  warnings.warn(\n"
          ]
        },
        {
          "name": "stdout",
          "output_type": "stream",
          "text": [
            "\u001b[1m1000/1000\u001b[0m \u001b[32m━━━━━━━━━━━━━━━━━━━━\u001b[0m\u001b[37m\u001b[0m \u001b[1m10s\u001b[0m 9ms/step - accuracy: 0.7008 - loss: 0.5160 - val_accuracy: 0.8810 - val_loss: 0.2911\n",
            "Epoch 2/10\n",
            "\u001b[1m1000/1000\u001b[0m \u001b[32m━━━━━━━━━━━━━━━━━━━━\u001b[0m\u001b[37m\u001b[0m \u001b[1m9s\u001b[0m 9ms/step - accuracy: 0.9221 - loss: 0.1995 - val_accuracy: 0.8780 - val_loss: 0.2925\n",
            "Epoch 3/10\n",
            "\u001b[1m1000/1000\u001b[0m \u001b[32m━━━━━━━━━━━━━━━━━━━━\u001b[0m\u001b[37m\u001b[0m \u001b[1m10s\u001b[0m 10ms/step - accuracy: 0.9582 - loss: 0.1202 - val_accuracy: 0.8730 - val_loss: 0.3433\n",
            "\u001b[1m250/250\u001b[0m \u001b[32m━━━━━━━━━━━━━━━━━━━━\u001b[0m\u001b[37m\u001b[0m \u001b[1m1s\u001b[0m 2ms/step\n",
            "  Fold 5/5...\n",
            "  Building CNN with embedding_dim=50, filters1=64\n",
            "Epoch 1/10\n"
          ]
        },
        {
          "name": "stderr",
          "output_type": "stream",
          "text": [
            "c:\\Users\\ander\\Desktop\\projects\\IMDB_sentiment_analysis\\it1244\\Lib\\site-packages\\keras\\src\\layers\\core\\embedding.py:90: UserWarning: Argument `input_length` is deprecated. Just remove it.\n",
            "  warnings.warn(\n"
          ]
        },
        {
          "name": "stdout",
          "output_type": "stream",
          "text": [
            "\u001b[1m1000/1000\u001b[0m \u001b[32m━━━━━━━━━━━━━━━━━━━━\u001b[0m\u001b[37m\u001b[0m \u001b[1m12s\u001b[0m 11ms/step - accuracy: 0.7019 - loss: 0.5193 - val_accuracy: 0.8720 - val_loss: 0.3047\n",
            "Epoch 2/10\n",
            "\u001b[1m1000/1000\u001b[0m \u001b[32m━━━━━━━━━━━━━━━━━━━━\u001b[0m\u001b[37m\u001b[0m \u001b[1m9s\u001b[0m 9ms/step - accuracy: 0.9218 - loss: 0.2061 - val_accuracy: 0.8796 - val_loss: 0.2870\n",
            "Epoch 3/10\n",
            "\u001b[1m1000/1000\u001b[0m \u001b[32m━━━━━━━━━━━━━━━━━━━━\u001b[0m\u001b[37m\u001b[0m \u001b[1m8s\u001b[0m 8ms/step - accuracy: 0.9633 - loss: 0.1114 - val_accuracy: 0.8646 - val_loss: 0.3806\n",
            "Epoch 4/10\n",
            "\u001b[1m1000/1000\u001b[0m \u001b[32m━━━━━━━━━━━━━━━━━━━━\u001b[0m\u001b[37m\u001b[0m \u001b[1m9s\u001b[0m 9ms/step - accuracy: 0.9897 - loss: 0.0422 - val_accuracy: 0.8644 - val_loss: 0.4910\n",
            "\u001b[1m250/250\u001b[0m \u001b[32m━━━━━━━━━━━━━━━━━━━━\u001b[0m\u001b[37m\u001b[0m \u001b[1m1s\u001b[0m 2ms/step\n",
            "  --- Mean Validation Accuracy: 0.8806 ± 0.0021 ---\n",
            "\n",
            "--- Testing Combo 5/12: embed=50, filters1=128, lr=0.001 ---\n",
            "  Fold 1/5...\n",
            "  Building CNN with embedding_dim=50, filters1=128\n",
            "Epoch 1/10\n"
          ]
        },
        {
          "name": "stderr",
          "output_type": "stream",
          "text": [
            "c:\\Users\\ander\\Desktop\\projects\\IMDB_sentiment_analysis\\it1244\\Lib\\site-packages\\keras\\src\\layers\\core\\embedding.py:90: UserWarning: Argument `input_length` is deprecated. Just remove it.\n",
            "  warnings.warn(\n"
          ]
        },
        {
          "name": "stdout",
          "output_type": "stream",
          "text": [
            "\u001b[1m1000/1000\u001b[0m \u001b[32m━━━━━━━━━━━━━━━━━━━━\u001b[0m\u001b[37m\u001b[0m \u001b[1m13s\u001b[0m 12ms/step - accuracy: 0.7568 - loss: 0.4569 - val_accuracy: 0.8770 - val_loss: 0.2944\n",
            "Epoch 2/10\n",
            "\u001b[1m1000/1000\u001b[0m \u001b[32m━━━━━━━━━━━━━━━━━━━━\u001b[0m\u001b[37m\u001b[0m \u001b[1m13s\u001b[0m 13ms/step - accuracy: 0.9232 - loss: 0.1979 - val_accuracy: 0.8665 - val_loss: 0.3293\n",
            "Epoch 3/10\n",
            "\u001b[1m1000/1000\u001b[0m \u001b[32m━━━━━━━━━━━━━━━━━━━━\u001b[0m\u001b[37m\u001b[0m \u001b[1m12s\u001b[0m 12ms/step - accuracy: 0.9637 - loss: 0.1086 - val_accuracy: 0.8765 - val_loss: 0.3475\n",
            "\u001b[1m250/250\u001b[0m \u001b[32m━━━━━━━━━━━━━━━━━━━━\u001b[0m\u001b[37m\u001b[0m \u001b[1m1s\u001b[0m 3ms/step\n",
            "  Fold 2/5...\n",
            "  Building CNN with embedding_dim=50, filters1=128\n",
            "Epoch 1/10\n"
          ]
        },
        {
          "name": "stderr",
          "output_type": "stream",
          "text": [
            "c:\\Users\\ander\\Desktop\\projects\\IMDB_sentiment_analysis\\it1244\\Lib\\site-packages\\keras\\src\\layers\\core\\embedding.py:90: UserWarning: Argument `input_length` is deprecated. Just remove it.\n",
            "  warnings.warn(\n"
          ]
        },
        {
          "name": "stdout",
          "output_type": "stream",
          "text": [
            "\u001b[1m1000/1000\u001b[0m \u001b[32m━━━━━━━━━━━━━━━━━━━━\u001b[0m\u001b[37m\u001b[0m \u001b[1m13s\u001b[0m 12ms/step - accuracy: 0.7236 - loss: 0.4821 - val_accuracy: 0.8756 - val_loss: 0.2933\n",
            "Epoch 2/10\n",
            "\u001b[1m1000/1000\u001b[0m \u001b[32m━━━━━━━━━━━━━━━━━━━━\u001b[0m\u001b[37m\u001b[0m \u001b[1m12s\u001b[0m 12ms/step - accuracy: 0.9205 - loss: 0.2058 - val_accuracy: 0.8820 - val_loss: 0.2889\n",
            "Epoch 3/10\n",
            "\u001b[1m1000/1000\u001b[0m \u001b[32m━━━━━━━━━━━━━━━━━━━━\u001b[0m\u001b[37m\u001b[0m \u001b[1m12s\u001b[0m 12ms/step - accuracy: 0.9641 - loss: 0.1083 - val_accuracy: 0.8725 - val_loss: 0.3398\n",
            "Epoch 4/10\n",
            "\u001b[1m1000/1000\u001b[0m \u001b[32m━━━━━━━━━━━━━━━━━━━━\u001b[0m\u001b[37m\u001b[0m \u001b[1m12s\u001b[0m 12ms/step - accuracy: 0.9844 - loss: 0.0515 - val_accuracy: 0.8773 - val_loss: 0.4638\n",
            "\u001b[1m250/250\u001b[0m \u001b[32m━━━━━━━━━━━━━━━━━━━━\u001b[0m\u001b[37m\u001b[0m \u001b[1m1s\u001b[0m 3ms/step\n",
            "  Fold 3/5...\n",
            "  Building CNN with embedding_dim=50, filters1=128\n",
            "Epoch 1/10\n"
          ]
        },
        {
          "name": "stderr",
          "output_type": "stream",
          "text": [
            "c:\\Users\\ander\\Desktop\\projects\\IMDB_sentiment_analysis\\it1244\\Lib\\site-packages\\keras\\src\\layers\\core\\embedding.py:90: UserWarning: Argument `input_length` is deprecated. Just remove it.\n",
            "  warnings.warn(\n"
          ]
        },
        {
          "name": "stdout",
          "output_type": "stream",
          "text": [
            "\u001b[1m1000/1000\u001b[0m \u001b[32m━━━━━━━━━━━━━━━━━━━━\u001b[0m\u001b[37m\u001b[0m \u001b[1m14s\u001b[0m 12ms/step - accuracy: 0.7483 - loss: 0.4668 - val_accuracy: 0.8780 - val_loss: 0.2868\n",
            "Epoch 2/10\n",
            "\u001b[1m1000/1000\u001b[0m \u001b[32m━━━━━━━━━━━━━━━━━━━━\u001b[0m\u001b[37m\u001b[0m \u001b[1m12s\u001b[0m 12ms/step - accuracy: 0.9245 - loss: 0.1952 - val_accuracy: 0.8771 - val_loss: 0.2963\n",
            "Epoch 3/10\n",
            "\u001b[1m1000/1000\u001b[0m \u001b[32m━━━━━━━━━━━━━━━━━━━━\u001b[0m\u001b[37m\u001b[0m \u001b[1m12s\u001b[0m 12ms/step - accuracy: 0.9662 - loss: 0.1003 - val_accuracy: 0.8687 - val_loss: 0.3591\n",
            "\u001b[1m250/250\u001b[0m \u001b[32m━━━━━━━━━━━━━━━━━━━━\u001b[0m\u001b[37m\u001b[0m \u001b[1m1s\u001b[0m 3ms/step\n",
            "  Fold 4/5...\n",
            "  Building CNN with embedding_dim=50, filters1=128\n",
            "Epoch 1/10\n"
          ]
        },
        {
          "name": "stderr",
          "output_type": "stream",
          "text": [
            "c:\\Users\\ander\\Desktop\\projects\\IMDB_sentiment_analysis\\it1244\\Lib\\site-packages\\keras\\src\\layers\\core\\embedding.py:90: UserWarning: Argument `input_length` is deprecated. Just remove it.\n",
            "  warnings.warn(\n"
          ]
        },
        {
          "name": "stdout",
          "output_type": "stream",
          "text": [
            "\u001b[1m1000/1000\u001b[0m \u001b[32m━━━━━━━━━━━━━━━━━━━━\u001b[0m\u001b[37m\u001b[0m \u001b[1m13s\u001b[0m 12ms/step - accuracy: 0.7443 - loss: 0.4663 - val_accuracy: 0.8809 - val_loss: 0.2910\n",
            "Epoch 2/10\n",
            "\u001b[1m1000/1000\u001b[0m \u001b[32m━━━━━━━━━━━━━━━━━━━━\u001b[0m\u001b[37m\u001b[0m \u001b[1m12s\u001b[0m 12ms/step - accuracy: 0.9290 - loss: 0.1912 - val_accuracy: 0.8751 - val_loss: 0.3047\n",
            "Epoch 3/10\n",
            "\u001b[1m1000/1000\u001b[0m \u001b[32m━━━━━━━━━━━━━━━━━━━━\u001b[0m\u001b[37m\u001b[0m \u001b[1m12s\u001b[0m 12ms/step - accuracy: 0.9680 - loss: 0.0978 - val_accuracy: 0.8687 - val_loss: 0.3944\n",
            "\u001b[1m250/250\u001b[0m \u001b[32m━━━━━━━━━━━━━━━━━━━━\u001b[0m\u001b[37m\u001b[0m \u001b[1m1s\u001b[0m 3ms/step\n",
            "  Fold 5/5...\n",
            "  Building CNN with embedding_dim=50, filters1=128\n",
            "Epoch 1/10\n"
          ]
        },
        {
          "name": "stderr",
          "output_type": "stream",
          "text": [
            "c:\\Users\\ander\\Desktop\\projects\\IMDB_sentiment_analysis\\it1244\\Lib\\site-packages\\keras\\src\\layers\\core\\embedding.py:90: UserWarning: Argument `input_length` is deprecated. Just remove it.\n",
            "  warnings.warn(\n"
          ]
        },
        {
          "name": "stdout",
          "output_type": "stream",
          "text": [
            "\u001b[1m1000/1000\u001b[0m \u001b[32m━━━━━━━━━━━━━━━━━━━━\u001b[0m\u001b[37m\u001b[0m \u001b[1m13s\u001b[0m 12ms/step - accuracy: 0.7443 - loss: 0.4734 - val_accuracy: 0.8817 - val_loss: 0.2844\n",
            "Epoch 2/10\n",
            "\u001b[1m1000/1000\u001b[0m \u001b[32m━━━━━━━━━━━━━━━━━━━━\u001b[0m\u001b[37m\u001b[0m \u001b[1m12s\u001b[0m 12ms/step - accuracy: 0.9250 - loss: 0.1952 - val_accuracy: 0.8740 - val_loss: 0.3118\n",
            "Epoch 3/10\n",
            "\u001b[1m1000/1000\u001b[0m \u001b[32m━━━━━━━━━━━━━━━━━━━━\u001b[0m\u001b[37m\u001b[0m \u001b[1m12s\u001b[0m 12ms/step - accuracy: 0.9642 - loss: 0.1065 - val_accuracy: 0.8754 - val_loss: 0.3640\n",
            "\u001b[1m250/250\u001b[0m \u001b[32m━━━━━━━━━━━━━━━━━━━━\u001b[0m\u001b[37m\u001b[0m \u001b[1m1s\u001b[0m 3ms/step\n",
            "  --- Mean Validation Accuracy: 0.8799 ± 0.0020 ---\n",
            "\n",
            "--- Testing Combo 6/12: embed=50, filters1=128, lr=0.0005 ---\n",
            "  Fold 1/5...\n",
            "  Building CNN with embedding_dim=50, filters1=128\n",
            "Epoch 1/10\n"
          ]
        },
        {
          "name": "stderr",
          "output_type": "stream",
          "text": [
            "c:\\Users\\ander\\Desktop\\projects\\IMDB_sentiment_analysis\\it1244\\Lib\\site-packages\\keras\\src\\layers\\core\\embedding.py:90: UserWarning: Argument `input_length` is deprecated. Just remove it.\n",
            "  warnings.warn(\n"
          ]
        },
        {
          "name": "stdout",
          "output_type": "stream",
          "text": [
            "\u001b[1m1000/1000\u001b[0m \u001b[32m━━━━━━━━━━━━━━━━━━━━\u001b[0m\u001b[37m\u001b[0m \u001b[1m13s\u001b[0m 12ms/step - accuracy: 0.6961 - loss: 0.5143 - val_accuracy: 0.8761 - val_loss: 0.2995\n",
            "Epoch 2/10\n",
            "\u001b[1m1000/1000\u001b[0m \u001b[32m━━━━━━━━━━━━━━━━━━━━\u001b[0m\u001b[37m\u001b[0m \u001b[1m13s\u001b[0m 13ms/step - accuracy: 0.9176 - loss: 0.2122 - val_accuracy: 0.8786 - val_loss: 0.2947\n",
            "Epoch 3/10\n",
            "\u001b[1m1000/1000\u001b[0m \u001b[32m━━━━━━━━━━━━━━━━━━━━\u001b[0m\u001b[37m\u001b[0m \u001b[1m12s\u001b[0m 12ms/step - accuracy: 0.9565 - loss: 0.1277 - val_accuracy: 0.8758 - val_loss: 0.3519\n",
            "Epoch 4/10\n",
            "\u001b[1m1000/1000\u001b[0m \u001b[32m━━━━━━━━━━━━━━━━━━━━\u001b[0m\u001b[37m\u001b[0m \u001b[1m12s\u001b[0m 12ms/step - accuracy: 0.9825 - loss: 0.0586 - val_accuracy: 0.8712 - val_loss: 0.4188\n",
            "\u001b[1m250/250\u001b[0m \u001b[32m━━━━━━━━━━━━━━━━━━━━\u001b[0m\u001b[37m\u001b[0m \u001b[1m1s\u001b[0m 3ms/step\n",
            "  Fold 2/5...\n",
            "  Building CNN with embedding_dim=50, filters1=128\n",
            "Epoch 1/10\n"
          ]
        },
        {
          "name": "stderr",
          "output_type": "stream",
          "text": [
            "c:\\Users\\ander\\Desktop\\projects\\IMDB_sentiment_analysis\\it1244\\Lib\\site-packages\\keras\\src\\layers\\core\\embedding.py:90: UserWarning: Argument `input_length` is deprecated. Just remove it.\n",
            "  warnings.warn(\n"
          ]
        },
        {
          "name": "stdout",
          "output_type": "stream",
          "text": [
            "\u001b[1m1000/1000\u001b[0m \u001b[32m━━━━━━━━━━━━━━━━━━━━\u001b[0m\u001b[37m\u001b[0m \u001b[1m14s\u001b[0m 13ms/step - accuracy: 0.7167 - loss: 0.5043 - val_accuracy: 0.8748 - val_loss: 0.2862\n",
            "Epoch 2/10\n",
            "\u001b[1m1000/1000\u001b[0m \u001b[32m━━━━━━━━━━━━━━━━━━━━\u001b[0m\u001b[37m\u001b[0m \u001b[1m13s\u001b[0m 12ms/step - accuracy: 0.9180 - loss: 0.2126 - val_accuracy: 0.8832 - val_loss: 0.2808\n",
            "Epoch 3/10\n",
            "\u001b[1m1000/1000\u001b[0m \u001b[32m━━━━━━━━━━━━━━━━━━━━\u001b[0m\u001b[37m\u001b[0m \u001b[1m12s\u001b[0m 12ms/step - accuracy: 0.9592 - loss: 0.1230 - val_accuracy: 0.8680 - val_loss: 0.3500\n",
            "Epoch 4/10\n",
            "\u001b[1m1000/1000\u001b[0m \u001b[32m━━━━━━━━━━━━━━━━━━━━\u001b[0m\u001b[37m\u001b[0m \u001b[1m13s\u001b[0m 13ms/step - accuracy: 0.9837 - loss: 0.0572 - val_accuracy: 0.8709 - val_loss: 0.4098\n",
            "\u001b[1m250/250\u001b[0m \u001b[32m━━━━━━━━━━━━━━━━━━━━\u001b[0m\u001b[37m\u001b[0m \u001b[1m1s\u001b[0m 3ms/step\n",
            "  Fold 3/5...\n",
            "  Building CNN with embedding_dim=50, filters1=128\n",
            "Epoch 1/10\n"
          ]
        },
        {
          "name": "stderr",
          "output_type": "stream",
          "text": [
            "c:\\Users\\ander\\Desktop\\projects\\IMDB_sentiment_analysis\\it1244\\Lib\\site-packages\\keras\\src\\layers\\core\\embedding.py:90: UserWarning: Argument `input_length` is deprecated. Just remove it.\n",
            "  warnings.warn(\n"
          ]
        },
        {
          "name": "stdout",
          "output_type": "stream",
          "text": [
            "\u001b[1m1000/1000\u001b[0m \u001b[32m━━━━━━━━━━━━━━━━━━━━\u001b[0m\u001b[37m\u001b[0m \u001b[1m14s\u001b[0m 13ms/step - accuracy: 0.6981 - loss: 0.5170 - val_accuracy: 0.8733 - val_loss: 0.2957\n",
            "Epoch 2/10\n",
            "\u001b[1m1000/1000\u001b[0m \u001b[32m━━━━━━━━━━━━━━━━━━━━\u001b[0m\u001b[37m\u001b[0m \u001b[1m12s\u001b[0m 12ms/step - accuracy: 0.9213 - loss: 0.2075 - val_accuracy: 0.8755 - val_loss: 0.2928\n",
            "Epoch 3/10\n",
            "\u001b[1m1000/1000\u001b[0m \u001b[32m━━━━━━━━━━━━━━━━━━━━\u001b[0m\u001b[37m\u001b[0m \u001b[1m12s\u001b[0m 12ms/step - accuracy: 0.9566 - loss: 0.1274 - val_accuracy: 0.8720 - val_loss: 0.3403\n",
            "Epoch 4/10\n",
            "\u001b[1m1000/1000\u001b[0m \u001b[32m━━━━━━━━━━━━━━━━━━━━\u001b[0m\u001b[37m\u001b[0m \u001b[1m12s\u001b[0m 12ms/step - accuracy: 0.9842 - loss: 0.0598 - val_accuracy: 0.8571 - val_loss: 0.4473\n",
            "\u001b[1m250/250\u001b[0m \u001b[32m━━━━━━━━━━━━━━━━━━━━\u001b[0m\u001b[37m\u001b[0m \u001b[1m1s\u001b[0m 4ms/step\n",
            "  Fold 4/5...\n",
            "  Building CNN with embedding_dim=50, filters1=128\n",
            "Epoch 1/10\n"
          ]
        },
        {
          "name": "stderr",
          "output_type": "stream",
          "text": [
            "c:\\Users\\ander\\Desktop\\projects\\IMDB_sentiment_analysis\\it1244\\Lib\\site-packages\\keras\\src\\layers\\core\\embedding.py:90: UserWarning: Argument `input_length` is deprecated. Just remove it.\n",
            "  warnings.warn(\n"
          ]
        },
        {
          "name": "stdout",
          "output_type": "stream",
          "text": [
            "\u001b[1m1000/1000\u001b[0m \u001b[32m━━━━━━━━━━━━━━━━━━━━\u001b[0m\u001b[37m\u001b[0m \u001b[1m14s\u001b[0m 13ms/step - accuracy: 0.7131 - loss: 0.5031 - val_accuracy: 0.8752 - val_loss: 0.2912\n",
            "Epoch 2/10\n",
            "\u001b[1m1000/1000\u001b[0m \u001b[32m━━━━━━━━━━━━━━━━━━━━\u001b[0m\u001b[37m\u001b[0m \u001b[1m12s\u001b[0m 12ms/step - accuracy: 0.9205 - loss: 0.2059 - val_accuracy: 0.8774 - val_loss: 0.2906\n",
            "Epoch 3/10\n",
            "\u001b[1m1000/1000\u001b[0m \u001b[32m━━━━━━━━━━━━━━━━━━━━\u001b[0m\u001b[37m\u001b[0m \u001b[1m12s\u001b[0m 12ms/step - accuracy: 0.9611 - loss: 0.1187 - val_accuracy: 0.8698 - val_loss: 0.3378\n",
            "Epoch 4/10\n",
            "\u001b[1m1000/1000\u001b[0m \u001b[32m━━━━━━━━━━━━━━━━━━━━\u001b[0m\u001b[37m\u001b[0m \u001b[1m12s\u001b[0m 12ms/step - accuracy: 0.9819 - loss: 0.0638 - val_accuracy: 0.8648 - val_loss: 0.4455\n",
            "\u001b[1m250/250\u001b[0m \u001b[32m━━━━━━━━━━━━━━━━━━━━\u001b[0m\u001b[37m\u001b[0m \u001b[1m1s\u001b[0m 3ms/step\n",
            "  Fold 5/5...\n",
            "  Building CNN with embedding_dim=50, filters1=128\n",
            "Epoch 1/10\n"
          ]
        },
        {
          "name": "stderr",
          "output_type": "stream",
          "text": [
            "c:\\Users\\ander\\Desktop\\projects\\IMDB_sentiment_analysis\\it1244\\Lib\\site-packages\\keras\\src\\layers\\core\\embedding.py:90: UserWarning: Argument `input_length` is deprecated. Just remove it.\n",
            "  warnings.warn(\n"
          ]
        },
        {
          "name": "stdout",
          "output_type": "stream",
          "text": [
            "\u001b[1m1000/1000\u001b[0m \u001b[32m━━━━━━━━━━━━━━━━━━━━\u001b[0m\u001b[37m\u001b[0m \u001b[1m13s\u001b[0m 12ms/step - accuracy: 0.7046 - loss: 0.5066 - val_accuracy: 0.8814 - val_loss: 0.2919\n",
            "Epoch 2/10\n",
            "\u001b[1m1000/1000\u001b[0m \u001b[32m━━━━━━━━━━━━━━━━━━━━\u001b[0m\u001b[37m\u001b[0m \u001b[1m12s\u001b[0m 12ms/step - accuracy: 0.9207 - loss: 0.2117 - val_accuracy: 0.8589 - val_loss: 0.3405\n",
            "Epoch 3/10\n",
            "\u001b[1m1000/1000\u001b[0m \u001b[32m━━━━━━━━━━━━━━━━━━━━\u001b[0m\u001b[37m\u001b[0m \u001b[1m12s\u001b[0m 12ms/step - accuracy: 0.9566 - loss: 0.1264 - val_accuracy: 0.8758 - val_loss: 0.3398\n",
            "\u001b[1m250/250\u001b[0m \u001b[32m━━━━━━━━━━━━━━━━━━━━\u001b[0m\u001b[37m\u001b[0m \u001b[1m1s\u001b[0m 3ms/step\n",
            "  --- Mean Validation Accuracy: 0.8792 ± 0.0028 ---\n",
            "\n",
            "--- Testing Combo 7/12: embed=100, filters1=32, lr=0.001 ---\n",
            "  Fold 1/5...\n",
            "  Building CNN with embedding_dim=100, filters1=32\n",
            "Epoch 1/10\n"
          ]
        },
        {
          "name": "stderr",
          "output_type": "stream",
          "text": [
            "c:\\Users\\ander\\Desktop\\projects\\IMDB_sentiment_analysis\\it1244\\Lib\\site-packages\\keras\\src\\layers\\core\\embedding.py:90: UserWarning: Argument `input_length` is deprecated. Just remove it.\n",
            "  warnings.warn(\n"
          ]
        },
        {
          "name": "stdout",
          "output_type": "stream",
          "text": [
            "\u001b[1m1000/1000\u001b[0m \u001b[32m━━━━━━━━━━━━━━━━━━━━\u001b[0m\u001b[37m\u001b[0m \u001b[1m14s\u001b[0m 13ms/step - accuracy: 0.7392 - loss: 0.4715 - val_accuracy: 0.8708 - val_loss: 0.3085\n",
            "Epoch 2/10\n",
            "\u001b[1m1000/1000\u001b[0m \u001b[32m━━━━━━━━━━━━━━━━━━━━\u001b[0m\u001b[37m\u001b[0m \u001b[1m13s\u001b[0m 13ms/step - accuracy: 0.9334 - loss: 0.1777 - val_accuracy: 0.8760 - val_loss: 0.3132\n",
            "Epoch 3/10\n",
            "\u001b[1m1000/1000\u001b[0m \u001b[32m━━━━━━━━━━━━━━━━━━━━\u001b[0m\u001b[37m\u001b[0m \u001b[1m14s\u001b[0m 14ms/step - accuracy: 0.9790 - loss: 0.0684 - val_accuracy: 0.8731 - val_loss: 0.4056\n",
            "Epoch 4/10\n",
            "\u001b[1m1000/1000\u001b[0m \u001b[32m━━━━━━━━━━━━━━━━━━━━\u001b[0m\u001b[37m\u001b[0m \u001b[1m13s\u001b[0m 13ms/step - accuracy: 0.9935 - loss: 0.0226 - val_accuracy: 0.8629 - val_loss: 0.5409\n",
            "\u001b[1m250/250\u001b[0m \u001b[32m━━━━━━━━━━━━━━━━━━━━\u001b[0m\u001b[37m\u001b[0m \u001b[1m0s\u001b[0m 2ms/step\n",
            "  Fold 2/5...\n",
            "  Building CNN with embedding_dim=100, filters1=32\n",
            "Epoch 1/10\n"
          ]
        },
        {
          "name": "stderr",
          "output_type": "stream",
          "text": [
            "c:\\Users\\ander\\Desktop\\projects\\IMDB_sentiment_analysis\\it1244\\Lib\\site-packages\\keras\\src\\layers\\core\\embedding.py:90: UserWarning: Argument `input_length` is deprecated. Just remove it.\n",
            "  warnings.warn(\n"
          ]
        },
        {
          "name": "stdout",
          "output_type": "stream",
          "text": [
            "\u001b[1m1000/1000\u001b[0m \u001b[32m━━━━━━━━━━━━━━━━━━━━\u001b[0m\u001b[37m\u001b[0m \u001b[1m15s\u001b[0m 13ms/step - accuracy: 0.7235 - loss: 0.4819 - val_accuracy: 0.8851 - val_loss: 0.2768\n",
            "Epoch 2/10\n",
            "\u001b[1m1000/1000\u001b[0m \u001b[32m━━━━━━━━━━━━━━━━━━━━\u001b[0m\u001b[37m\u001b[0m \u001b[1m13s\u001b[0m 13ms/step - accuracy: 0.9350 - loss: 0.1794 - val_accuracy: 0.8823 - val_loss: 0.2910\n",
            "Epoch 3/10\n",
            "\u001b[1m1000/1000\u001b[0m \u001b[32m━━━━━━━━━━━━━━━━━━━━\u001b[0m\u001b[37m\u001b[0m \u001b[1m13s\u001b[0m 13ms/step - accuracy: 0.9762 - loss: 0.0794 - val_accuracy: 0.8662 - val_loss: 0.3787\n",
            "\u001b[1m250/250\u001b[0m \u001b[32m━━━━━━━━━━━━━━━━━━━━\u001b[0m\u001b[37m\u001b[0m \u001b[1m0s\u001b[0m 2ms/step\n",
            "  Fold 3/5...\n",
            "  Building CNN with embedding_dim=100, filters1=32\n",
            "Epoch 1/10\n"
          ]
        },
        {
          "name": "stderr",
          "output_type": "stream",
          "text": [
            "c:\\Users\\ander\\Desktop\\projects\\IMDB_sentiment_analysis\\it1244\\Lib\\site-packages\\keras\\src\\layers\\core\\embedding.py:90: UserWarning: Argument `input_length` is deprecated. Just remove it.\n",
            "  warnings.warn(\n"
          ]
        },
        {
          "name": "stdout",
          "output_type": "stream",
          "text": [
            "\u001b[1m1000/1000\u001b[0m \u001b[32m━━━━━━━━━━━━━━━━━━━━\u001b[0m\u001b[37m\u001b[0m \u001b[1m15s\u001b[0m 14ms/step - accuracy: 0.7410 - loss: 0.4649 - val_accuracy: 0.8804 - val_loss: 0.2812\n",
            "Epoch 2/10\n",
            "\u001b[1m1000/1000\u001b[0m \u001b[32m━━━━━━━━━━━━━━━━━━━━\u001b[0m\u001b[37m\u001b[0m \u001b[1m14s\u001b[0m 14ms/step - accuracy: 0.9323 - loss: 0.1758 - val_accuracy: 0.8736 - val_loss: 0.3093\n",
            "Epoch 3/10\n",
            "\u001b[1m1000/1000\u001b[0m \u001b[32m━━━━━━━━━━━━━━━━━━━━\u001b[0m\u001b[37m\u001b[0m \u001b[1m14s\u001b[0m 14ms/step - accuracy: 0.9768 - loss: 0.0721 - val_accuracy: 0.8752 - val_loss: 0.3841\n",
            "\u001b[1m250/250\u001b[0m \u001b[32m━━━━━━━━━━━━━━━━━━━━\u001b[0m\u001b[37m\u001b[0m \u001b[1m0s\u001b[0m 2ms/step\n",
            "  Fold 4/5...\n",
            "  Building CNN with embedding_dim=100, filters1=32\n",
            "Epoch 1/10\n"
          ]
        },
        {
          "name": "stderr",
          "output_type": "stream",
          "text": [
            "c:\\Users\\ander\\Desktop\\projects\\IMDB_sentiment_analysis\\it1244\\Lib\\site-packages\\keras\\src\\layers\\core\\embedding.py:90: UserWarning: Argument `input_length` is deprecated. Just remove it.\n",
            "  warnings.warn(\n"
          ]
        },
        {
          "name": "stdout",
          "output_type": "stream",
          "text": [
            "\u001b[1m1000/1000\u001b[0m \u001b[32m━━━━━━━━━━━━━━━━━━━━\u001b[0m\u001b[37m\u001b[0m \u001b[1m15s\u001b[0m 14ms/step - accuracy: 0.7558 - loss: 0.4531 - val_accuracy: 0.8783 - val_loss: 0.2859\n",
            "Epoch 2/10\n",
            "\u001b[1m1000/1000\u001b[0m \u001b[32m━━━━━━━━━━━━━━━━━━━━\u001b[0m\u001b[37m\u001b[0m \u001b[1m14s\u001b[0m 14ms/step - accuracy: 0.9356 - loss: 0.1764 - val_accuracy: 0.8572 - val_loss: 0.3562\n",
            "Epoch 3/10\n",
            "\u001b[1m1000/1000\u001b[0m \u001b[32m━━━━━━━━━━━━━━━━━━━━\u001b[0m\u001b[37m\u001b[0m \u001b[1m14s\u001b[0m 14ms/step - accuracy: 0.9781 - loss: 0.0682 - val_accuracy: 0.8740 - val_loss: 0.4014\n",
            "\u001b[1m250/250\u001b[0m \u001b[32m━━━━━━━━━━━━━━━━━━━━\u001b[0m\u001b[37m\u001b[0m \u001b[1m1s\u001b[0m 2ms/step\n",
            "  Fold 5/5...\n",
            "  Building CNN with embedding_dim=100, filters1=32\n",
            "Epoch 1/10\n"
          ]
        },
        {
          "name": "stderr",
          "output_type": "stream",
          "text": [
            "c:\\Users\\ander\\Desktop\\projects\\IMDB_sentiment_analysis\\it1244\\Lib\\site-packages\\keras\\src\\layers\\core\\embedding.py:90: UserWarning: Argument `input_length` is deprecated. Just remove it.\n",
            "  warnings.warn(\n"
          ]
        },
        {
          "name": "stdout",
          "output_type": "stream",
          "text": [
            "\u001b[1m1000/1000\u001b[0m \u001b[32m━━━━━━━━━━━━━━━━━━━━\u001b[0m\u001b[37m\u001b[0m \u001b[1m15s\u001b[0m 14ms/step - accuracy: 0.7437 - loss: 0.4648 - val_accuracy: 0.8849 - val_loss: 0.2839\n",
            "Epoch 2/10\n",
            "\u001b[1m1000/1000\u001b[0m \u001b[32m━━━━━━━━━━━━━━━━━━━━\u001b[0m\u001b[37m\u001b[0m \u001b[1m14s\u001b[0m 14ms/step - accuracy: 0.9343 - loss: 0.1780 - val_accuracy: 0.8586 - val_loss: 0.3507\n",
            "Epoch 3/10\n",
            "\u001b[1m1000/1000\u001b[0m \u001b[32m━━━━━━━━━━━━━━━━━━━━\u001b[0m\u001b[37m\u001b[0m \u001b[1m14s\u001b[0m 14ms/step - accuracy: 0.9781 - loss: 0.0729 - val_accuracy: 0.8635 - val_loss: 0.4086\n",
            "\u001b[1m250/250\u001b[0m \u001b[32m━━━━━━━━━━━━━━━━━━━━\u001b[0m\u001b[37m\u001b[0m \u001b[1m1s\u001b[0m 2ms/step\n",
            "  --- Mean Validation Accuracy: 0.8809 ± 0.0036 ---\n",
            "\n",
            "--- Testing Combo 8/12: embed=100, filters1=32, lr=0.0005 ---\n",
            "  Fold 1/5...\n",
            "  Building CNN with embedding_dim=100, filters1=32\n",
            "Epoch 1/10\n"
          ]
        },
        {
          "name": "stderr",
          "output_type": "stream",
          "text": [
            "c:\\Users\\ander\\Desktop\\projects\\IMDB_sentiment_analysis\\it1244\\Lib\\site-packages\\keras\\src\\layers\\core\\embedding.py:90: UserWarning: Argument `input_length` is deprecated. Just remove it.\n",
            "  warnings.warn(\n"
          ]
        },
        {
          "name": "stdout",
          "output_type": "stream",
          "text": [
            "\u001b[1m1000/1000\u001b[0m \u001b[32m━━━━━━━━━━━━━━━━━━━━\u001b[0m\u001b[37m\u001b[0m \u001b[1m15s\u001b[0m 14ms/step - accuracy: 0.7250 - loss: 0.4927 - val_accuracy: 0.8644 - val_loss: 0.3170\n",
            "Epoch 2/10\n",
            "\u001b[1m1000/1000\u001b[0m \u001b[32m━━━━━━━━━━━━━━━━━━━━\u001b[0m\u001b[37m\u001b[0m \u001b[1m14s\u001b[0m 14ms/step - accuracy: 0.9255 - loss: 0.1993 - val_accuracy: 0.8775 - val_loss: 0.3098\n",
            "Epoch 3/10\n",
            "\u001b[1m1000/1000\u001b[0m \u001b[32m━━━━━━━━━━━━━━━━━━━━\u001b[0m\u001b[37m\u001b[0m \u001b[1m14s\u001b[0m 14ms/step - accuracy: 0.9698 - loss: 0.0978 - val_accuracy: 0.8776 - val_loss: 0.3667\n",
            "Epoch 4/10\n",
            "\u001b[1m1000/1000\u001b[0m \u001b[32m━━━━━━━━━━━━━━━━━━━━\u001b[0m\u001b[37m\u001b[0m \u001b[1m14s\u001b[0m 14ms/step - accuracy: 0.9927 - loss: 0.0302 - val_accuracy: 0.8684 - val_loss: 0.5330\n",
            "Epoch 5/10\n",
            "\u001b[1m1000/1000\u001b[0m \u001b[32m━━━━━━━━━━━━━━━━━━━━\u001b[0m\u001b[37m\u001b[0m \u001b[1m14s\u001b[0m 14ms/step - accuracy: 0.9980 - loss: 0.0084 - val_accuracy: 0.8709 - val_loss: 0.6396\n",
            "\u001b[1m250/250\u001b[0m \u001b[32m━━━━━━━━━━━━━━━━━━━━\u001b[0m\u001b[37m\u001b[0m \u001b[1m1s\u001b[0m 2ms/step\n",
            "  Fold 2/5...\n",
            "  Building CNN with embedding_dim=100, filters1=32\n",
            "Epoch 1/10\n"
          ]
        },
        {
          "name": "stderr",
          "output_type": "stream",
          "text": [
            "c:\\Users\\ander\\Desktop\\projects\\IMDB_sentiment_analysis\\it1244\\Lib\\site-packages\\keras\\src\\layers\\core\\embedding.py:90: UserWarning: Argument `input_length` is deprecated. Just remove it.\n",
            "  warnings.warn(\n"
          ]
        },
        {
          "name": "stdout",
          "output_type": "stream",
          "text": [
            "\u001b[1m1000/1000\u001b[0m \u001b[32m━━━━━━━━━━━━━━━━━━━━\u001b[0m\u001b[37m\u001b[0m \u001b[1m15s\u001b[0m 14ms/step - accuracy: 0.7200 - loss: 0.4976 - val_accuracy: 0.8834 - val_loss: 0.2811\n",
            "Epoch 2/10\n",
            "\u001b[1m1000/1000\u001b[0m \u001b[32m━━━━━━━━━━━━━━━━━━━━\u001b[0m\u001b[37m\u001b[0m \u001b[1m14s\u001b[0m 14ms/step - accuracy: 0.9277 - loss: 0.1925 - val_accuracy: 0.8801 - val_loss: 0.2998\n",
            "Epoch 3/10\n",
            "\u001b[1m1000/1000\u001b[0m \u001b[32m━━━━━━━━━━━━━━━━━━━━\u001b[0m\u001b[37m\u001b[0m \u001b[1m14s\u001b[0m 14ms/step - accuracy: 0.9729 - loss: 0.0917 - val_accuracy: 0.8785 - val_loss: 0.3607\n",
            "\u001b[1m250/250\u001b[0m \u001b[32m━━━━━━━━━━━━━━━━━━━━\u001b[0m\u001b[37m\u001b[0m \u001b[1m0s\u001b[0m 2ms/step\n",
            "  Fold 3/5...\n",
            "  Building CNN with embedding_dim=100, filters1=32\n",
            "Epoch 1/10\n"
          ]
        },
        {
          "name": "stderr",
          "output_type": "stream",
          "text": [
            "c:\\Users\\ander\\Desktop\\projects\\IMDB_sentiment_analysis\\it1244\\Lib\\site-packages\\keras\\src\\layers\\core\\embedding.py:90: UserWarning: Argument `input_length` is deprecated. Just remove it.\n",
            "  warnings.warn(\n"
          ]
        },
        {
          "name": "stdout",
          "output_type": "stream",
          "text": [
            "\u001b[1m1000/1000\u001b[0m \u001b[32m━━━━━━━━━━━━━━━━━━━━\u001b[0m\u001b[37m\u001b[0m \u001b[1m15s\u001b[0m 14ms/step - accuracy: 0.7027 - loss: 0.5109 - val_accuracy: 0.8660 - val_loss: 0.3102\n",
            "Epoch 2/10\n",
            "\u001b[1m1000/1000\u001b[0m \u001b[32m━━━━━━━━━━━━━━━━━━━━\u001b[0m\u001b[37m\u001b[0m \u001b[1m14s\u001b[0m 14ms/step - accuracy: 0.9281 - loss: 0.1931 - val_accuracy: 0.8723 - val_loss: 0.3011\n",
            "Epoch 3/10\n",
            "\u001b[1m1000/1000\u001b[0m \u001b[32m━━━━━━━━━━━━━━━━━━━━\u001b[0m\u001b[37m\u001b[0m \u001b[1m14s\u001b[0m 14ms/step - accuracy: 0.9748 - loss: 0.0831 - val_accuracy: 0.8706 - val_loss: 0.3518\n",
            "Epoch 4/10\n",
            "\u001b[1m1000/1000\u001b[0m \u001b[32m━━━━━━━━━━━━━━━━━━━━\u001b[0m\u001b[37m\u001b[0m \u001b[1m14s\u001b[0m 14ms/step - accuracy: 0.9950 - loss: 0.0263 - val_accuracy: 0.8665 - val_loss: 0.5315\n",
            "\u001b[1m250/250\u001b[0m \u001b[32m━━━━━━━━━━━━━━━━━━━━\u001b[0m\u001b[37m\u001b[0m \u001b[1m0s\u001b[0m 2ms/step\n",
            "  Fold 4/5...\n",
            "  Building CNN with embedding_dim=100, filters1=32\n",
            "Epoch 1/10\n"
          ]
        },
        {
          "name": "stderr",
          "output_type": "stream",
          "text": [
            "c:\\Users\\ander\\Desktop\\projects\\IMDB_sentiment_analysis\\it1244\\Lib\\site-packages\\keras\\src\\layers\\core\\embedding.py:90: UserWarning: Argument `input_length` is deprecated. Just remove it.\n",
            "  warnings.warn(\n"
          ]
        },
        {
          "name": "stdout",
          "output_type": "stream",
          "text": [
            "\u001b[1m1000/1000\u001b[0m \u001b[32m━━━━━━━━━━━━━━━━━━━━\u001b[0m\u001b[37m\u001b[0m \u001b[1m15s\u001b[0m 14ms/step - accuracy: 0.7202 - loss: 0.5022 - val_accuracy: 0.8740 - val_loss: 0.2997\n",
            "Epoch 2/10\n",
            "\u001b[1m1000/1000\u001b[0m \u001b[32m━━━━━━━━━━━━━━━━━━━━\u001b[0m\u001b[37m\u001b[0m \u001b[1m14s\u001b[0m 14ms/step - accuracy: 0.9264 - loss: 0.1914 - val_accuracy: 0.8746 - val_loss: 0.3114\n",
            "Epoch 3/10\n",
            "\u001b[1m1000/1000\u001b[0m \u001b[32m━━━━━━━━━━━━━━━━━━━━\u001b[0m\u001b[37m\u001b[0m \u001b[1m14s\u001b[0m 14ms/step - accuracy: 0.9738 - loss: 0.0871 - val_accuracy: 0.8715 - val_loss: 0.3773\n",
            "Epoch 4/10\n",
            "\u001b[1m1000/1000\u001b[0m \u001b[32m━━━━━━━━━━━━━━━━━━━━\u001b[0m\u001b[37m\u001b[0m \u001b[1m14s\u001b[0m 14ms/step - accuracy: 0.9945 - loss: 0.0262 - val_accuracy: 0.8724 - val_loss: 0.5034\n",
            "\u001b[1m250/250\u001b[0m \u001b[32m━━━━━━━━━━━━━━━━━━━━\u001b[0m\u001b[37m\u001b[0m \u001b[1m0s\u001b[0m 2ms/step\n",
            "  Fold 5/5...\n",
            "  Building CNN with embedding_dim=100, filters1=32\n",
            "Epoch 1/10\n"
          ]
        },
        {
          "name": "stderr",
          "output_type": "stream",
          "text": [
            "c:\\Users\\ander\\Desktop\\projects\\IMDB_sentiment_analysis\\it1244\\Lib\\site-packages\\keras\\src\\layers\\core\\embedding.py:90: UserWarning: Argument `input_length` is deprecated. Just remove it.\n",
            "  warnings.warn(\n"
          ]
        },
        {
          "name": "stdout",
          "output_type": "stream",
          "text": [
            "\u001b[1m1000/1000\u001b[0m \u001b[32m━━━━━━━━━━━━━━━━━━━━\u001b[0m\u001b[37m\u001b[0m \u001b[1m15s\u001b[0m 14ms/step - accuracy: 0.7128 - loss: 0.5038 - val_accuracy: 0.8704 - val_loss: 0.2994\n",
            "Epoch 2/10\n",
            "\u001b[1m1000/1000\u001b[0m \u001b[32m━━━━━━━━━━━━━━━━━━━━\u001b[0m\u001b[37m\u001b[0m \u001b[1m14s\u001b[0m 14ms/step - accuracy: 0.9291 - loss: 0.1909 - val_accuracy: 0.8804 - val_loss: 0.3068\n",
            "Epoch 3/10\n",
            "\u001b[1m1000/1000\u001b[0m \u001b[32m━━━━━━━━━━━━━━━━━━━━\u001b[0m\u001b[37m\u001b[0m \u001b[1m15s\u001b[0m 15ms/step - accuracy: 0.9738 - loss: 0.0879 - val_accuracy: 0.8694 - val_loss: 0.3852\n",
            "Epoch 4/10\n",
            "\u001b[1m1000/1000\u001b[0m \u001b[32m━━━━━━━━━━━━━━━━━━━━\u001b[0m\u001b[37m\u001b[0m \u001b[1m14s\u001b[0m 14ms/step - accuracy: 0.9940 - loss: 0.0265 - val_accuracy: 0.8687 - val_loss: 0.5148\n",
            "\u001b[1m250/250\u001b[0m \u001b[32m━━━━━━━━━━━━━━━━━━━━\u001b[0m\u001b[37m\u001b[0m \u001b[1m1s\u001b[0m 2ms/step\n",
            "  --- Mean Validation Accuracy: 0.8777 ± 0.0040 ---\n",
            "\n",
            "--- Testing Combo 9/12: embed=100, filters1=64, lr=0.001 ---\n",
            "  Fold 1/5...\n",
            "  Building CNN with embedding_dim=100, filters1=64\n",
            "Epoch 1/10\n"
          ]
        },
        {
          "name": "stderr",
          "output_type": "stream",
          "text": [
            "c:\\Users\\ander\\Desktop\\projects\\IMDB_sentiment_analysis\\it1244\\Lib\\site-packages\\keras\\src\\layers\\core\\embedding.py:90: UserWarning: Argument `input_length` is deprecated. Just remove it.\n",
            "  warnings.warn(\n"
          ]
        },
        {
          "name": "stdout",
          "output_type": "stream",
          "text": [
            "\u001b[1m1000/1000\u001b[0m \u001b[32m━━━━━━━━━━━━━━━━━━━━\u001b[0m\u001b[37m\u001b[0m \u001b[1m17s\u001b[0m 16ms/step - accuracy: 0.7557 - loss: 0.4601 - val_accuracy: 0.8806 - val_loss: 0.2909\n",
            "Epoch 2/10\n",
            "\u001b[1m1000/1000\u001b[0m \u001b[32m━━━━━━━━━━━━━━━━━━━━\u001b[0m\u001b[37m\u001b[0m \u001b[1m16s\u001b[0m 16ms/step - accuracy: 0.9289 - loss: 0.1858 - val_accuracy: 0.8816 - val_loss: 0.3028\n",
            "Epoch 3/10\n",
            "\u001b[1m1000/1000\u001b[0m \u001b[32m━━━━━━━━━━━━━━━━━━━━\u001b[0m\u001b[37m\u001b[0m \u001b[1m16s\u001b[0m 16ms/step - accuracy: 0.9711 - loss: 0.0895 - val_accuracy: 0.8788 - val_loss: 0.3908\n",
            "Epoch 4/10\n",
            "\u001b[1m1000/1000\u001b[0m \u001b[32m━━━━━━━━━━━━━━━━━━━━\u001b[0m\u001b[37m\u001b[0m \u001b[1m16s\u001b[0m 16ms/step - accuracy: 0.9894 - loss: 0.0338 - val_accuracy: 0.8665 - val_loss: 0.4843\n",
            "\u001b[1m250/250\u001b[0m \u001b[32m━━━━━━━━━━━━━━━━━━━━\u001b[0m\u001b[37m\u001b[0m \u001b[1m1s\u001b[0m 3ms/step\n",
            "  Fold 2/5...\n",
            "  Building CNN with embedding_dim=100, filters1=64\n",
            "Epoch 1/10\n"
          ]
        },
        {
          "name": "stderr",
          "output_type": "stream",
          "text": [
            "c:\\Users\\ander\\Desktop\\projects\\IMDB_sentiment_analysis\\it1244\\Lib\\site-packages\\keras\\src\\layers\\core\\embedding.py:90: UserWarning: Argument `input_length` is deprecated. Just remove it.\n",
            "  warnings.warn(\n"
          ]
        },
        {
          "name": "stdout",
          "output_type": "stream",
          "text": [
            "\u001b[1m1000/1000\u001b[0m \u001b[32m━━━━━━━━━━━━━━━━━━━━\u001b[0m\u001b[37m\u001b[0m \u001b[1m18s\u001b[0m 16ms/step - accuracy: 0.7290 - loss: 0.4811 - val_accuracy: 0.8830 - val_loss: 0.2758\n",
            "Epoch 2/10\n",
            "\u001b[1m1000/1000\u001b[0m \u001b[32m━━━━━━━━━━━━━━━━━━━━\u001b[0m\u001b[37m\u001b[0m \u001b[1m16s\u001b[0m 16ms/step - accuracy: 0.9287 - loss: 0.1887 - val_accuracy: 0.8839 - val_loss: 0.2891\n",
            "Epoch 3/10\n",
            "\u001b[1m1000/1000\u001b[0m \u001b[32m━━━━━━━━━━━━━━━━━━━━\u001b[0m\u001b[37m\u001b[0m \u001b[1m16s\u001b[0m 16ms/step - accuracy: 0.9737 - loss: 0.0831 - val_accuracy: 0.8794 - val_loss: 0.3475\n",
            "Epoch 4/10\n",
            "\u001b[1m1000/1000\u001b[0m \u001b[32m━━━━━━━━━━━━━━━━━━━━\u001b[0m\u001b[37m\u001b[0m \u001b[1m16s\u001b[0m 16ms/step - accuracy: 0.9905 - loss: 0.0342 - val_accuracy: 0.8681 - val_loss: 0.4925\n",
            "\u001b[1m250/250\u001b[0m \u001b[32m━━━━━━━━━━━━━━━━━━━━\u001b[0m\u001b[37m\u001b[0m \u001b[1m1s\u001b[0m 2ms/step\n",
            "  Fold 3/5...\n",
            "  Building CNN with embedding_dim=100, filters1=64\n",
            "Epoch 1/10\n"
          ]
        },
        {
          "name": "stderr",
          "output_type": "stream",
          "text": [
            "c:\\Users\\ander\\Desktop\\projects\\IMDB_sentiment_analysis\\it1244\\Lib\\site-packages\\keras\\src\\layers\\core\\embedding.py:90: UserWarning: Argument `input_length` is deprecated. Just remove it.\n",
            "  warnings.warn(\n"
          ]
        },
        {
          "name": "stdout",
          "output_type": "stream",
          "text": [
            "\u001b[1m1000/1000\u001b[0m \u001b[32m━━━━━━━━━━━━━━━━━━━━\u001b[0m\u001b[37m\u001b[0m \u001b[1m17s\u001b[0m 16ms/step - accuracy: 0.7477 - loss: 0.4679 - val_accuracy: 0.8742 - val_loss: 0.2938\n",
            "Epoch 2/10\n",
            "\u001b[1m1000/1000\u001b[0m \u001b[32m━━━━━━━━━━━━━━━━━━━━\u001b[0m\u001b[37m\u001b[0m \u001b[1m16s\u001b[0m 16ms/step - accuracy: 0.9308 - loss: 0.1835 - val_accuracy: 0.8811 - val_loss: 0.2932\n",
            "Epoch 3/10\n",
            "\u001b[1m1000/1000\u001b[0m \u001b[32m━━━━━━━━━━━━━━━━━━━━\u001b[0m\u001b[37m\u001b[0m \u001b[1m16s\u001b[0m 16ms/step - accuracy: 0.9764 - loss: 0.0758 - val_accuracy: 0.8680 - val_loss: 0.4030\n",
            "Epoch 4/10\n",
            "\u001b[1m1000/1000\u001b[0m \u001b[32m━━━━━━━━━━━━━━━━━━━━\u001b[0m\u001b[37m\u001b[0m \u001b[1m16s\u001b[0m 16ms/step - accuracy: 0.9898 - loss: 0.0311 - val_accuracy: 0.8626 - val_loss: 0.5116\n",
            "\u001b[1m250/250\u001b[0m \u001b[32m━━━━━━━━━━━━━━━━━━━━\u001b[0m\u001b[37m\u001b[0m \u001b[1m1s\u001b[0m 2ms/step\n",
            "  Fold 4/5...\n",
            "  Building CNN with embedding_dim=100, filters1=64\n",
            "Epoch 1/10\n"
          ]
        },
        {
          "name": "stderr",
          "output_type": "stream",
          "text": [
            "c:\\Users\\ander\\Desktop\\projects\\IMDB_sentiment_analysis\\it1244\\Lib\\site-packages\\keras\\src\\layers\\core\\embedding.py:90: UserWarning: Argument `input_length` is deprecated. Just remove it.\n",
            "  warnings.warn(\n"
          ]
        },
        {
          "name": "stdout",
          "output_type": "stream",
          "text": [
            "\u001b[1m1000/1000\u001b[0m \u001b[32m━━━━━━━━━━━━━━━━━━━━\u001b[0m\u001b[37m\u001b[0m \u001b[1m17s\u001b[0m 16ms/step - accuracy: 0.7565 - loss: 0.4547 - val_accuracy: 0.8720 - val_loss: 0.2977\n",
            "Epoch 2/10\n",
            "\u001b[1m1000/1000\u001b[0m \u001b[32m━━━━━━━━━━━━━━━━━━━━\u001b[0m\u001b[37m\u001b[0m \u001b[1m17s\u001b[0m 17ms/step - accuracy: 0.9297 - loss: 0.1817 - val_accuracy: 0.8677 - val_loss: 0.3318\n",
            "Epoch 3/10\n",
            "\u001b[1m1000/1000\u001b[0m \u001b[32m━━━━━━━━━━━━━━━━━━━━\u001b[0m\u001b[37m\u001b[0m \u001b[1m17s\u001b[0m 17ms/step - accuracy: 0.9740 - loss: 0.0761 - val_accuracy: 0.8680 - val_loss: 0.3927\n",
            "\u001b[1m250/250\u001b[0m \u001b[32m━━━━━━━━━━━━━━━━━━━━\u001b[0m\u001b[37m\u001b[0m \u001b[1m1s\u001b[0m 2ms/step\n",
            "  Fold 5/5...\n",
            "  Building CNN with embedding_dim=100, filters1=64\n",
            "Epoch 1/10\n"
          ]
        },
        {
          "name": "stderr",
          "output_type": "stream",
          "text": [
            "c:\\Users\\ander\\Desktop\\projects\\IMDB_sentiment_analysis\\it1244\\Lib\\site-packages\\keras\\src\\layers\\core\\embedding.py:90: UserWarning: Argument `input_length` is deprecated. Just remove it.\n",
            "  warnings.warn(\n"
          ]
        },
        {
          "name": "stdout",
          "output_type": "stream",
          "text": [
            "\u001b[1m1000/1000\u001b[0m \u001b[32m━━━━━━━━━━━━━━━━━━━━\u001b[0m\u001b[37m\u001b[0m \u001b[1m18s\u001b[0m 16ms/step - accuracy: 0.7502 - loss: 0.4608 - val_accuracy: 0.8776 - val_loss: 0.2899\n",
            "Epoch 2/10\n",
            "\u001b[1m1000/1000\u001b[0m \u001b[32m━━━━━━━━━━━━━━━━━━━━\u001b[0m\u001b[37m\u001b[0m \u001b[1m16s\u001b[0m 16ms/step - accuracy: 0.9283 - loss: 0.1890 - val_accuracy: 0.8781 - val_loss: 0.3106\n",
            "Epoch 3/10\n",
            "\u001b[1m1000/1000\u001b[0m \u001b[32m━━━━━━━━━━━━━━━━━━━━\u001b[0m\u001b[37m\u001b[0m \u001b[1m16s\u001b[0m 16ms/step - accuracy: 0.9712 - loss: 0.0887 - val_accuracy: 0.8698 - val_loss: 0.3890\n",
            "Epoch 4/10\n",
            "\u001b[1m1000/1000\u001b[0m \u001b[32m━━━━━━━━━━━━━━━━━━━━\u001b[0m\u001b[37m\u001b[0m \u001b[1m17s\u001b[0m 17ms/step - accuracy: 0.9886 - loss: 0.0354 - val_accuracy: 0.8750 - val_loss: 0.4806\n",
            "\u001b[1m250/250\u001b[0m \u001b[32m━━━━━━━━━━━━━━━━━━━━\u001b[0m\u001b[37m\u001b[0m \u001b[1m1s\u001b[0m 4ms/step\n",
            "  --- Mean Validation Accuracy: 0.8793 ± 0.0041 ---\n",
            "\n",
            "--- Testing Combo 10/12: embed=100, filters1=64, lr=0.0005 ---\n",
            "  Fold 1/5...\n",
            "  Building CNN with embedding_dim=100, filters1=64\n",
            "Epoch 1/10\n"
          ]
        },
        {
          "name": "stderr",
          "output_type": "stream",
          "text": [
            "c:\\Users\\ander\\Desktop\\projects\\IMDB_sentiment_analysis\\it1244\\Lib\\site-packages\\keras\\src\\layers\\core\\embedding.py:90: UserWarning: Argument `input_length` is deprecated. Just remove it.\n",
            "  warnings.warn(\n"
          ]
        },
        {
          "name": "stdout",
          "output_type": "stream",
          "text": [
            "\u001b[1m1000/1000\u001b[0m \u001b[32m━━━━━━━━━━━━━━━━━━━━\u001b[0m\u001b[37m\u001b[0m \u001b[1m22s\u001b[0m 20ms/step - accuracy: 0.7017 - loss: 0.5117 - val_accuracy: 0.8745 - val_loss: 0.2963\n",
            "Epoch 2/10\n",
            "\u001b[1m1000/1000\u001b[0m \u001b[32m━━━━━━━━━━━━━━━━━━━━\u001b[0m\u001b[37m\u001b[0m \u001b[1m17s\u001b[0m 17ms/step - accuracy: 0.9222 - loss: 0.2030 - val_accuracy: 0.8746 - val_loss: 0.3078\n",
            "Epoch 3/10\n",
            "\u001b[1m1000/1000\u001b[0m \u001b[32m━━━━━━━━━━━━━━━━━━━━\u001b[0m\u001b[37m\u001b[0m \u001b[1m17s\u001b[0m 17ms/step - accuracy: 0.9685 - loss: 0.0997 - val_accuracy: 0.8809 - val_loss: 0.3546\n",
            "Epoch 4/10\n",
            "\u001b[1m1000/1000\u001b[0m \u001b[32m━━━━━━━━━━━━━━━━━━━━\u001b[0m\u001b[37m\u001b[0m \u001b[1m17s\u001b[0m 17ms/step - accuracy: 0.9912 - loss: 0.0357 - val_accuracy: 0.8735 - val_loss: 0.4696\n",
            "Epoch 5/10\n",
            "\u001b[1m1000/1000\u001b[0m \u001b[32m━━━━━━━━━━━━━━━━━━━━\u001b[0m\u001b[37m\u001b[0m \u001b[1m19s\u001b[0m 19ms/step - accuracy: 0.9966 - loss: 0.0131 - val_accuracy: 0.8665 - val_loss: 0.6659\n",
            "\u001b[1m250/250\u001b[0m \u001b[32m━━━━━━━━━━━━━━━━━━━━\u001b[0m\u001b[37m\u001b[0m \u001b[1m1s\u001b[0m 3ms/step\n",
            "  Fold 2/5...\n",
            "  Building CNN with embedding_dim=100, filters1=64\n",
            "Epoch 1/10\n"
          ]
        },
        {
          "name": "stderr",
          "output_type": "stream",
          "text": [
            "c:\\Users\\ander\\Desktop\\projects\\IMDB_sentiment_analysis\\it1244\\Lib\\site-packages\\keras\\src\\layers\\core\\embedding.py:90: UserWarning: Argument `input_length` is deprecated. Just remove it.\n",
            "  warnings.warn(\n"
          ]
        },
        {
          "name": "stdout",
          "output_type": "stream",
          "text": [
            "\u001b[1m1000/1000\u001b[0m \u001b[32m━━━━━━━━━━━━━━━━━━━━\u001b[0m\u001b[37m\u001b[0m \u001b[1m20s\u001b[0m 18ms/step - accuracy: 0.6960 - loss: 0.5123 - val_accuracy: 0.8819 - val_loss: 0.2805\n",
            "Epoch 2/10\n",
            "\u001b[1m1000/1000\u001b[0m \u001b[32m━━━━━━━━━━━━━━━━━━━━\u001b[0m\u001b[37m\u001b[0m \u001b[1m20s\u001b[0m 20ms/step - accuracy: 0.9229 - loss: 0.1990 - val_accuracy: 0.8860 - val_loss: 0.2817\n",
            "Epoch 3/10\n",
            "\u001b[1m1000/1000\u001b[0m \u001b[32m━━━━━━━━━━━━━━━━━━━━\u001b[0m\u001b[37m\u001b[0m \u001b[1m19s\u001b[0m 19ms/step - accuracy: 0.9708 - loss: 0.0985 - val_accuracy: 0.8770 - val_loss: 0.3552\n",
            "Epoch 4/10\n",
            "\u001b[1m1000/1000\u001b[0m \u001b[32m━━━━━━━━━━━━━━━━━━━━\u001b[0m\u001b[37m\u001b[0m \u001b[1m19s\u001b[0m 18ms/step - accuracy: 0.9896 - loss: 0.0415 - val_accuracy: 0.8798 - val_loss: 0.4686\n",
            "\u001b[1m250/250\u001b[0m \u001b[32m━━━━━━━━━━━━━━━━━━━━\u001b[0m\u001b[37m\u001b[0m \u001b[1m1s\u001b[0m 3ms/step\n",
            "  Fold 3/5...\n",
            "  Building CNN with embedding_dim=100, filters1=64\n",
            "Epoch 1/10\n"
          ]
        },
        {
          "name": "stderr",
          "output_type": "stream",
          "text": [
            "c:\\Users\\ander\\Desktop\\projects\\IMDB_sentiment_analysis\\it1244\\Lib\\site-packages\\keras\\src\\layers\\core\\embedding.py:90: UserWarning: Argument `input_length` is deprecated. Just remove it.\n",
            "  warnings.warn(\n"
          ]
        },
        {
          "name": "stdout",
          "output_type": "stream",
          "text": [
            "\u001b[1m1000/1000\u001b[0m \u001b[32m━━━━━━━━━━━━━━━━━━━━\u001b[0m\u001b[37m\u001b[0m \u001b[1m18s\u001b[0m 16ms/step - accuracy: 0.7169 - loss: 0.5019 - val_accuracy: 0.8766 - val_loss: 0.2915\n",
            "Epoch 2/10\n",
            "\u001b[1m1000/1000\u001b[0m \u001b[32m━━━━━━━━━━━━━━━━━━━━\u001b[0m\u001b[37m\u001b[0m \u001b[1m16s\u001b[0m 16ms/step - accuracy: 0.9253 - loss: 0.1964 - val_accuracy: 0.8791 - val_loss: 0.2909\n",
            "Epoch 3/10\n",
            "\u001b[1m1000/1000\u001b[0m \u001b[32m━━━━━━━━━━━━━━━━━━━━\u001b[0m\u001b[37m\u001b[0m \u001b[1m16s\u001b[0m 16ms/step - accuracy: 0.9721 - loss: 0.0937 - val_accuracy: 0.8740 - val_loss: 0.3380\n",
            "Epoch 4/10\n",
            "\u001b[1m1000/1000\u001b[0m \u001b[32m━━━━━━━━━━━━━━━━━━━━\u001b[0m\u001b[37m\u001b[0m \u001b[1m16s\u001b[0m 16ms/step - accuracy: 0.9932 - loss: 0.0312 - val_accuracy: 0.8712 - val_loss: 0.4709\n",
            "\u001b[1m250/250\u001b[0m \u001b[32m━━━━━━━━━━━━━━━━━━━━\u001b[0m\u001b[37m\u001b[0m \u001b[1m1s\u001b[0m 2ms/step\n",
            "  Fold 4/5...\n",
            "  Building CNN with embedding_dim=100, filters1=64\n",
            "Epoch 1/10\n"
          ]
        },
        {
          "name": "stderr",
          "output_type": "stream",
          "text": [
            "c:\\Users\\ander\\Desktop\\projects\\IMDB_sentiment_analysis\\it1244\\Lib\\site-packages\\keras\\src\\layers\\core\\embedding.py:90: UserWarning: Argument `input_length` is deprecated. Just remove it.\n",
            "  warnings.warn(\n"
          ]
        },
        {
          "name": "stdout",
          "output_type": "stream",
          "text": [
            "\u001b[1m1000/1000\u001b[0m \u001b[32m━━━━━━━━━━━━━━━━━━━━\u001b[0m\u001b[37m\u001b[0m \u001b[1m18s\u001b[0m 16ms/step - accuracy: 0.7101 - loss: 0.5073 - val_accuracy: 0.8754 - val_loss: 0.2911\n",
            "Epoch 2/10\n",
            "\u001b[1m1000/1000\u001b[0m \u001b[32m━━━━━━━━━━━━━━━━━━━━\u001b[0m\u001b[37m\u001b[0m \u001b[1m16s\u001b[0m 16ms/step - accuracy: 0.9265 - loss: 0.1952 - val_accuracy: 0.8796 - val_loss: 0.2956\n",
            "Epoch 3/10\n",
            "\u001b[1m1000/1000\u001b[0m \u001b[32m━━━━━━━━━━━━━━━━━━━━\u001b[0m\u001b[37m\u001b[0m \u001b[1m17s\u001b[0m 17ms/step - accuracy: 0.9695 - loss: 0.0956 - val_accuracy: 0.8593 - val_loss: 0.4146\n",
            "Epoch 4/10\n",
            "\u001b[1m1000/1000\u001b[0m \u001b[32m━━━━━━━━━━━━━━━━━━━━\u001b[0m\u001b[37m\u001b[0m \u001b[1m16s\u001b[0m 16ms/step - accuracy: 0.9918 - loss: 0.0318 - val_accuracy: 0.8679 - val_loss: 0.4823\n",
            "\u001b[1m250/250\u001b[0m \u001b[32m━━━━━━━━━━━━━━━━━━━━\u001b[0m\u001b[37m\u001b[0m \u001b[1m1s\u001b[0m 2ms/step\n",
            "  Fold 5/5...\n",
            "  Building CNN with embedding_dim=100, filters1=64\n",
            "Epoch 1/10\n"
          ]
        },
        {
          "name": "stderr",
          "output_type": "stream",
          "text": [
            "c:\\Users\\ander\\Desktop\\projects\\IMDB_sentiment_analysis\\it1244\\Lib\\site-packages\\keras\\src\\layers\\core\\embedding.py:90: UserWarning: Argument `input_length` is deprecated. Just remove it.\n",
            "  warnings.warn(\n"
          ]
        },
        {
          "name": "stdout",
          "output_type": "stream",
          "text": [
            "\u001b[1m1000/1000\u001b[0m \u001b[32m━━━━━━━━━━━━━━━━━━━━\u001b[0m\u001b[37m\u001b[0m \u001b[1m17s\u001b[0m 16ms/step - accuracy: 0.7033 - loss: 0.5168 - val_accuracy: 0.8669 - val_loss: 0.3129\n",
            "Epoch 2/10\n",
            "\u001b[1m1000/1000\u001b[0m \u001b[32m━━━━━━━━━━━━━━━━━━━━\u001b[0m\u001b[37m\u001b[0m \u001b[1m17s\u001b[0m 17ms/step - accuracy: 0.9205 - loss: 0.2057 - val_accuracy: 0.8781 - val_loss: 0.2928\n",
            "Epoch 3/10\n",
            "\u001b[1m1000/1000\u001b[0m \u001b[32m━━━━━━━━━━━━━━━━━━━━\u001b[0m\u001b[37m\u001b[0m \u001b[1m17s\u001b[0m 17ms/step - accuracy: 0.9664 - loss: 0.1039 - val_accuracy: 0.8742 - val_loss: 0.3694\n",
            "Epoch 4/10\n",
            "\u001b[1m1000/1000\u001b[0m \u001b[32m━━━━━━━━━━━━━━━━━━━━\u001b[0m\u001b[37m\u001b[0m \u001b[1m16s\u001b[0m 16ms/step - accuracy: 0.9909 - loss: 0.0342 - val_accuracy: 0.8687 - val_loss: 0.5192\n",
            "\u001b[1m250/250\u001b[0m \u001b[32m━━━━━━━━━━━━━━━━━━━━\u001b[0m\u001b[37m\u001b[0m \u001b[1m1s\u001b[0m 2ms/step\n",
            "  --- Mean Validation Accuracy: 0.8808 ± 0.0028 ---\n",
            "\n",
            "--- Testing Combo 11/12: embed=100, filters1=128, lr=0.001 ---\n",
            "  Fold 1/5...\n",
            "  Building CNN with embedding_dim=100, filters1=128\n",
            "Epoch 1/10\n"
          ]
        },
        {
          "name": "stderr",
          "output_type": "stream",
          "text": [
            "c:\\Users\\ander\\Desktop\\projects\\IMDB_sentiment_analysis\\it1244\\Lib\\site-packages\\keras\\src\\layers\\core\\embedding.py:90: UserWarning: Argument `input_length` is deprecated. Just remove it.\n",
            "  warnings.warn(\n"
          ]
        },
        {
          "name": "stdout",
          "output_type": "stream",
          "text": [
            "\u001b[1m1000/1000\u001b[0m \u001b[32m━━━━━━━━━━━━━━━━━━━━\u001b[0m\u001b[37m\u001b[0m \u001b[1m22s\u001b[0m 21ms/step - accuracy: 0.7301 - loss: 0.4803 - val_accuracy: 0.8645 - val_loss: 0.3237\n",
            "Epoch 2/10\n",
            "\u001b[1m1000/1000\u001b[0m \u001b[32m━━━━━━━━━━━━━━━━━━━━\u001b[0m\u001b[37m\u001b[0m \u001b[1m21s\u001b[0m 21ms/step - accuracy: 0.9255 - loss: 0.1930 - val_accuracy: 0.8696 - val_loss: 0.3315\n",
            "Epoch 3/10\n",
            "\u001b[1m1000/1000\u001b[0m \u001b[32m━━━━━━━━━━━━━━━━━━━━\u001b[0m\u001b[37m\u001b[0m \u001b[1m21s\u001b[0m 21ms/step - accuracy: 0.9702 - loss: 0.0926 - val_accuracy: 0.8689 - val_loss: 0.3614\n",
            "Epoch 4/10\n",
            "\u001b[1m1000/1000\u001b[0m \u001b[32m━━━━━━━━━━━━━━━━━━━━\u001b[0m\u001b[37m\u001b[0m \u001b[1m21s\u001b[0m 21ms/step - accuracy: 0.9884 - loss: 0.0371 - val_accuracy: 0.8675 - val_loss: 0.5576\n",
            "\u001b[1m250/250\u001b[0m \u001b[32m━━━━━━━━━━━━━━━━━━━━\u001b[0m\u001b[37m\u001b[0m \u001b[1m1s\u001b[0m 4ms/step\n",
            "  Fold 2/5...\n",
            "  Building CNN with embedding_dim=100, filters1=128\n",
            "Epoch 1/10\n"
          ]
        },
        {
          "name": "stderr",
          "output_type": "stream",
          "text": [
            "c:\\Users\\ander\\Desktop\\projects\\IMDB_sentiment_analysis\\it1244\\Lib\\site-packages\\keras\\src\\layers\\core\\embedding.py:90: UserWarning: Argument `input_length` is deprecated. Just remove it.\n",
            "  warnings.warn(\n"
          ]
        },
        {
          "name": "stdout",
          "output_type": "stream",
          "text": [
            "\u001b[1m1000/1000\u001b[0m \u001b[32m━━━━━━━━━━━━━━━━━━━━\u001b[0m\u001b[37m\u001b[0m \u001b[1m23s\u001b[0m 22ms/step - accuracy: 0.7459 - loss: 0.4655 - val_accuracy: 0.8836 - val_loss: 0.2745\n",
            "Epoch 2/10\n",
            "\u001b[1m1000/1000\u001b[0m \u001b[32m━━━━━━━━━━━━━━━━━━━━\u001b[0m\u001b[37m\u001b[0m \u001b[1m24s\u001b[0m 24ms/step - accuracy: 0.9269 - loss: 0.1942 - val_accuracy: 0.8820 - val_loss: 0.2864\n",
            "Epoch 3/10\n",
            "\u001b[1m1000/1000\u001b[0m \u001b[32m━━━━━━━━━━━━━━━━━━━━\u001b[0m\u001b[37m\u001b[0m \u001b[1m23s\u001b[0m 23ms/step - accuracy: 0.9676 - loss: 0.0948 - val_accuracy: 0.8766 - val_loss: 0.3311\n",
            "\u001b[1m250/250\u001b[0m \u001b[32m━━━━━━━━━━━━━━━━━━━━\u001b[0m\u001b[37m\u001b[0m \u001b[1m1s\u001b[0m 4ms/step\n",
            "  Fold 3/5...\n",
            "  Building CNN with embedding_dim=100, filters1=128\n",
            "Epoch 1/10\n"
          ]
        },
        {
          "name": "stderr",
          "output_type": "stream",
          "text": [
            "c:\\Users\\ander\\Desktop\\projects\\IMDB_sentiment_analysis\\it1244\\Lib\\site-packages\\keras\\src\\layers\\core\\embedding.py:90: UserWarning: Argument `input_length` is deprecated. Just remove it.\n",
            "  warnings.warn(\n"
          ]
        },
        {
          "name": "stdout",
          "output_type": "stream",
          "text": [
            "\u001b[1m1000/1000\u001b[0m \u001b[32m━━━━━━━━━━━━━━━━━━━━\u001b[0m\u001b[37m\u001b[0m \u001b[1m24s\u001b[0m 23ms/step - accuracy: 0.7313 - loss: 0.4776 - val_accuracy: 0.8776 - val_loss: 0.2868\n",
            "Epoch 2/10\n",
            "\u001b[1m1000/1000\u001b[0m \u001b[32m━━━━━━━━━━━━━━━━━━━━\u001b[0m\u001b[37m\u001b[0m \u001b[1m21s\u001b[0m 21ms/step - accuracy: 0.9276 - loss: 0.1893 - val_accuracy: 0.8734 - val_loss: 0.3091\n",
            "Epoch 3/10\n",
            "\u001b[1m1000/1000\u001b[0m \u001b[32m━━━━━━━━━━━━━━━━━━━━\u001b[0m\u001b[37m\u001b[0m \u001b[1m21s\u001b[0m 21ms/step - accuracy: 0.9693 - loss: 0.0940 - val_accuracy: 0.8674 - val_loss: 0.3610\n",
            "\u001b[1m250/250\u001b[0m \u001b[32m━━━━━━━━━━━━━━━━━━━━\u001b[0m\u001b[37m\u001b[0m \u001b[1m1s\u001b[0m 4ms/step\n",
            "  Fold 4/5...\n",
            "  Building CNN with embedding_dim=100, filters1=128\n",
            "Epoch 1/10\n"
          ]
        },
        {
          "name": "stderr",
          "output_type": "stream",
          "text": [
            "c:\\Users\\ander\\Desktop\\projects\\IMDB_sentiment_analysis\\it1244\\Lib\\site-packages\\keras\\src\\layers\\core\\embedding.py:90: UserWarning: Argument `input_length` is deprecated. Just remove it.\n",
            "  warnings.warn(\n"
          ]
        },
        {
          "name": "stdout",
          "output_type": "stream",
          "text": [
            "\u001b[1m1000/1000\u001b[0m \u001b[32m━━━━━━━━━━━━━━━━━━━━\u001b[0m\u001b[37m\u001b[0m \u001b[1m23s\u001b[0m 21ms/step - accuracy: 0.7376 - loss: 0.4709 - val_accuracy: 0.8799 - val_loss: 0.2831\n",
            "Epoch 2/10\n",
            "\u001b[1m1000/1000\u001b[0m \u001b[32m━━━━━━━━━━━━━━━━━━━━\u001b[0m\u001b[37m\u001b[0m \u001b[1m22s\u001b[0m 22ms/step - accuracy: 0.9308 - loss: 0.1862 - val_accuracy: 0.8719 - val_loss: 0.3132\n",
            "Epoch 3/10\n",
            "\u001b[1m1000/1000\u001b[0m \u001b[32m━━━━━━━━━━━━━━━━━━━━\u001b[0m\u001b[37m\u001b[0m \u001b[1m22s\u001b[0m 22ms/step - accuracy: 0.9716 - loss: 0.0863 - val_accuracy: 0.8699 - val_loss: 0.3566\n",
            "\u001b[1m250/250\u001b[0m \u001b[32m━━━━━━━━━━━━━━━━━━━━\u001b[0m\u001b[37m\u001b[0m \u001b[1m1s\u001b[0m 4ms/step\n",
            "  Fold 5/5...\n",
            "  Building CNN with embedding_dim=100, filters1=128\n",
            "Epoch 1/10\n"
          ]
        },
        {
          "name": "stderr",
          "output_type": "stream",
          "text": [
            "c:\\Users\\ander\\Desktop\\projects\\IMDB_sentiment_analysis\\it1244\\Lib\\site-packages\\keras\\src\\layers\\core\\embedding.py:90: UserWarning: Argument `input_length` is deprecated. Just remove it.\n",
            "  warnings.warn(\n"
          ]
        },
        {
          "name": "stdout",
          "output_type": "stream",
          "text": [
            "\u001b[1m1000/1000\u001b[0m \u001b[32m━━━━━━━━━━━━━━━━━━━━\u001b[0m\u001b[37m\u001b[0m \u001b[1m23s\u001b[0m 21ms/step - accuracy: 0.7080 - loss: 0.4967 - val_accuracy: 0.8795 - val_loss: 0.2858\n",
            "Epoch 2/10\n",
            "\u001b[1m1000/1000\u001b[0m \u001b[32m━━━━━━━━━━━━━━━━━━━━\u001b[0m\u001b[37m\u001b[0m \u001b[1m22s\u001b[0m 22ms/step - accuracy: 0.9252 - loss: 0.1943 - val_accuracy: 0.8766 - val_loss: 0.3033\n",
            "Epoch 3/10\n",
            "\u001b[1m1000/1000\u001b[0m \u001b[32m━━━━━━━━━━━━━━━━━━━━\u001b[0m\u001b[37m\u001b[0m \u001b[1m22s\u001b[0m 22ms/step - accuracy: 0.9681 - loss: 0.0951 - val_accuracy: 0.8699 - val_loss: 0.3460\n",
            "\u001b[1m250/250\u001b[0m \u001b[32m━━━━━━━━━━━━━━━━━━━━\u001b[0m\u001b[37m\u001b[0m \u001b[1m1s\u001b[0m 4ms/step\n",
            "  --- Mean Validation Accuracy: 0.8780 ± 0.0046 ---\n",
            "\n",
            "--- Testing Combo 12/12: embed=100, filters1=128, lr=0.0005 ---\n",
            "  Fold 1/5...\n",
            "  Building CNN with embedding_dim=100, filters1=128\n",
            "Epoch 1/10\n"
          ]
        },
        {
          "name": "stderr",
          "output_type": "stream",
          "text": [
            "c:\\Users\\ander\\Desktop\\projects\\IMDB_sentiment_analysis\\it1244\\Lib\\site-packages\\keras\\src\\layers\\core\\embedding.py:90: UserWarning: Argument `input_length` is deprecated. Just remove it.\n",
            "  warnings.warn(\n"
          ]
        },
        {
          "name": "stdout",
          "output_type": "stream",
          "text": [
            "\u001b[1m1000/1000\u001b[0m \u001b[32m━━━━━━━━━━━━━━━━━━━━\u001b[0m\u001b[37m\u001b[0m \u001b[1m24s\u001b[0m 22ms/step - accuracy: 0.7110 - loss: 0.5017 - val_accuracy: 0.8739 - val_loss: 0.2996\n",
            "Epoch 2/10\n",
            "\u001b[1m1000/1000\u001b[0m \u001b[32m━━━━━━━━━━━━━━━━━━━━\u001b[0m\u001b[37m\u001b[0m \u001b[1m22s\u001b[0m 22ms/step - accuracy: 0.9265 - loss: 0.1983 - val_accuracy: 0.8790 - val_loss: 0.2930\n",
            "Epoch 3/10\n",
            "\u001b[1m1000/1000\u001b[0m \u001b[32m━━━━━━━━━━━━━━━━━━━━\u001b[0m\u001b[37m\u001b[0m \u001b[1m22s\u001b[0m 22ms/step - accuracy: 0.9654 - loss: 0.1064 - val_accuracy: 0.8774 - val_loss: 0.3453\n",
            "Epoch 4/10\n",
            "\u001b[1m1000/1000\u001b[0m \u001b[32m━━━━━━━━━━━━━━━━━━━━\u001b[0m\u001b[37m\u001b[0m \u001b[1m22s\u001b[0m 22ms/step - accuracy: 0.9888 - loss: 0.0428 - val_accuracy: 0.8571 - val_loss: 0.5762\n",
            "\u001b[1m250/250\u001b[0m \u001b[32m━━━━━━━━━━━━━━━━━━━━\u001b[0m\u001b[37m\u001b[0m \u001b[1m1s\u001b[0m 5ms/step\n",
            "  Fold 2/5...\n",
            "  Building CNN with embedding_dim=100, filters1=128\n",
            "Epoch 1/10\n"
          ]
        },
        {
          "name": "stderr",
          "output_type": "stream",
          "text": [
            "c:\\Users\\ander\\Desktop\\projects\\IMDB_sentiment_analysis\\it1244\\Lib\\site-packages\\keras\\src\\layers\\core\\embedding.py:90: UserWarning: Argument `input_length` is deprecated. Just remove it.\n",
            "  warnings.warn(\n"
          ]
        },
        {
          "name": "stdout",
          "output_type": "stream",
          "text": [
            "\u001b[1m1000/1000\u001b[0m \u001b[32m━━━━━━━━━━━━━━━━━━━━\u001b[0m\u001b[37m\u001b[0m \u001b[1m25s\u001b[0m 23ms/step - accuracy: 0.7312 - loss: 0.4933 - val_accuracy: 0.8791 - val_loss: 0.2792\n",
            "Epoch 2/10\n",
            "\u001b[1m1000/1000\u001b[0m \u001b[32m━━━━━━━━━━━━━━━━━━━━\u001b[0m\u001b[37m\u001b[0m \u001b[1m23s\u001b[0m 22ms/step - accuracy: 0.9233 - loss: 0.1993 - val_accuracy: 0.8794 - val_loss: 0.2925\n",
            "Epoch 3/10\n",
            "\u001b[1m1000/1000\u001b[0m \u001b[32m━━━━━━━━━━━━━━━━━━━━\u001b[0m\u001b[37m\u001b[0m \u001b[1m22s\u001b[0m 22ms/step - accuracy: 0.9647 - loss: 0.1084 - val_accuracy: 0.8739 - val_loss: 0.3361\n",
            "Epoch 4/10\n",
            "\u001b[1m1000/1000\u001b[0m \u001b[32m━━━━━━━━━━━━━━━━━━━━\u001b[0m\u001b[37m\u001b[0m \u001b[1m23s\u001b[0m 23ms/step - accuracy: 0.9877 - loss: 0.0460 - val_accuracy: 0.8741 - val_loss: 0.4484\n",
            "\u001b[1m250/250\u001b[0m \u001b[32m━━━━━━━━━━━━━━━━━━━━\u001b[0m\u001b[37m\u001b[0m \u001b[1m1s\u001b[0m 5ms/step\n",
            "  Fold 3/5...\n",
            "  Building CNN with embedding_dim=100, filters1=128\n",
            "Epoch 1/10\n"
          ]
        },
        {
          "name": "stderr",
          "output_type": "stream",
          "text": [
            "c:\\Users\\ander\\Desktop\\projects\\IMDB_sentiment_analysis\\it1244\\Lib\\site-packages\\keras\\src\\layers\\core\\embedding.py:90: UserWarning: Argument `input_length` is deprecated. Just remove it.\n",
            "  warnings.warn(\n"
          ]
        },
        {
          "name": "stdout",
          "output_type": "stream",
          "text": [
            "\u001b[1m1000/1000\u001b[0m \u001b[32m━━━━━━━━━━━━━━━━━━━━\u001b[0m\u001b[37m\u001b[0m \u001b[1m22s\u001b[0m 21ms/step - accuracy: 0.7130 - loss: 0.5010 - val_accuracy: 0.8673 - val_loss: 0.3059\n",
            "Epoch 2/10\n",
            "\u001b[1m1000/1000\u001b[0m \u001b[32m━━━━━━━━━━━━━━━━━━━━\u001b[0m\u001b[37m\u001b[0m \u001b[1m22s\u001b[0m 22ms/step - accuracy: 0.9224 - loss: 0.2043 - val_accuracy: 0.8775 - val_loss: 0.2857\n",
            "Epoch 3/10\n",
            "\u001b[1m1000/1000\u001b[0m \u001b[32m━━━━━━━━━━━━━━━━━━━━\u001b[0m\u001b[37m\u001b[0m \u001b[1m21s\u001b[0m 21ms/step - accuracy: 0.9644 - loss: 0.1101 - val_accuracy: 0.8727 - val_loss: 0.3591\n",
            "Epoch 4/10\n",
            "\u001b[1m1000/1000\u001b[0m \u001b[32m━━━━━━━━━━━━━━━━━━━━\u001b[0m\u001b[37m\u001b[0m \u001b[1m21s\u001b[0m 21ms/step - accuracy: 0.9885 - loss: 0.0432 - val_accuracy: 0.8669 - val_loss: 0.4662\n",
            "\u001b[1m250/250\u001b[0m \u001b[32m━━━━━━━━━━━━━━━━━━━━\u001b[0m\u001b[37m\u001b[0m \u001b[1m1s\u001b[0m 4ms/step\n",
            "  Fold 4/5...\n",
            "  Building CNN with embedding_dim=100, filters1=128\n",
            "Epoch 1/10\n"
          ]
        },
        {
          "name": "stderr",
          "output_type": "stream",
          "text": [
            "c:\\Users\\ander\\Desktop\\projects\\IMDB_sentiment_analysis\\it1244\\Lib\\site-packages\\keras\\src\\layers\\core\\embedding.py:90: UserWarning: Argument `input_length` is deprecated. Just remove it.\n",
            "  warnings.warn(\n"
          ]
        },
        {
          "name": "stdout",
          "output_type": "stream",
          "text": [
            "\u001b[1m1000/1000\u001b[0m \u001b[32m━━━━━━━━━━━━━━━━━━━━\u001b[0m\u001b[37m\u001b[0m \u001b[1m22s\u001b[0m 21ms/step - accuracy: 0.7197 - loss: 0.4953 - val_accuracy: 0.8585 - val_loss: 0.3227\n",
            "Epoch 2/10\n",
            "\u001b[1m1000/1000\u001b[0m \u001b[32m━━━━━━━━━━━━━━━━━━━━\u001b[0m\u001b[37m\u001b[0m \u001b[1m20s\u001b[0m 20ms/step - accuracy: 0.9222 - loss: 0.1960 - val_accuracy: 0.8730 - val_loss: 0.3074\n",
            "Epoch 3/10\n",
            "\u001b[1m1000/1000\u001b[0m \u001b[32m━━━━━━━━━━━━━━━━━━━━\u001b[0m\u001b[37m\u001b[0m \u001b[1m21s\u001b[0m 21ms/step - accuracy: 0.9656 - loss: 0.1069 - val_accuracy: 0.8704 - val_loss: 0.3471\n",
            "Epoch 4/10\n",
            "\u001b[1m1000/1000\u001b[0m \u001b[32m━━━━━━━━━━━━━━━━━━━━\u001b[0m\u001b[37m\u001b[0m \u001b[1m20s\u001b[0m 20ms/step - accuracy: 0.9894 - loss: 0.0396 - val_accuracy: 0.8720 - val_loss: 0.4609\n",
            "\u001b[1m250/250\u001b[0m \u001b[32m━━━━━━━━━━━━━━━━━━━━\u001b[0m\u001b[37m\u001b[0m \u001b[1m1s\u001b[0m 4ms/step\n",
            "  Fold 5/5...\n",
            "  Building CNN with embedding_dim=100, filters1=128\n",
            "Epoch 1/10\n"
          ]
        },
        {
          "name": "stderr",
          "output_type": "stream",
          "text": [
            "c:\\Users\\ander\\Desktop\\projects\\IMDB_sentiment_analysis\\it1244\\Lib\\site-packages\\keras\\src\\layers\\core\\embedding.py:90: UserWarning: Argument `input_length` is deprecated. Just remove it.\n",
            "  warnings.warn(\n"
          ]
        },
        {
          "name": "stdout",
          "output_type": "stream",
          "text": [
            "\u001b[1m1000/1000\u001b[0m \u001b[32m━━━━━━━━━━━━━━━━━━━━\u001b[0m\u001b[37m\u001b[0m \u001b[1m24s\u001b[0m 22ms/step - accuracy: 0.7170 - loss: 0.5002 - val_accuracy: 0.8798 - val_loss: 0.2908\n",
            "Epoch 2/10\n",
            "\u001b[1m1000/1000\u001b[0m \u001b[32m━━━━━━━━━━━━━━━━━━━━\u001b[0m\u001b[37m\u001b[0m \u001b[1m21s\u001b[0m 21ms/step - accuracy: 0.9255 - loss: 0.1986 - val_accuracy: 0.8813 - val_loss: 0.2896\n",
            "Epoch 3/10\n",
            "\u001b[1m1000/1000\u001b[0m \u001b[32m━━━━━━━━━━━━━━━━━━━━\u001b[0m\u001b[37m\u001b[0m \u001b[1m21s\u001b[0m 21ms/step - accuracy: 0.9669 - loss: 0.1040 - val_accuracy: 0.8765 - val_loss: 0.3600\n",
            "Epoch 4/10\n",
            "\u001b[1m1000/1000\u001b[0m \u001b[32m━━━━━━━━━━━━━━━━━━━━\u001b[0m\u001b[37m\u001b[0m \u001b[1m22s\u001b[0m 21ms/step - accuracy: 0.9884 - loss: 0.0416 - val_accuracy: 0.8671 - val_loss: 0.4574\n",
            "\u001b[1m250/250\u001b[0m \u001b[32m━━━━━━━━━━━━━━━━━━━━\u001b[0m\u001b[37m\u001b[0m \u001b[1m1s\u001b[0m 4ms/step\n",
            "  --- Mean Validation Accuracy: 0.8780 ± 0.0028 ---\n"
          ]
        }
      ],
      "source": [
        "from tensorflow.keras.callbacks import EarlyStopping\n",
        "\n",
        "cnn_cv_results = []\n",
        "cnn_misclassified_data = []\n",
        "\n",
        "best_cnn_score = -1\n",
        "best_cnn_params = {}\n",
        "\n",
        "param_combinations = list(itertools.product(embedding_dims, filter1_couns, learning_rates))\n",
        "\n",
        "for combo_idx, (embed_dim, f1_count, lr) in enumerate(param_combinations):\n",
        "    print(f\"\\n--- Testing Combo {combo_idx+1}/{len(param_combinations)}: embed={embed_dim}, filters1={f1_count}, lr={lr} ---\")\n",
        "    # Store fold accuracies for calculating mean/std for this combo\n",
        "    fold_accuracies = []\n",
        "\n",
        "    # --- Inner loop for Cross-Validation Folds ---\n",
        "    for fold, (train_idx, val_idx) in enumerate(cv.split(X_train_pad, y_train)):\n",
        "        print(f\"  Fold {fold + 1}/{N_SPLITS}...\")\n",
        "\n",
        "        # 1. Split data (already numerical)\n",
        "        X_train_fold, y_train_fold = X_train_pad[train_idx], y_train[train_idx].values\n",
        "        X_val_fold, y_val_fold = X_train_pad[val_idx], y_train[val_idx].values\n",
        "\n",
        "        # 2. Rebuild the CNN model with current hyperparameters\n",
        "        cnn_model_fold = build_cnn_model(\n",
        "            vocab_size=FIXED_VOCAB_SIZE,\n",
        "            embedding_dim=embed_dim,\n",
        "            max_length=FIXED_MAX_LENGTH,\n",
        "            filters1=f1_count\n",
        "        )\n",
        "\n",
        "        # 3. Compile the model\n",
        "        optimizer = tf.keras.optimizers.Adam(learning_rate=lr)\n",
        "        cnn_model_fold.compile(optimizer=optimizer,\n",
        "                               loss='binary_crossentropy',\n",
        "                               metrics=['accuracy'])\n",
        "\n",
        "        # 4. Train the model with Early Stopping\n",
        "        early_stopping = EarlyStopping(monitor='val_accuracy', patience=2, restore_best_weights=True, verbose=0)\n",
        "        history = cnn_model_fold.fit(\n",
        "            X_train_fold, y_train_fold,\n",
        "            epochs=EPOCHS_CV_CNN,\n",
        "            batch_size=BATCH_SIZE_CNN,\n",
        "            validation_data=(X_val_fold, y_val_fold),\n",
        "            callbacks=[early_stopping],\n",
        "            verbose=1 # Keep training output minimal during CV\n",
        "        )\n",
        "\n",
        "        # 5. Evaluate on the validation set for this fold\n",
        "        # Evaluate uses the potentially restored best weights if EarlyStopping triggered\n",
        "        loss, accuracy = cnn_model_fold.evaluate(X_val_fold, y_val_fold, batch_size=BATCH_SIZE_CNN, verbose=0)\n",
        "        fold_accuracies.append(accuracy)\n",
        "\n",
        "        # --- 6. Predict & Track First 5 Misclassifications ---\n",
        "        y_pred_proba_fold = cnn_model_fold.predict(X_val_fold, batch_size=BATCH_SIZE_CNN)\n",
        "        # Convert probabilities to 0/1 labels\n",
        "        y_pred_fold = (y_pred_proba_fold > 0.5).astype(int).flatten() # Flatten if shape is (N, 1)\n",
        "\n",
        "        # Find indices where prediction != true label (relative to X_val_fold)\n",
        "        misclassified_indices_in_fold = np.where(y_pred_fold != y_val_fold)[0]\n",
        "\n",
        "        # Store details for the first 5 misclassified samples in this fold\n",
        "        misclassified_count_this_fold = 0\n",
        "        for local_idx in misclassified_indices_in_fold:\n",
        "            if misclassified_count_this_fold >= 5:\n",
        "                break # Stop after collecting 5 samples for this fold\n",
        "\n",
        "            original_train_idx = val_idx[local_idx] # Map back to original X_train index\n",
        "            original_text = X_train[original_train_idx]\n",
        "\n",
        "            misclassified_info = {\n",
        "                'original_train_index': original_train_idx,\n",
        "                'fold': fold + 1,\n",
        "                'embed_dim': embed_dim, # Store params used\n",
        "                'filters1': f1_count,\n",
        "                'lr': lr,\n",
        "                'text': original_text, # Store the actual text\n",
        "                'true_label': y_val_fold[local_idx],\n",
        "                'predicted_label': y_pred_fold[local_idx],\n",
        "                'predicted_probability': y_pred_proba_fold[local_idx][0]\n",
        "            }\n",
        "            cnn_misclassified_data.append(misclassified_info)\n",
        "            misclassified_count_this_fold += 1\n",
        "        # --- End Misclassification Tracking ---\n",
        "\n",
        "        # --- End Fold Loop ---\n",
        "\n",
        "    # Calculate and store mean accuracy for this hyperparameter combo\n",
        "    mean_combo_accuracy = np.mean(fold_accuracies)\n",
        "    std_combo_accuracy = np.std(fold_accuracies)\n",
        "    # Print concise summary for the combo\n",
        "    print(f\"  --- Mean Validation Accuracy: {mean_combo_accuracy:.4f} ± {std_combo_accuracy:.4f} ---\")\n",
        "\n",
        "    # Store the mean result for this combination\n",
        "    cnn_cv_results.append({\n",
        "        'embed_dim': embed_dim, 'filters1': f1_count, 'lr': lr,\n",
        "        'mean_val_accuracy': mean_combo_accuracy,\n",
        "        'std_val_accuracy': std_combo_accuracy\n",
        "    })\n",
        "\n",
        "    # Track the best combination found so far (silently)\n",
        "    if mean_combo_accuracy > best_cnn_score:\n",
        "        best_cnn_score = mean_combo_accuracy\n",
        "        best_cnn_params = {'embed_dim': embed_dim, 'filters1': f1_count, 'lr': lr}"
      ]
    },
    {
      "cell_type": "markdown",
      "id": "a4c5ab7f",
      "metadata": {
        "id": "a4c5ab7f"
      },
      "source": [
        "Now that the 5-Fold CV is done, we can take a look at the best hyperparametes found from our basic hyperparameter tuning and the best mean CV accuracy obtained."
      ]
    },
    {
      "cell_type": "code",
      "execution_count": null,
      "id": "856cbc97",
      "metadata": {
        "id": "856cbc97",
        "outputId": "388f1562-91df-4414-8e66-67aa78474fe5"
      },
      "outputs": [
        {
          "name": "stdout",
          "output_type": "stream",
          "text": [
            "\n",
            "--- CNN CV Hyperparameter Tuning Results (Sorted) ---\n",
            "    embed_dim  filters1      lr  mean_val_accuracy  std_val_accuracy\n",
            "0          50        32  0.0010           0.880950          0.002896\n",
            "6         100        32  0.0010           0.880925          0.003604\n",
            "9         100        64  0.0005           0.880750          0.002770\n",
            "3          50        64  0.0005           0.880550          0.002112\n",
            "4          50       128  0.0010           0.879925          0.002040\n",
            "8         100        64  0.0010           0.879350          0.004107\n",
            "5          50       128  0.0005           0.879225          0.002774\n",
            "2          50        64  0.0010           0.878125          0.003374\n",
            "1          50        32  0.0005           0.878050          0.002072\n",
            "10        100       128  0.0010           0.878050          0.004641\n",
            "11        100       128  0.0005           0.878025          0.002782\n",
            "7         100        32  0.0005           0.877650          0.003963\n",
            "\n",
            "--- Best CNN Hyperparameters Found ---\n",
            "{'embed_dim': 50, 'filters1': 32, 'lr': 0.001}\n",
            "Best Mean Cross-Validation Accuracy: 0.8810\n"
          ]
        }
      ],
      "source": [
        "# Convert results to DataFrame for easier viewing/analysis\n",
        "cnn_cv_results_df = pd.DataFrame(cnn_cv_results)\n",
        "cnn_cv_results_df = cnn_cv_results_df.sort_values(by='mean_val_accuracy', ascending=False)\n",
        "\n",
        "print(\"\\n--- CNN CV Hyperparameter Tuning Results (Sorted) ---\")\n",
        "print(cnn_cv_results_df)\n",
        "\n",
        "print(\"\\n--- Best CNN Hyperparameters Found ---\")\n",
        "print(best_cnn_params)\n",
        "print(f\"Best Mean Cross-Validation Accuracy: {best_cnn_score:.4f}\")"
      ]
    },
    {
      "cell_type": "markdown",
      "id": "fb2cabd1",
      "metadata": {
        "id": "fb2cabd1"
      },
      "source": [
        "From the results, the CNN model achieve a best mean average accuracy of **88.10%**, with a small standard deviation (all <= **±0.0046**). This suggests that the model's performance is consistent accross folds, which is a good sign of performance as well."
      ]
    },
    {
      "cell_type": "code",
      "execution_count": null,
      "id": "3f47fef3",
      "metadata": {
        "id": "3f47fef3",
        "outputId": "d550f371-18b7-4bf5-c3b5-701e39b2e93f"
      },
      "outputs": [
        {
          "name": "stdout",
          "output_type": "stream",
          "text": [
            "\n",
            "--- Sample of Misclassified Data ---\n",
            "Text: trailer movie promise movie deliver exactly promise good campy fun lot good look naked broad expect major hollywood movie major star stellar budget mpaa tamed money shot disappointedhowever fan old b movie unknown good look young star act amazingly well give material hokey surprisingly well do special effect tight naked nubile body movie almost heaven\n",
            "Text: canadian produce zombie flick never hear mortician work body recently decease young man allow extend flashback show guy get basically friends go cemetery friday 13th raise dead thanks silly chant cut back morgue dead body come back life kill mortician owner get eye pop final fuck shot funeral home owner straight jacket scream not crazy amazingly eyeball backrunning scant 58 minute certainly one oddity zombie cinema feel lot longer put kind trance could not stop watching film also one see image turn away screen gags image old man get sick theater prophetic pop twice blood begin flow scene pretty damn gory time period great gaffe zombie chop girl 's right hand shovel pull fake hand frame chomp leave hand\n",
            "Text: one lame movie watch last month predictable plot line pretty bad act mainly support character interview hugh laurie dvd actually reward film itselfhugh laurie obviously put lot effort learn dance samba scope character require immerse kiddie end pool movie base appearance lovely girl great music not sufficient make good entertainmentif never see rio inside british bank film 2 10\n",
            "Text: kalifornia good hollywoodish odyssey suspense terror tell two couple drive crosscountry california share cost gas pair loser lewis pitt two want tobee artist photographer writer duchovny forbes pitt nails character focus somewhat predictable thriller good watch psychokiller flix\n",
            "Text: one lame movie watch last month predictable plot line pretty bad act mainly support character interview hugh laurie dvd actually reward film itselfhugh laurie obviously put lot effort learn dance samba scope character require immerse kiddie end pool movie base appearance lovely girl great music not sufficient make good entertainmentif never see rio inside british bank film 2 10\n"
          ]
        },
        {
          "data": {
            "text/html": [
              "<div>\n",
              "<style scoped>\n",
              "    .dataframe tbody tr th:only-of-type {\n",
              "        vertical-align: middle;\n",
              "    }\n",
              "\n",
              "    .dataframe tbody tr th {\n",
              "        vertical-align: top;\n",
              "    }\n",
              "\n",
              "    .dataframe thead th {\n",
              "        text-align: right;\n",
              "    }\n",
              "</style>\n",
              "<table border=\"1\" class=\"dataframe\">\n",
              "  <thead>\n",
              "    <tr style=\"text-align: right;\">\n",
              "      <th></th>\n",
              "      <th>text</th>\n",
              "      <th>true_label</th>\n",
              "      <th>predicted_label</th>\n",
              "      <th>predicted_probability</th>\n",
              "    </tr>\n",
              "  </thead>\n",
              "  <tbody>\n",
              "    <tr>\n",
              "      <th>252</th>\n",
              "      <td>trailer movie promise movie deliver exactly pr...</td>\n",
              "      <td>0</td>\n",
              "      <td>1</td>\n",
              "      <td>0.992374</td>\n",
              "    </tr>\n",
              "    <tr>\n",
              "      <th>169</th>\n",
              "      <td>canadian produce zombie flick never hear morti...</td>\n",
              "      <td>0</td>\n",
              "      <td>1</td>\n",
              "      <td>0.864453</td>\n",
              "    </tr>\n",
              "    <tr>\n",
              "      <th>68</th>\n",
              "      <td>one lame movie watch last month predictable pl...</td>\n",
              "      <td>0</td>\n",
              "      <td>1</td>\n",
              "      <td>0.865822</td>\n",
              "    </tr>\n",
              "    <tr>\n",
              "      <th>175</th>\n",
              "      <td>kalifornia good hollywoodish odyssey suspense ...</td>\n",
              "      <td>1</td>\n",
              "      <td>0</td>\n",
              "      <td>0.023688</td>\n",
              "    </tr>\n",
              "    <tr>\n",
              "      <th>42</th>\n",
              "      <td>one lame movie watch last month predictable pl...</td>\n",
              "      <td>0</td>\n",
              "      <td>1</td>\n",
              "      <td>0.621945</td>\n",
              "    </tr>\n",
              "  </tbody>\n",
              "</table>\n",
              "</div>"
            ],
            "text/plain": [
              "                                                  text  true_label  \\\n",
              "252  trailer movie promise movie deliver exactly pr...           0   \n",
              "169  canadian produce zombie flick never hear morti...           0   \n",
              "68   one lame movie watch last month predictable pl...           0   \n",
              "175  kalifornia good hollywoodish odyssey suspense ...           1   \n",
              "42   one lame movie watch last month predictable pl...           0   \n",
              "\n",
              "     predicted_label  predicted_probability  \n",
              "252                1               0.992374  \n",
              "169                1               0.864453  \n",
              "68                 1               0.865822  \n",
              "175                0               0.023688  \n",
              "42                 1               0.621945  "
            ]
          },
          "execution_count": 37,
          "metadata": {},
          "output_type": "execute_result"
        }
      ],
      "source": [
        "# analyse misclassified data\n",
        "misclassified_df = pd.DataFrame(cnn_misclassified_data)\n",
        "misclassified_df = misclassified_df.sort_values(by='predicted_probability', ascending=True)\n",
        "\n",
        "# taking a look at a sample at random (display only specific columns)\n",
        "print(\"\\n--- Sample of Misclassified Data ---\")\n",
        "sample_misclassified = pd.DataFrame(misclassified_df[['text', 'true_label', 'predicted_label', 'predicted_probability']].sample(5))\n",
        "for i in range(len(sample_misclassified)):\n",
        "    print(f\"Text: {sample_misclassified.iloc[i]['text']}\")\n",
        "sample_misclassified\n"
      ]
    },
    {
      "cell_type": "markdown",
      "id": "b996eb9b",
      "metadata": {
        "id": "b996eb9b"
      },
      "source": [
        "Since our CNN architecture is using a kernel size of 5, we are looking at 5-word windows, so if negative and neutral phrases dominate the windows, these might be amplified over positive phrases spread throughout the text, and vice-versa, resulting in a misclassification."
      ]
    },
    {
      "cell_type": "markdown",
      "id": "IKmQlc_1qN6F",
      "metadata": {
        "id": "IKmQlc_1qN6F"
      },
      "source": [
        "### 5. Training CNN Model\n",
        "\n",
        "\n",
        "Next, we train our CNN model on the best parameters."
      ]
    },
    {
      "cell_type": "code",
      "execution_count": null,
      "id": "1c8401d2",
      "metadata": {
        "id": "1c8401d2",
        "outputId": "77220d6f-5e72-436b-e702-1b9e2ef0c0ba"
      },
      "outputs": [
        {
          "name": "stdout",
          "output_type": "stream",
          "text": [
            "  Building CNN with embedding_dim=50, filters1=32\n",
            "Epoch 1/5\n"
          ]
        },
        {
          "name": "stderr",
          "output_type": "stream",
          "text": [
            "c:\\Users\\ander\\Desktop\\projects\\IMDB_sentiment_analysis\\it1244\\Lib\\site-packages\\keras\\src\\layers\\core\\embedding.py:90: UserWarning: Argument `input_length` is deprecated. Just remove it.\n",
            "  warnings.warn(\n"
          ]
        },
        {
          "name": "stdout",
          "output_type": "stream",
          "text": [
            "\u001b[1m1250/1250\u001b[0m \u001b[32m━━━━━━━━━━━━━━━━━━━━\u001b[0m\u001b[37m\u001b[0m \u001b[1m11s\u001b[0m 7ms/step - accuracy: 0.7525 - loss: 0.4575\n",
            "Epoch 2/5\n",
            "\u001b[1m1250/1250\u001b[0m \u001b[32m━━━━━━━━━━━━━━━━━━━━\u001b[0m\u001b[37m\u001b[0m \u001b[1m9s\u001b[0m 7ms/step - accuracy: 0.9279 - loss: 0.1920\n",
            "Epoch 3/5\n",
            "\u001b[1m1250/1250\u001b[0m \u001b[32m━━━━━━━━━━━━━━━━━━━━\u001b[0m\u001b[37m\u001b[0m \u001b[1m9s\u001b[0m 7ms/step - accuracy: 0.9678 - loss: 0.1005\n",
            "Epoch 4/5\n",
            "\u001b[1m1250/1250\u001b[0m \u001b[32m━━━━━━━━━━━━━━━━━━━━\u001b[0m\u001b[37m\u001b[0m \u001b[1m9s\u001b[0m 7ms/step - accuracy: 0.9880 - loss: 0.0431\n",
            "Epoch 5/5\n",
            "\u001b[1m1250/1250\u001b[0m \u001b[32m━━━━━━━━━━━━━━━━━━━━\u001b[0m\u001b[37m\u001b[0m \u001b[1m9s\u001b[0m 7ms/step - accuracy: 0.9945 - loss: 0.0185\n"
          ]
        },
        {
          "data": {
            "text/plain": [
              "<keras.src.callbacks.history.History at 0x21039490690>"
            ]
          },
          "execution_count": 21,
          "metadata": {},
          "output_type": "execute_result"
        }
      ],
      "source": [
        "final_embed_dim = best_cnn_params['embed_dim']\n",
        "final_filters1 = best_cnn_params['filters1']\n",
        "final_lr = best_cnn_params['lr']\n",
        "\n",
        "EPOCHS_FINAL_CNN = 5 # based on our 5-fold cv, most stop at 4-5 epochs\n",
        "PATIENCE_FINAL_CNN = 3\n",
        "\n",
        "final_cnn_model = build_cnn_model(\n",
        "    vocab_size=FIXED_VOCAB_SIZE,\n",
        "    embedding_dim=final_embed_dim,\n",
        "    max_length=FIXED_MAX_LENGTH,\n",
        "    filters1=final_filters1\n",
        ")\n",
        "\n",
        "final_optimizer = tf.keras.optimizers.Adam(learning_rate=final_lr)\n",
        "final_cnn_model.compile(optimizer=final_optimizer,\n",
        "                         loss='binary_crossentropy',\n",
        "                         metrics=['accuracy'])\n",
        "\n",
        "final_early_stopping = EarlyStopping(\n",
        "    monitor='loss',\n",
        "    patience=PATIENCE_FINAL_CNN,\n",
        "    restore_best_weights=True,\n",
        "    verbose=0\n",
        ")\n",
        "\n",
        "final_cnn_model.fit(\n",
        "    X_train_pad, y_train,\n",
        "    epochs=EPOCHS_FINAL_CNN,\n",
        "    batch_size=BATCH_SIZE_CNN,\n",
        "    callbacks=[final_early_stopping],\n",
        "    verbose=1\n",
        ")"
      ]
    },
    {
      "cell_type": "code",
      "execution_count": null,
      "id": "1801be10",
      "metadata": {
        "id": "1801be10"
      },
      "outputs": [],
      "source": [
        "final_cnn_model.save('dl_models/final_cnn_model.keras')"
      ]
    },
    {
      "cell_type": "markdown",
      "id": "Cc4NjPdKqlXA",
      "metadata": {
        "id": "Cc4NjPdKqlXA"
      },
      "source": [
        "### 6. Model Evaluation (on test set)\n",
        "\n",
        "We will then proceed with some basic model evaluation to see how the CNN model performs on unseen test data."
      ]
    },
    {
      "cell_type": "code",
      "execution_count": null,
      "id": "fcbacaf2",
      "metadata": {
        "id": "fcbacaf2"
      },
      "outputs": [],
      "source": [
        "import matplotlib.pyplot as plt\n",
        "import seaborn as sns\n",
        "from sklearn.metrics import (\n",
        "    accuracy_score,\n",
        "    confusion_matrix,\n",
        "    classification_report,\n",
        "    roc_curve,\n",
        "    auc,\n",
        "    precision_recall_curve,\n",
        "    average_precision_score\n",
        ")"
      ]
    },
    {
      "cell_type": "code",
      "execution_count": null,
      "id": "7748ba29",
      "metadata": {
        "id": "7748ba29"
      },
      "outputs": [],
      "source": [
        "def plot_evaluation_summary(y_true, y_pred_proba, cm, model_name=\"Model\"):\n",
        "    \"\"\"Generates a figure with insightful evaluation plots.\"\"\"\n",
        "\n",
        "    fig, axes = plt.subplots(2, 2, figsize=(14, 12))\n",
        "    fig.suptitle(f'Evaluation Summary for {model_name}', fontsize=16)\n",
        "\n",
        "    # 1. Confusion Matrix (Raw Counts)\n",
        "    sns.heatmap(cm, annot=True, fmt='d', cmap='Blues', ax=axes[0, 0],\n",
        "                xticklabels=['Predicted Neg (0)', 'Predicted Pos (1)'],\n",
        "                yticklabels=['True Neg (0)', 'True Pos (1)'])\n",
        "    axes[0, 0].set_title('Confusion Matrix (Counts)')\n",
        "    axes[0, 0].set_ylabel('True Label')\n",
        "    axes[0, 0].set_xlabel('Predicted Label')\n",
        "\n",
        "    # 2. ROC Curve\n",
        "    fpr, tpr, _ = roc_curve(y_true, y_pred_proba)\n",
        "    roc_auc = auc(fpr, tpr)\n",
        "    axes[0, 1].plot(fpr, tpr, color='darkorange', lw=2, label=f'ROC curve (AUC = {roc_auc:.3f})')\n",
        "    axes[0, 1].plot([0, 1], [0, 1], color='navy', lw=2, linestyle='--')\n",
        "    axes[0, 1].set_xlim([0.0, 1.0])\n",
        "    axes[0, 1].set_ylim([0.0, 1.05])\n",
        "    axes[0, 1].set_xlabel('False Positive Rate')\n",
        "    axes[0, 1].set_ylabel('True Positive Rate')\n",
        "    axes[0, 1].set_title('Receiver Operating Characteristic (ROC)')\n",
        "    axes[0, 1].legend(loc=\"lower right\")\n",
        "    axes[0, 1].grid(alpha=0.3)\n",
        "\n",
        "    # 3. Precision-Recall Curve\n",
        "    precision, recall, _ = precision_recall_curve(y_true, y_pred_proba)\n",
        "    pr_auc = average_precision_score(y_true, y_pred_proba)\n",
        "    axes[1, 0].plot(recall, precision, color='skyblue', lw=2, label=f'PR curve (AP = {pr_auc:.3f})')\n",
        "    pos_proportion = np.mean(y_true)\n",
        "    axes[1, 0].axhline(pos_proportion, color='grey', lw=1, linestyle='--', label=f'Baseline ({pos_proportion:.2f})')\n",
        "    axes[1, 0].set_xlim([0.0, 1.0])\n",
        "    axes[1, 0].set_ylim([0.0, 1.05])\n",
        "    axes[1, 0].set_xlabel('Recall (Sensitivity)')\n",
        "    axes[1, 0].set_ylabel('Precision')\n",
        "    axes[1, 0].set_title('Precision-Recall Curve')\n",
        "    axes[1, 0].legend(loc=\"lower left\")\n",
        "    axes[1, 0].grid(alpha=0.3)\n",
        "\n",
        "    # 4. Distribution of Predicted Probabilities (Using KDE Plot)\n",
        "    neg_probs = y_pred_proba[y_true == 0]\n",
        "    pos_probs = y_pred_proba[y_true == 1]\n",
        "    sns.kdeplot(neg_probs, color=\"red\", fill=True, alpha=0.5, label='True Negative (0)', ax=axes[1, 1], lw=2)\n",
        "    sns.kdeplot(pos_probs, color=\"blue\", fill=True, alpha=0.5, label='True Positive (1)', ax=axes[1, 1], lw=2)\n",
        "    axes[1, 1].axvline(0.5, color='grey', linestyle='--', lw=1, label='Threshold (0.5)')\n",
        "    axes[1, 1].set_title('Distribution of Predicted Probabilities (KDE)') # Updated title\n",
        "    axes[1, 1].set_xlabel('Predicted Probability of Positive Class (1)')\n",
        "    axes[1, 1].set_ylabel('Density')\n",
        "    # Adjust xlim slightly if peaks are cut off right at 0/1\n",
        "    axes[1, 1].set_xlim([-0.05, 1.05])\n",
        "    axes[1, 1].legend()\n",
        "    axes[1, 1].grid(alpha=0.3)\n",
        "\n",
        "    plt.tight_layout(rect=[0, 0.03, 1, 0.97])\n",
        "\n",
        "    return fig\n"
      ]
    },
    {
      "cell_type": "code",
      "execution_count": null,
      "id": "50a7af4a",
      "metadata": {
        "id": "50a7af4a"
      },
      "outputs": [],
      "source": [
        "def evaluate_sequential_model(model, X_test_pad, y_test, model_name=\"Sequential Model\", batch_size=32, threshold=0.5):\n",
        "    print(f\"--- Evaluating {model_name} ---\")\n",
        "\n",
        "    # Ensure y_test is NumPy\n",
        "    if not isinstance(y_test, np.ndarray):\n",
        "        y_test = np.array(y_test)\n",
        "\n",
        "    # Predict probabilities\n",
        "    print(f\"Predicting probabilities using batch size {batch_size}...\")\n",
        "    try:\n",
        "        y_pred_proba = model.predict(X_test_pad, batch_size=batch_size, verbose=1)\n",
        "    except Exception as e:\n",
        "        print(f\"Error during prediction: {e}\")\n",
        "        return None, None\n",
        "\n",
        "    # Ensure predictions are flattened correctly\n",
        "    y_pred_proba = y_pred_proba.flatten()\n",
        "\n",
        "    # Convert probabilities to binary labels\n",
        "    y_pred_label = (y_pred_proba >= threshold).astype(int)\n",
        "\n",
        "    # Calculate Metrics\n",
        "    print(\"\\nCalculating Metrics...\")\n",
        "    accuracy = accuracy_score(y_test, y_pred_label)\n",
        "    cm = confusion_matrix(y_test, y_pred_label)\n",
        "    # Ensure target names match label encoding (0: Neg, 1: Pos)\n",
        "    report_str = classification_report(y_test, y_pred_label, target_names=['Negative (0)', 'Positive (1)'])\n",
        "    report_dict = classification_report(y_test, y_pred_label, target_names=['Negative (0)', 'Positive (1)'], output_dict=True)\n",
        "    fpr, tpr, _ = roc_curve(y_test, y_pred_proba)\n",
        "    roc_auc = auc(fpr, tpr)\n",
        "    pr_auc = average_precision_score(y_test, y_pred_proba)\n",
        "\n",
        "    # Store Results\n",
        "    results = {\n",
        "        'model_name': model_name,\n",
        "        'accuracy': accuracy,\n",
        "        'roc_auc': roc_auc,\n",
        "        'pr_auc (Average Precision)': pr_auc,\n",
        "        'confusion_matrix': cm.tolist(),\n",
        "        'classification_report_str': report_str,\n",
        "        'classification_report_dict': report_dict,\n",
        "    }\n",
        "\n",
        "    # Print Key Metrics\n",
        "    print(\"\\n--- Key Performance Metrics ---\")\n",
        "    print(f\"Accuracy: {results['accuracy']:.4f}\")\n",
        "    print(f\"ROC AUC: {results['roc_auc']:.4f}\")\n",
        "    print(f\"PR AUC (Avg Precision): {results['pr_auc (Average Precision)']:.4f}\")\n",
        "    print(f\"\\nConfusion Matrix:\\n{cm}\")\n",
        "    print(\"\\nClassification Report:\")\n",
        "    print(results['classification_report_str'])\n",
        "\n",
        "    # Generate Plots using the separate plotting function\n",
        "    print(\"\\nGenerating Evaluation Plots...\")\n",
        "    fig = plot_evaluation_summary(y_test, y_pred_proba, cm, model_name)\n",
        "\n",
        "    print(f\"--- Evaluation Complete for {model_name} ---\")\n",
        "\n",
        "    return results, fig"
      ]
    },
    {
      "cell_type": "code",
      "execution_count": null,
      "id": "e5e13f33",
      "metadata": {
        "id": "e5e13f33",
        "outputId": "d2e8e5b5-94a3-47ee-b081-633101bd478f"
      },
      "outputs": [
        {
          "name": "stdout",
          "output_type": "stream",
          "text": [
            "--- Evaluating CNN ---\n",
            "Predicting probabilities using batch size 32...\n",
            "\u001b[1m313/313\u001b[0m \u001b[32m━━━━━━━━━━━━━━━━━━━━\u001b[0m\u001b[37m\u001b[0m \u001b[1m0s\u001b[0m 2ms/step\n",
            "\n",
            "Calculating Metrics...\n",
            "\n",
            "--- Key Performance Metrics ---\n",
            "Accuracy: 0.8763\n",
            "ROC AUC: 0.9434\n",
            "PR AUC (Avg Precision): 0.9407\n",
            "\n",
            "Confusion Matrix:\n",
            "[[4367  633]\n",
            " [ 604 4396]]\n",
            "\n",
            "Classification Report:\n",
            "              precision    recall  f1-score   support\n",
            "\n",
            "Negative (0)       0.88      0.87      0.88      5000\n",
            "Positive (1)       0.87      0.88      0.88      5000\n",
            "\n",
            "    accuracy                           0.88     10000\n",
            "   macro avg       0.88      0.88      0.88     10000\n",
            "weighted avg       0.88      0.88      0.88     10000\n",
            "\n",
            "\n",
            "Generating Evaluation Plots...\n",
            "--- Evaluation Complete for CNN ---\n"
          ]
        },
        {
          "data": {
            "image/png": "[encoded data removed]",
            "text/plain": [
              "<Figure size 1400x1200 with 5 Axes>"
            ]
          },
          "metadata": {},
          "output_type": "display_data"
        }
      ],
      "source": [
        "cnn_results, cnn_fig = evaluate_sequential_model(\n",
        "                            final_cnn_model,\n",
        "                            X_test_pad, # Pass the padded sequences\n",
        "                            y_test,\n",
        "                            model_name=\"CNN\",\n",
        "                            batch_size=BATCH_SIZE_CNN # Use appropriate batch size\n",
        "                        )\n",
        "if cnn_fig:\n",
        "     plt.show() # Display the plot"
      ]
    },
    {
      "cell_type": "markdown",
      "id": "c7e228d5",
      "metadata": {
        "id": "c7e228d5"
      },
      "source": [
        "The CNN model achieved an accuracy of **87.63%** on the unseen test data, which indicates strong performance and good generalisation on unseen data.\n",
        "\n",
        "Looking at the confusion matrix, the CNN model is able to identify a relatively large number of both and positive and negative reviews. The errors (FN, FP) are quite balanced and significantly smaller thatn the correct predictions, indicating good overall classification ability.\n",
        "\n",
        "Based on the ROC curve, we have an AUC=0.943, suggesting that the model is capable of distinguishing between positive and negative classes.\n",
        "\n",
        "Our precision-recall curve shows that the curve remains high even as recall increases, only dropping significantly at very high recall values. The average precision of 0.941 also affirms that the model maintians high precision when identifying a large proportion of true positive reviews.\n",
        "\n",
        "The Kernel Density Estimate on the bottom right demonstrates how the model's predicted probabilites are distributed for samples that are truly negative versus those that are truly positive. There is a clear distinction between the two distributions, albeit some overlap and errors but they are relatively low density. In contrast, the narrow peaks indicate that the CNN model is generally confident in its predictions."
      ]
    }
  ],
  "metadata": {
    "colab": {
      "provenance": []
    },
    "kernelspec": {
      "display_name": "it1244",
      "language": "python",
      "name": "python3"
    },
    "language_info": {
      "codemirror_mode": {
        "name": "ipython",
        "version": 3
      },
      "file_extension": ".py",
      "mimetype": "text/x-python",
      "name": "python",
      "nbconvert_exporter": "python",
      "pygments_lexer": "ipython3",
      "version": "3.11.4"
    }
  },
  "nbformat": 4,
  "nbformat_minor": 5
}
