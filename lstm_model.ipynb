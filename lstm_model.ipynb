{
 "cells": [
  {
   "cell_type": "markdown",
   "id": "0f04e0d6",
   "metadata": {},
   "source": [
    "### Long Short-Term Memory Model (LSTM)\n",
    "\n",
    "In this notebook, we will attempt to train a simple LSTM model on our IMDB movie reviews dataset and see how it performs."
   ]
  },
  {
   "cell_type": "markdown",
   "id": "a0406d39",
   "metadata": {},
   "source": [
    "Loading the dataset."
   ]
  },
  {
   "cell_type": "code",
   "execution_count": 1,
   "id": "1f4b3ce7",
   "metadata": {},
   "outputs": [],
   "source": [
    "import pandas as pd\n",
    "\n",
    "# load train dataset\n",
    "train_df = pd.read_csv('data/train_set.csv')\n",
    "# load test dataset\n",
    "test_df = pd.read_csv('data/test_set.csv')\n",
    "\n",
    "X_train = train_df['text']\n",
    "y_train = train_df['sentiment']\n",
    "\n",
    "X_test = test_df['text']\n",
    "y_test = test_df['sentiment']"
   ]
  },
  {
   "cell_type": "code",
   "execution_count": 2,
   "id": "d912f348",
   "metadata": {},
   "outputs": [],
   "source": [
    "import numpy as np\n",
    "import itertools\n",
    "import tensorflow as tf\n",
    "from tensorflow.keras import layers, models\n",
    "from tensorflow.keras.preprocessing.text import Tokenizer\n",
    "from tensorflow.keras.preprocessing.sequence import pad_sequences\n",
    "from sklearn.model_selection import StratifiedKFold"
   ]
  },
  {
   "cell_type": "markdown",
   "id": "6666e482",
   "metadata": {},
   "source": [
    "Preprocessing our movie review text and padding based on max_length identified in the CNN notebook."
   ]
  },
  {
   "cell_type": "code",
   "execution_count": 3,
   "id": "5144c139",
   "metadata": {},
   "outputs": [],
   "source": [
    "# set up preprocessing parameters\n",
    "vocab_size = 10000 # vocab size that covers 10k most frequent words in our dataset\n",
    "max_length = 200 # mean length is about 120+ words so we set max to 200\n",
    "\n",
    "# initialise and fit tokenizer on trainig data\n",
    "tokenizer = Tokenizer(num_words=vocab_size, oov_token='<OOV>') # adding OOV to hadnle words not in vocab\n",
    "tokenizer.fit_on_texts(X_train)\n",
    "\n",
    "# convert move review text to sequences\n",
    "X_train_seq = tokenizer.texts_to_sequences(X_train)\n",
    "X_test_seq = tokenizer.texts_to_sequences(X_test)\n",
    "\n",
    "# pad sequences to ensure all reviews are of uniform length\n",
    "X_train_pad = pad_sequences(X_train_seq, maxlen=max_length, padding='post', truncating='post')\n",
    "X_test_pad = pad_sequences(X_test_seq, maxlen=max_length, padding='post', truncating='post')"
   ]
  },
  {
   "cell_type": "markdown",
   "id": "2de1d6fa",
   "metadata": {},
   "source": [
    "Building a simple LSTM architecture using bidirectional LSTM."
   ]
  },
  {
   "cell_type": "code",
   "execution_count": null,
   "id": "63800f99",
   "metadata": {},
   "outputs": [],
   "source": [
    "# define LSTM model\n",
    "def build_lstm_model(vocab_size, embedding_dim, max_length, lstm_units=64, dropout_rate=0.2):\n",
    "    # Using Bidirectional LSTM often helps capture context better in NLP tasks\n",
    "    print(f\"  Building LSTM with embedding_dim={embedding_dim}, lstm_units={lstm_units}\")\n",
    "    model = models.Sequential([\n",
    "        layers.Embedding(input_dim=vocab_size, output_dim=embedding_dim, input_length=max_length),\n",
    "        # Use Bidirectional wrapper around LSTM layer\n",
    "        layers.Bidirectional(layers.LSTM(units=lstm_units)), # Use lstm_units parameter\n",
    "        layers.Dropout(dropout_rate), # Add dropout for regularization\n",
    "        layers.Dense(64, activation='relu'), # Intermediate dense layer\n",
    "        layers.Dense(1, activation='sigmoid') # Output layer\n",
    "    ])\n",
    "    return model"
   ]
  },
  {
   "cell_type": "markdown",
   "id": "e2eb1199",
   "metadata": {},
   "source": [
    "We will then proceed to carry out 5-Fold Cross Validation and simple hyperparameter tuning, considering that training LSTM will take some time due to resource limitations."
   ]
  },
  {
   "cell_type": "code",
   "execution_count": null,
   "id": "9af31d0c",
   "metadata": {},
   "outputs": [],
   "source": [
    "# --- CV Configuration (Same as CNN) ---\n",
    "N_SPLITS = 5\n",
    "cv = StratifiedKFold(n_splits=N_SPLITS, shuffle=True, random_state=42)\n",
    "\n",
    "# --- Hyperparameters for LSTM Tuning (Limited Scope) ---\n",
    "embedding_dims_lstm = [50, 100]     # Same as CNN\n",
    "lstm_unit_options = [32, 64]        # Number of units in LSTM layer (keep low)\n",
    "learning_rates_lstm = [0.001, 0.0005]# Same as CNN\n",
    "\n",
    "# --- Fixed Parameters During CV ---\n",
    "EPOCHS_CV_LSTM = 15 \n",
    "BATCH_SIZE_LSTM = 32 # Keep similar to CNN\n",
    "\n",
    "# Parameters kept fixed\n",
    "FIXED_VOCAB_SIZE = vocab_size \n",
    "FIXED_MAX_LENGTH = max_length "
   ]
  },
  {
   "cell_type": "code",
   "execution_count": 8,
   "id": "10fcb3c4",
   "metadata": {},
   "outputs": [
    {
     "name": "stdout",
     "output_type": "stream",
     "text": [
      "Starting LSTM Cross-Validation with Hyperparameter Tuning...\n",
      "Total parameter combinations to test: 8\n",
      "\n",
      "--- Testing Combo 1/8: embed=50, lstm_units=32, lr=0.001 ---\n",
      "  Fold 1/5...\n",
      "  Building LSTM with embedding_dim=50, lstm_units=32\n",
      "Epoch 1/15\n"
     ]
    },
    {
     "name": "stderr",
     "output_type": "stream",
     "text": [
      "c:\\Users\\ander\\Desktop\\projects\\IMDB_sentiment_analysis\\it1244\\Lib\\site-packages\\keras\\src\\layers\\core\\embedding.py:90: UserWarning: Argument `input_length` is deprecated. Just remove it.\n",
      "  warnings.warn(\n"
     ]
    },
    {
     "name": "stdout",
     "output_type": "stream",
     "text": [
      "\u001b[1m1000/1000\u001b[0m \u001b[32m━━━━━━━━━━━━━━━━━━━━\u001b[0m\u001b[37m\u001b[0m \u001b[1m37s\u001b[0m 35ms/step - accuracy: 0.7294 - loss: 0.5090 - val_accuracy: 0.8674 - val_loss: 0.3186\n",
      "Epoch 2/15\n",
      "\u001b[1m1000/1000\u001b[0m \u001b[32m━━━━━━━━━━━━━━━━━━━━\u001b[0m\u001b[37m\u001b[0m \u001b[1m35s\u001b[0m 35ms/step - accuracy: 0.9071 - loss: 0.2453 - val_accuracy: 0.8800 - val_loss: 0.3083\n",
      "Epoch 3/15\n",
      "\u001b[1m1000/1000\u001b[0m \u001b[32m━━━━━━━━━━━━━━━━━━━━\u001b[0m\u001b[37m\u001b[0m \u001b[1m35s\u001b[0m 35ms/step - accuracy: 0.9341 - loss: 0.1798 - val_accuracy: 0.8704 - val_loss: 0.3234\n",
      "\u001b[1m250/250\u001b[0m \u001b[32m━━━━━━━━━━━━━━━━━━━━\u001b[0m\u001b[37m\u001b[0m \u001b[1m3s\u001b[0m 9ms/step\n",
      "  Fold 2/5...\n",
      "  Building LSTM with embedding_dim=50, lstm_units=32\n",
      "Epoch 1/15\n"
     ]
    },
    {
     "name": "stderr",
     "output_type": "stream",
     "text": [
      "c:\\Users\\ander\\Desktop\\projects\\IMDB_sentiment_analysis\\it1244\\Lib\\site-packages\\keras\\src\\layers\\core\\embedding.py:90: UserWarning: Argument `input_length` is deprecated. Just remove it.\n",
      "  warnings.warn(\n"
     ]
    },
    {
     "name": "stdout",
     "output_type": "stream",
     "text": [
      "\u001b[1m1000/1000\u001b[0m \u001b[32m━━━━━━━━━━━━━━━━━━━━\u001b[0m\u001b[37m\u001b[0m \u001b[1m36s\u001b[0m 34ms/step - accuracy: 0.7650 - loss: 0.4687 - val_accuracy: 0.8649 - val_loss: 0.3389\n",
      "Epoch 2/15\n",
      "\u001b[1m1000/1000\u001b[0m \u001b[32m━━━━━━━━━━━━━━━━━━━━\u001b[0m\u001b[37m\u001b[0m \u001b[1m34s\u001b[0m 34ms/step - accuracy: 0.9121 - loss: 0.2350 - val_accuracy: 0.8795 - val_loss: 0.3027\n",
      "Epoch 3/15\n",
      "\u001b[1m1000/1000\u001b[0m \u001b[32m━━━━━━━━━━━━━━━━━━━━\u001b[0m\u001b[37m\u001b[0m \u001b[1m34s\u001b[0m 34ms/step - accuracy: 0.9374 - loss: 0.1732 - val_accuracy: 0.8842 - val_loss: 0.3166\n",
      "Epoch 4/15\n",
      "\u001b[1m1000/1000\u001b[0m \u001b[32m━━━━━━━━━━━━━━━━━━━━\u001b[0m\u001b[37m\u001b[0m \u001b[1m34s\u001b[0m 34ms/step - accuracy: 0.9555 - loss: 0.1314 - val_accuracy: 0.8802 - val_loss: 0.3774\n",
      "\u001b[1m250/250\u001b[0m \u001b[32m━━━━━━━━━━━━━━━━━━━━\u001b[0m\u001b[37m\u001b[0m \u001b[1m3s\u001b[0m 9ms/step\n",
      "  Fold 3/5...\n",
      "  Building LSTM with embedding_dim=50, lstm_units=32\n",
      "Epoch 1/15\n"
     ]
    },
    {
     "name": "stderr",
     "output_type": "stream",
     "text": [
      "c:\\Users\\ander\\Desktop\\projects\\IMDB_sentiment_analysis\\it1244\\Lib\\site-packages\\keras\\src\\layers\\core\\embedding.py:90: UserWarning: Argument `input_length` is deprecated. Just remove it.\n",
      "  warnings.warn(\n"
     ]
    },
    {
     "name": "stdout",
     "output_type": "stream",
     "text": [
      "\u001b[1m1000/1000\u001b[0m \u001b[32m━━━━━━━━━━━━━━━━━━━━\u001b[0m\u001b[37m\u001b[0m \u001b[1m36s\u001b[0m 34ms/step - accuracy: 0.7581 - loss: 0.4677 - val_accuracy: 0.8774 - val_loss: 0.3109\n",
      "Epoch 2/15\n",
      "\u001b[1m1000/1000\u001b[0m \u001b[32m━━━━━━━━━━━━━━━━━━━━\u001b[0m\u001b[37m\u001b[0m \u001b[1m34s\u001b[0m 34ms/step - accuracy: 0.9064 - loss: 0.2345 - val_accuracy: 0.8832 - val_loss: 0.2930\n",
      "Epoch 3/15\n",
      "\u001b[1m1000/1000\u001b[0m \u001b[32m━━━━━━━━━━━━━━━━━━━━\u001b[0m\u001b[37m\u001b[0m \u001b[1m34s\u001b[0m 34ms/step - accuracy: 0.9348 - loss: 0.1784 - val_accuracy: 0.8795 - val_loss: 0.3372\n",
      "\u001b[1m250/250\u001b[0m \u001b[32m━━━━━━━━━━━━━━━━━━━━\u001b[0m\u001b[37m\u001b[0m \u001b[1m3s\u001b[0m 9ms/step\n",
      "  Fold 4/5...\n",
      "  Building LSTM with embedding_dim=50, lstm_units=32\n",
      "Epoch 1/15\n"
     ]
    },
    {
     "name": "stderr",
     "output_type": "stream",
     "text": [
      "c:\\Users\\ander\\Desktop\\projects\\IMDB_sentiment_analysis\\it1244\\Lib\\site-packages\\keras\\src\\layers\\core\\embedding.py:90: UserWarning: Argument `input_length` is deprecated. Just remove it.\n",
      "  warnings.warn(\n"
     ]
    },
    {
     "name": "stdout",
     "output_type": "stream",
     "text": [
      "\u001b[1m1000/1000\u001b[0m \u001b[32m━━━━━━━━━━━━━━━━━━━━\u001b[0m\u001b[37m\u001b[0m \u001b[1m39s\u001b[0m 36ms/step - accuracy: 0.7496 - loss: 0.4760 - val_accuracy: 0.8684 - val_loss: 0.3452\n",
      "Epoch 2/15\n",
      "\u001b[1m1000/1000\u001b[0m \u001b[32m━━━━━━━━━━━━━━━━━━━━\u001b[0m\u001b[37m\u001b[0m \u001b[1m35s\u001b[0m 35ms/step - accuracy: 0.9115 - loss: 0.2369 - val_accuracy: 0.8709 - val_loss: 0.3176\n",
      "Epoch 3/15\n",
      "\u001b[1m1000/1000\u001b[0m \u001b[32m━━━━━━━━━━━━━━━━━━━━\u001b[0m\u001b[37m\u001b[0m \u001b[1m35s\u001b[0m 35ms/step - accuracy: 0.9411 - loss: 0.1696 - val_accuracy: 0.8748 - val_loss: 0.3231\n",
      "Epoch 4/15\n",
      "\u001b[1m1000/1000\u001b[0m \u001b[32m━━━━━━━━━━━━━━━━━━━━\u001b[0m\u001b[37m\u001b[0m \u001b[1m36s\u001b[0m 36ms/step - accuracy: 0.9546 - loss: 0.1297 - val_accuracy: 0.8456 - val_loss: 0.4408\n",
      "\u001b[1m250/250\u001b[0m \u001b[32m━━━━━━━━━━━━━━━━━━━━\u001b[0m\u001b[37m\u001b[0m \u001b[1m3s\u001b[0m 10ms/step\n",
      "  Fold 5/5...\n",
      "  Building LSTM with embedding_dim=50, lstm_units=32\n",
      "Epoch 1/15\n"
     ]
    },
    {
     "name": "stderr",
     "output_type": "stream",
     "text": [
      "c:\\Users\\ander\\Desktop\\projects\\IMDB_sentiment_analysis\\it1244\\Lib\\site-packages\\keras\\src\\layers\\core\\embedding.py:90: UserWarning: Argument `input_length` is deprecated. Just remove it.\n",
      "  warnings.warn(\n"
     ]
    },
    {
     "name": "stdout",
     "output_type": "stream",
     "text": [
      "\u001b[1m1000/1000\u001b[0m \u001b[32m━━━━━━━━━━━━━━━━━━━━\u001b[0m\u001b[37m\u001b[0m \u001b[1m39s\u001b[0m 37ms/step - accuracy: 0.7493 - loss: 0.4831 - val_accuracy: 0.8771 - val_loss: 0.2945\n",
      "Epoch 2/15\n",
      "\u001b[1m1000/1000\u001b[0m \u001b[32m━━━━━━━━━━━━━━━━━━━━\u001b[0m\u001b[37m\u001b[0m \u001b[1m40s\u001b[0m 40ms/step - accuracy: 0.9147 - loss: 0.2293 - val_accuracy: 0.8811 - val_loss: 0.2917\n",
      "Epoch 3/15\n",
      "\u001b[1m1000/1000\u001b[0m \u001b[32m━━━━━━━━━━━━━━━━━━━━\u001b[0m\u001b[37m\u001b[0m \u001b[1m37s\u001b[0m 37ms/step - accuracy: 0.9375 - loss: 0.1693 - val_accuracy: 0.8754 - val_loss: 0.3127\n",
      "\u001b[1m250/250\u001b[0m \u001b[32m━━━━━━━━━━━━━━━━━━━━\u001b[0m\u001b[37m\u001b[0m \u001b[1m3s\u001b[0m 11ms/step\n",
      "  --- Mean Validation Accuracy: 0.8807 ± 0.0033 ---\n",
      "\n",
      "--- Testing Combo 2/8: embed=50, lstm_units=32, lr=0.0005 ---\n",
      "  Fold 1/5...\n",
      "  Building LSTM with embedding_dim=50, lstm_units=32\n",
      "Epoch 1/15\n"
     ]
    },
    {
     "name": "stderr",
     "output_type": "stream",
     "text": [
      "c:\\Users\\ander\\Desktop\\projects\\IMDB_sentiment_analysis\\it1244\\Lib\\site-packages\\keras\\src\\layers\\core\\embedding.py:90: UserWarning: Argument `input_length` is deprecated. Just remove it.\n",
      "  warnings.warn(\n"
     ]
    },
    {
     "name": "stdout",
     "output_type": "stream",
     "text": [
      "\u001b[1m1000/1000\u001b[0m \u001b[32m━━━━━━━━━━━━━━━━━━━━\u001b[0m\u001b[37m\u001b[0m \u001b[1m39s\u001b[0m 37ms/step - accuracy: 0.7270 - loss: 0.5019 - val_accuracy: 0.8741 - val_loss: 0.3100\n",
      "Epoch 2/15\n",
      "\u001b[1m1000/1000\u001b[0m \u001b[32m━━━━━━━━━━━━━━━━━━━━\u001b[0m\u001b[37m\u001b[0m \u001b[1m36s\u001b[0m 36ms/step - accuracy: 0.9131 - loss: 0.2339 - val_accuracy: 0.8748 - val_loss: 0.2993\n",
      "Epoch 3/15\n",
      "\u001b[1m1000/1000\u001b[0m \u001b[32m━━━━━━━━━━━━━━━━━━━━\u001b[0m\u001b[37m\u001b[0m \u001b[1m37s\u001b[0m 37ms/step - accuracy: 0.9375 - loss: 0.1719 - val_accuracy: 0.8799 - val_loss: 0.3401\n",
      "Epoch 4/15\n",
      "\u001b[1m1000/1000\u001b[0m \u001b[32m━━━━━━━━━━━━━━━━━━━━\u001b[0m\u001b[37m\u001b[0m \u001b[1m37s\u001b[0m 37ms/step - accuracy: 0.9531 - loss: 0.1349 - val_accuracy: 0.8695 - val_loss: 0.3409\n",
      "\u001b[1m250/250\u001b[0m \u001b[32m━━━━━━━━━━━━━━━━━━━━\u001b[0m\u001b[37m\u001b[0m \u001b[1m3s\u001b[0m 10ms/step\n",
      "  Fold 2/5...\n",
      "  Building LSTM with embedding_dim=50, lstm_units=32\n",
      "Epoch 1/15\n"
     ]
    },
    {
     "name": "stderr",
     "output_type": "stream",
     "text": [
      "c:\\Users\\ander\\Desktop\\projects\\IMDB_sentiment_analysis\\it1244\\Lib\\site-packages\\keras\\src\\layers\\core\\embedding.py:90: UserWarning: Argument `input_length` is deprecated. Just remove it.\n",
      "  warnings.warn(\n"
     ]
    },
    {
     "name": "stdout",
     "output_type": "stream",
     "text": [
      "\u001b[1m1000/1000\u001b[0m \u001b[32m━━━━━━━━━━━━━━━━━━━━\u001b[0m\u001b[37m\u001b[0m \u001b[1m40s\u001b[0m 37ms/step - accuracy: 0.7246 - loss: 0.5064 - val_accuracy: 0.8711 - val_loss: 0.3085\n",
      "Epoch 2/15\n",
      "\u001b[1m1000/1000\u001b[0m \u001b[32m━━━━━━━━━━━━━━━━━━━━\u001b[0m\u001b[37m\u001b[0m \u001b[1m37s\u001b[0m 37ms/step - accuracy: 0.9075 - loss: 0.2447 - val_accuracy: 0.8835 - val_loss: 0.2843\n",
      "Epoch 3/15\n",
      "\u001b[1m1000/1000\u001b[0m \u001b[32m━━━━━━━━━━━━━━━━━━━━\u001b[0m\u001b[37m\u001b[0m \u001b[1m38s\u001b[0m 38ms/step - accuracy: 0.9339 - loss: 0.1836 - val_accuracy: 0.8856 - val_loss: 0.2956\n",
      "Epoch 4/15\n",
      "\u001b[1m1000/1000\u001b[0m \u001b[32m━━━━━━━━━━━━━━━━━━━━\u001b[0m\u001b[37m\u001b[0m \u001b[1m37s\u001b[0m 37ms/step - accuracy: 0.9502 - loss: 0.1446 - val_accuracy: 0.8771 - val_loss: 0.3285\n",
      "\u001b[1m250/250\u001b[0m \u001b[32m━━━━━━━━━━━━━━━━━━━━\u001b[0m\u001b[37m\u001b[0m \u001b[1m3s\u001b[0m 10ms/step\n",
      "  Fold 3/5...\n",
      "  Building LSTM with embedding_dim=50, lstm_units=32\n",
      "Epoch 1/15\n"
     ]
    },
    {
     "name": "stderr",
     "output_type": "stream",
     "text": [
      "c:\\Users\\ander\\Desktop\\projects\\IMDB_sentiment_analysis\\it1244\\Lib\\site-packages\\keras\\src\\layers\\core\\embedding.py:90: UserWarning: Argument `input_length` is deprecated. Just remove it.\n",
      "  warnings.warn(\n"
     ]
    },
    {
     "name": "stdout",
     "output_type": "stream",
     "text": [
      "\u001b[1m1000/1000\u001b[0m \u001b[32m━━━━━━━━━━━━━━━━━━━━\u001b[0m\u001b[37m\u001b[0m \u001b[1m40s\u001b[0m 37ms/step - accuracy: 0.7230 - loss: 0.5014 - val_accuracy: 0.8852 - val_loss: 0.2881\n",
      "Epoch 2/15\n",
      "\u001b[1m1000/1000\u001b[0m \u001b[32m━━━━━━━━━━━━━━━━━━━━\u001b[0m\u001b[37m\u001b[0m \u001b[1m36s\u001b[0m 36ms/step - accuracy: 0.9121 - loss: 0.2333 - val_accuracy: 0.8885 - val_loss: 0.2901\n",
      "Epoch 3/15\n",
      "\u001b[1m1000/1000\u001b[0m \u001b[32m━━━━━━━━━━━━━━━━━━━━\u001b[0m\u001b[37m\u001b[0m \u001b[1m36s\u001b[0m 36ms/step - accuracy: 0.9368 - loss: 0.1728 - val_accuracy: 0.8845 - val_loss: 0.3083\n",
      "\u001b[1m250/250\u001b[0m \u001b[32m━━━━━━━━━━━━━━━━━━━━\u001b[0m\u001b[37m\u001b[0m \u001b[1m3s\u001b[0m 10ms/step\n",
      "  Fold 4/5...\n",
      "  Building LSTM with embedding_dim=50, lstm_units=32\n",
      "Epoch 1/15\n"
     ]
    },
    {
     "name": "stderr",
     "output_type": "stream",
     "text": [
      "c:\\Users\\ander\\Desktop\\projects\\IMDB_sentiment_analysis\\it1244\\Lib\\site-packages\\keras\\src\\layers\\core\\embedding.py:90: UserWarning: Argument `input_length` is deprecated. Just remove it.\n",
      "  warnings.warn(\n"
     ]
    },
    {
     "name": "stdout",
     "output_type": "stream",
     "text": [
      "\u001b[1m1000/1000\u001b[0m \u001b[32m━━━━━━━━━━━━━━━━━━━━\u001b[0m\u001b[37m\u001b[0m \u001b[1m38s\u001b[0m 36ms/step - accuracy: 0.7135 - loss: 0.5184 - val_accuracy: 0.8719 - val_loss: 0.3236\n",
      "Epoch 2/15\n",
      "\u001b[1m1000/1000\u001b[0m \u001b[32m━━━━━━━━━━━━━━━━━━━━\u001b[0m\u001b[37m\u001b[0m \u001b[1m36s\u001b[0m 36ms/step - accuracy: 0.9100 - loss: 0.2378 - val_accuracy: 0.8819 - val_loss: 0.3098\n",
      "Epoch 3/15\n",
      "\u001b[1m1000/1000\u001b[0m \u001b[32m━━━━━━━━━━━━━━━━━━━━\u001b[0m\u001b[37m\u001b[0m \u001b[1m37s\u001b[0m 37ms/step - accuracy: 0.9340 - loss: 0.1853 - val_accuracy: 0.8616 - val_loss: 0.3212\n",
      "\u001b[1m250/250\u001b[0m \u001b[32m━━━━━━━━━━━━━━━━━━━━\u001b[0m\u001b[37m\u001b[0m \u001b[1m3s\u001b[0m 10ms/step\n",
      "  Fold 5/5...\n",
      "  Building LSTM with embedding_dim=50, lstm_units=32\n",
      "Epoch 1/15\n"
     ]
    },
    {
     "name": "stderr",
     "output_type": "stream",
     "text": [
      "c:\\Users\\ander\\Desktop\\projects\\IMDB_sentiment_analysis\\it1244\\Lib\\site-packages\\keras\\src\\layers\\core\\embedding.py:90: UserWarning: Argument `input_length` is deprecated. Just remove it.\n",
      "  warnings.warn(\n"
     ]
    },
    {
     "name": "stdout",
     "output_type": "stream",
     "text": [
      "\u001b[1m1000/1000\u001b[0m \u001b[32m━━━━━━━━━━━━━━━━━━━━\u001b[0m\u001b[37m\u001b[0m \u001b[1m38s\u001b[0m 36ms/step - accuracy: 0.7211 - loss: 0.5158 - val_accuracy: 0.8740 - val_loss: 0.3004\n",
      "Epoch 2/15\n",
      "\u001b[1m1000/1000\u001b[0m \u001b[32m━━━━━━━━━━━━━━━━━━━━\u001b[0m\u001b[37m\u001b[0m \u001b[1m36s\u001b[0m 36ms/step - accuracy: 0.9104 - loss: 0.2380 - val_accuracy: 0.8823 - val_loss: 0.2910\n",
      "Epoch 3/15\n",
      "\u001b[1m1000/1000\u001b[0m \u001b[32m━━━━━━━━━━━━━━━━━━━━\u001b[0m\u001b[37m\u001b[0m \u001b[1m36s\u001b[0m 36ms/step - accuracy: 0.9381 - loss: 0.1749 - val_accuracy: 0.8646 - val_loss: 0.3243\n",
      "\u001b[1m250/250\u001b[0m \u001b[32m━━━━━━━━━━━━━━━━━━━━\u001b[0m\u001b[37m\u001b[0m \u001b[1m3s\u001b[0m 10ms/step\n",
      "  --- Mean Validation Accuracy: 0.8836 ± 0.0031 ---\n",
      "\n",
      "--- Testing Combo 3/8: embed=50, lstm_units=64, lr=0.001 ---\n",
      "  Fold 1/5...\n",
      "  Building LSTM with embedding_dim=50, lstm_units=64\n",
      "Epoch 1/15\n"
     ]
    },
    {
     "name": "stderr",
     "output_type": "stream",
     "text": [
      "c:\\Users\\ander\\Desktop\\projects\\IMDB_sentiment_analysis\\it1244\\Lib\\site-packages\\keras\\src\\layers\\core\\embedding.py:90: UserWarning: Argument `input_length` is deprecated. Just remove it.\n",
      "  warnings.warn(\n"
     ]
    },
    {
     "name": "stdout",
     "output_type": "stream",
     "text": [
      "\u001b[1m1000/1000\u001b[0m \u001b[32m━━━━━━━━━━━━━━━━━━━━\u001b[0m\u001b[37m\u001b[0m \u001b[1m49s\u001b[0m 46ms/step - accuracy: 0.7519 - loss: 0.4901 - val_accuracy: 0.8516 - val_loss: 0.3525\n",
      "Epoch 2/15\n",
      "\u001b[1m1000/1000\u001b[0m \u001b[32m━━━━━━━━━━━━━━━━━━━━\u001b[0m\u001b[37m\u001b[0m \u001b[1m45s\u001b[0m 45ms/step - accuracy: 0.9042 - loss: 0.2538 - val_accuracy: 0.8766 - val_loss: 0.3508\n",
      "Epoch 3/15\n",
      "\u001b[1m1000/1000\u001b[0m \u001b[32m━━━━━━━━━━━━━━━━━━━━\u001b[0m\u001b[37m\u001b[0m \u001b[1m45s\u001b[0m 45ms/step - accuracy: 0.9306 - loss: 0.1880 - val_accuracy: 0.8635 - val_loss: 0.3302\n",
      "\u001b[1m250/250\u001b[0m \u001b[32m━━━━━━━━━━━━━━━━━━━━\u001b[0m\u001b[37m\u001b[0m \u001b[1m4s\u001b[0m 16ms/step\n",
      "  Fold 2/5...\n",
      "  Building LSTM with embedding_dim=50, lstm_units=64\n",
      "Epoch 1/15\n"
     ]
    },
    {
     "name": "stderr",
     "output_type": "stream",
     "text": [
      "c:\\Users\\ander\\Desktop\\projects\\IMDB_sentiment_analysis\\it1244\\Lib\\site-packages\\keras\\src\\layers\\core\\embedding.py:90: UserWarning: Argument `input_length` is deprecated. Just remove it.\n",
      "  warnings.warn(\n"
     ]
    },
    {
     "name": "stdout",
     "output_type": "stream",
     "text": [
      "\u001b[1m1000/1000\u001b[0m \u001b[32m━━━━━━━━━━━━━━━━━━━━\u001b[0m\u001b[37m\u001b[0m \u001b[1m46s\u001b[0m 44ms/step - accuracy: 0.7409 - loss: 0.4934 - val_accuracy: 0.8742 - val_loss: 0.3085\n",
      "Epoch 2/15\n",
      "\u001b[1m1000/1000\u001b[0m \u001b[32m━━━━━━━━━━━━━━━━━━━━\u001b[0m\u001b[37m\u001b[0m \u001b[1m43s\u001b[0m 43ms/step - accuracy: 0.9049 - loss: 0.2515 - val_accuracy: 0.8866 - val_loss: 0.2877\n",
      "Epoch 3/15\n",
      "\u001b[1m1000/1000\u001b[0m \u001b[32m━━━━━━━━━━━━━━━━━━━━\u001b[0m\u001b[37m\u001b[0m \u001b[1m43s\u001b[0m 42ms/step - accuracy: 0.9350 - loss: 0.1773 - val_accuracy: 0.8566 - val_loss: 0.3440\n",
      "\u001b[1m250/250\u001b[0m \u001b[32m━━━━━━━━━━━━━━━━━━━━\u001b[0m\u001b[37m\u001b[0m \u001b[1m4s\u001b[0m 17ms/step\n",
      "  Fold 3/5...\n",
      "  Building LSTM with embedding_dim=50, lstm_units=64\n",
      "Epoch 1/15\n"
     ]
    },
    {
     "name": "stderr",
     "output_type": "stream",
     "text": [
      "c:\\Users\\ander\\Desktop\\projects\\IMDB_sentiment_analysis\\it1244\\Lib\\site-packages\\keras\\src\\layers\\core\\embedding.py:90: UserWarning: Argument `input_length` is deprecated. Just remove it.\n",
      "  warnings.warn(\n"
     ]
    },
    {
     "name": "stdout",
     "output_type": "stream",
     "text": [
      "\u001b[1m1000/1000\u001b[0m \u001b[32m━━━━━━━━━━━━━━━━━━━━\u001b[0m\u001b[37m\u001b[0m \u001b[1m45s\u001b[0m 42ms/step - accuracy: 0.7386 - loss: 0.5081 - val_accuracy: 0.8644 - val_loss: 0.3230\n",
      "Epoch 2/15\n",
      "\u001b[1m1000/1000\u001b[0m \u001b[32m━━━━━━━━━━━━━━━━━━━━\u001b[0m\u001b[37m\u001b[0m \u001b[1m42s\u001b[0m 42ms/step - accuracy: 0.9012 - loss: 0.2634 - val_accuracy: 0.8544 - val_loss: 0.3376\n",
      "\u001b[1m250/250\u001b[0m \u001b[32m━━━━━━━━━━━━━━━━━━━━\u001b[0m\u001b[37m\u001b[0m \u001b[1m4s\u001b[0m 14ms/step\n",
      "  Fold 4/5...\n",
      "  Building LSTM with embedding_dim=50, lstm_units=64\n",
      "Epoch 1/15\n"
     ]
    },
    {
     "name": "stderr",
     "output_type": "stream",
     "text": [
      "c:\\Users\\ander\\Desktop\\projects\\IMDB_sentiment_analysis\\it1244\\Lib\\site-packages\\keras\\src\\layers\\core\\embedding.py:90: UserWarning: Argument `input_length` is deprecated. Just remove it.\n",
      "  warnings.warn(\n"
     ]
    },
    {
     "name": "stdout",
     "output_type": "stream",
     "text": [
      "\u001b[1m1000/1000\u001b[0m \u001b[32m━━━━━━━━━━━━━━━━━━━━\u001b[0m\u001b[37m\u001b[0m \u001b[1m43s\u001b[0m 41ms/step - accuracy: 0.7419 - loss: 0.5017 - val_accuracy: 0.8671 - val_loss: 0.3256\n",
      "Epoch 2/15\n",
      "\u001b[1m1000/1000\u001b[0m \u001b[32m━━━━━━━━━━━━━━━━━━━━\u001b[0m\u001b[37m\u001b[0m \u001b[1m41s\u001b[0m 41ms/step - accuracy: 0.9030 - loss: 0.2531 - val_accuracy: 0.8748 - val_loss: 0.3100\n",
      "Epoch 3/15\n",
      "\u001b[1m1000/1000\u001b[0m \u001b[32m━━━━━━━━━━━━━━━━━━━━\u001b[0m\u001b[37m\u001b[0m \u001b[1m41s\u001b[0m 41ms/step - accuracy: 0.9360 - loss: 0.1802 - val_accuracy: 0.8524 - val_loss: 0.3422\n",
      "\u001b[1m250/250\u001b[0m \u001b[32m━━━━━━━━━━━━━━━━━━━━\u001b[0m\u001b[37m\u001b[0m \u001b[1m4s\u001b[0m 15ms/step\n",
      "  Fold 5/5...\n",
      "  Building LSTM with embedding_dim=50, lstm_units=64\n",
      "Epoch 1/15\n"
     ]
    },
    {
     "name": "stderr",
     "output_type": "stream",
     "text": [
      "c:\\Users\\ander\\Desktop\\projects\\IMDB_sentiment_analysis\\it1244\\Lib\\site-packages\\keras\\src\\layers\\core\\embedding.py:90: UserWarning: Argument `input_length` is deprecated. Just remove it.\n",
      "  warnings.warn(\n"
     ]
    },
    {
     "name": "stdout",
     "output_type": "stream",
     "text": [
      "\u001b[1m1000/1000\u001b[0m \u001b[32m━━━━━━━━━━━━━━━━━━━━\u001b[0m\u001b[37m\u001b[0m \u001b[1m53s\u001b[0m 50ms/step - accuracy: 0.7553 - loss: 0.4768 - val_accuracy: 0.6945 - val_loss: 0.5997\n",
      "Epoch 2/15\n",
      "\u001b[1m1000/1000\u001b[0m \u001b[32m━━━━━━━━━━━━━━━━━━━━\u001b[0m\u001b[37m\u001b[0m \u001b[1m47s\u001b[0m 47ms/step - accuracy: 0.8727 - loss: 0.3182 - val_accuracy: 0.8809 - val_loss: 0.2938\n",
      "Epoch 3/15\n",
      "\u001b[1m1000/1000\u001b[0m \u001b[32m━━━━━━━━━━━━━━━━━━━━\u001b[0m\u001b[37m\u001b[0m \u001b[1m49s\u001b[0m 49ms/step - accuracy: 0.9298 - loss: 0.1973 - val_accuracy: 0.8679 - val_loss: 0.4721\n",
      "\u001b[1m250/250\u001b[0m \u001b[32m━━━━━━━━━━━━━━━━━━━━\u001b[0m\u001b[37m\u001b[0m \u001b[1m5s\u001b[0m 17ms/step\n",
      "  --- Mean Validation Accuracy: 0.8766 ± 0.0074 ---\n",
      "\n",
      "--- Testing Combo 4/8: embed=50, lstm_units=64, lr=0.0005 ---\n",
      "  Fold 1/5...\n",
      "  Building LSTM with embedding_dim=50, lstm_units=64\n",
      "Epoch 1/15\n"
     ]
    },
    {
     "name": "stderr",
     "output_type": "stream",
     "text": [
      "c:\\Users\\ander\\Desktop\\projects\\IMDB_sentiment_analysis\\it1244\\Lib\\site-packages\\keras\\src\\layers\\core\\embedding.py:90: UserWarning: Argument `input_length` is deprecated. Just remove it.\n",
      "  warnings.warn(\n"
     ]
    },
    {
     "name": "stdout",
     "output_type": "stream",
     "text": [
      "\u001b[1m1000/1000\u001b[0m \u001b[32m━━━━━━━━━━━━━━━━━━━━\u001b[0m\u001b[37m\u001b[0m \u001b[1m47s\u001b[0m 45ms/step - accuracy: 0.7363 - loss: 0.4971 - val_accuracy: 0.8758 - val_loss: 0.3127\n",
      "Epoch 2/15\n",
      "\u001b[1m1000/1000\u001b[0m \u001b[32m━━━━━━━━━━━━━━━━━━━━\u001b[0m\u001b[37m\u001b[0m \u001b[1m44s\u001b[0m 44ms/step - accuracy: 0.9087 - loss: 0.2421 - val_accuracy: 0.8795 - val_loss: 0.2973\n",
      "Epoch 3/15\n",
      "\u001b[1m1000/1000\u001b[0m \u001b[32m━━━━━━━━━━━━━━━━━━━━\u001b[0m\u001b[37m\u001b[0m \u001b[1m45s\u001b[0m 45ms/step - accuracy: 0.9321 - loss: 0.1866 - val_accuracy: 0.8789 - val_loss: 0.3135\n",
      "\u001b[1m250/250\u001b[0m \u001b[32m━━━━━━━━━━━━━━━━━━━━\u001b[0m\u001b[37m\u001b[0m \u001b[1m4s\u001b[0m 17ms/step\n",
      "  Fold 2/5...\n",
      "  Building LSTM with embedding_dim=50, lstm_units=64\n",
      "Epoch 1/15\n"
     ]
    },
    {
     "name": "stderr",
     "output_type": "stream",
     "text": [
      "c:\\Users\\ander\\Desktop\\projects\\IMDB_sentiment_analysis\\it1244\\Lib\\site-packages\\keras\\src\\layers\\core\\embedding.py:90: UserWarning: Argument `input_length` is deprecated. Just remove it.\n",
      "  warnings.warn(\n"
     ]
    },
    {
     "name": "stdout",
     "output_type": "stream",
     "text": [
      "\u001b[1m1000/1000\u001b[0m \u001b[32m━━━━━━━━━━━━━━━━━━━━\u001b[0m\u001b[37m\u001b[0m \u001b[1m44s\u001b[0m 42ms/step - accuracy: 0.7341 - loss: 0.4881 - val_accuracy: 0.8810 - val_loss: 0.2939\n",
      "Epoch 2/15\n",
      "\u001b[1m1000/1000\u001b[0m \u001b[32m━━━━━━━━━━━━━━━━━━━━\u001b[0m\u001b[37m\u001b[0m \u001b[1m41s\u001b[0m 41ms/step - accuracy: 0.9132 - loss: 0.2343 - val_accuracy: 0.8864 - val_loss: 0.2995\n",
      "Epoch 3/15\n",
      "\u001b[1m1000/1000\u001b[0m \u001b[32m━━━━━━━━━━━━━━━━━━━━\u001b[0m\u001b[37m\u001b[0m \u001b[1m41s\u001b[0m 41ms/step - accuracy: 0.9371 - loss: 0.1780 - val_accuracy: 0.8776 - val_loss: 0.3286\n",
      "\u001b[1m250/250\u001b[0m \u001b[32m━━━━━━━━━━━━━━━━━━━━\u001b[0m\u001b[37m\u001b[0m \u001b[1m4s\u001b[0m 14ms/step\n",
      "  Fold 3/5...\n",
      "  Building LSTM with embedding_dim=50, lstm_units=64\n",
      "Epoch 1/15\n"
     ]
    },
    {
     "name": "stderr",
     "output_type": "stream",
     "text": [
      "c:\\Users\\ander\\Desktop\\projects\\IMDB_sentiment_analysis\\it1244\\Lib\\site-packages\\keras\\src\\layers\\core\\embedding.py:90: UserWarning: Argument `input_length` is deprecated. Just remove it.\n",
      "  warnings.warn(\n"
     ]
    },
    {
     "name": "stdout",
     "output_type": "stream",
     "text": [
      "\u001b[1m1000/1000\u001b[0m \u001b[32m━━━━━━━━━━━━━━━━━━━━\u001b[0m\u001b[37m\u001b[0m \u001b[1m50s\u001b[0m 47ms/step - accuracy: 0.7324 - loss: 0.4980 - val_accuracy: 0.8625 - val_loss: 0.3323\n",
      "Epoch 2/15\n",
      "\u001b[1m1000/1000\u001b[0m \u001b[32m━━━━━━━━━━━━━━━━━━━━\u001b[0m\u001b[37m\u001b[0m \u001b[1m47s\u001b[0m 47ms/step - accuracy: 0.9112 - loss: 0.2372 - val_accuracy: 0.8808 - val_loss: 0.3053\n",
      "Epoch 3/15\n",
      "\u001b[1m1000/1000\u001b[0m \u001b[32m━━━━━━━━━━━━━━━━━━━━\u001b[0m\u001b[37m\u001b[0m \u001b[1m47s\u001b[0m 47ms/step - accuracy: 0.9354 - loss: 0.1798 - val_accuracy: 0.8684 - val_loss: 0.3248\n",
      "\u001b[1m250/250\u001b[0m \u001b[32m━━━━━━━━━━━━━━━━━━━━\u001b[0m\u001b[37m\u001b[0m \u001b[1m4s\u001b[0m 16ms/step\n",
      "  Fold 4/5...\n",
      "  Building LSTM with embedding_dim=50, lstm_units=64\n",
      "Epoch 1/15\n"
     ]
    },
    {
     "name": "stderr",
     "output_type": "stream",
     "text": [
      "c:\\Users\\ander\\Desktop\\projects\\IMDB_sentiment_analysis\\it1244\\Lib\\site-packages\\keras\\src\\layers\\core\\embedding.py:90: UserWarning: Argument `input_length` is deprecated. Just remove it.\n",
      "  warnings.warn(\n"
     ]
    },
    {
     "name": "stdout",
     "output_type": "stream",
     "text": [
      "\u001b[1m1000/1000\u001b[0m \u001b[32m━━━━━━━━━━━━━━━━━━━━\u001b[0m\u001b[37m\u001b[0m \u001b[1m46s\u001b[0m 44ms/step - accuracy: 0.7369 - loss: 0.4858 - val_accuracy: 0.8746 - val_loss: 0.2969\n",
      "Epoch 2/15\n",
      "\u001b[1m1000/1000\u001b[0m \u001b[32m━━━━━━━━━━━━━━━━━━━━\u001b[0m\u001b[37m\u001b[0m \u001b[1m44s\u001b[0m 44ms/step - accuracy: 0.9171 - loss: 0.2192 - val_accuracy: 0.8791 - val_loss: 0.2966\n",
      "Epoch 3/15\n",
      "\u001b[1m1000/1000\u001b[0m \u001b[32m━━━━━━━━━━━━━━━━━━━━\u001b[0m\u001b[37m\u001b[0m \u001b[1m43s\u001b[0m 43ms/step - accuracy: 0.9350 - loss: 0.1788 - val_accuracy: 0.8764 - val_loss: 0.3544\n",
      "\u001b[1m250/250\u001b[0m \u001b[32m━━━━━━━━━━━━━━━━━━━━\u001b[0m\u001b[37m\u001b[0m \u001b[1m4s\u001b[0m 15ms/step\n",
      "  Fold 5/5...\n",
      "  Building LSTM with embedding_dim=50, lstm_units=64\n",
      "Epoch 1/15\n"
     ]
    },
    {
     "name": "stderr",
     "output_type": "stream",
     "text": [
      "c:\\Users\\ander\\Desktop\\projects\\IMDB_sentiment_analysis\\it1244\\Lib\\site-packages\\keras\\src\\layers\\core\\embedding.py:90: UserWarning: Argument `input_length` is deprecated. Just remove it.\n",
      "  warnings.warn(\n"
     ]
    },
    {
     "name": "stdout",
     "output_type": "stream",
     "text": [
      "\u001b[1m1000/1000\u001b[0m \u001b[32m━━━━━━━━━━━━━━━━━━━━\u001b[0m\u001b[37m\u001b[0m \u001b[1m44s\u001b[0m 41ms/step - accuracy: 0.7540 - loss: 0.4723 - val_accuracy: 0.8788 - val_loss: 0.3012\n",
      "Epoch 2/15\n",
      "\u001b[1m1000/1000\u001b[0m \u001b[32m━━━━━━━━━━━━━━━━━━━━\u001b[0m\u001b[37m\u001b[0m \u001b[1m41s\u001b[0m 41ms/step - accuracy: 0.9133 - loss: 0.2338 - val_accuracy: 0.8781 - val_loss: 0.2975\n",
      "\u001b[1m250/250\u001b[0m \u001b[32m━━━━━━━━━━━━━━━━━━━━\u001b[0m\u001b[37m\u001b[0m \u001b[1m4s\u001b[0m 14ms/step\n",
      "  --- Mean Validation Accuracy: 0.8809 ± 0.0028 ---\n",
      "\n",
      "--- Testing Combo 5/8: embed=100, lstm_units=32, lr=0.001 ---\n",
      "  Fold 1/5...\n",
      "  Building LSTM with embedding_dim=100, lstm_units=32\n",
      "Epoch 1/15\n"
     ]
    },
    {
     "name": "stderr",
     "output_type": "stream",
     "text": [
      "c:\\Users\\ander\\Desktop\\projects\\IMDB_sentiment_analysis\\it1244\\Lib\\site-packages\\keras\\src\\layers\\core\\embedding.py:90: UserWarning: Argument `input_length` is deprecated. Just remove it.\n",
      "  warnings.warn(\n"
     ]
    },
    {
     "name": "stdout",
     "output_type": "stream",
     "text": [
      "\u001b[1m1000/1000\u001b[0m \u001b[32m━━━━━━━━━━━━━━━━━━━━\u001b[0m\u001b[37m\u001b[0m \u001b[1m44s\u001b[0m 42ms/step - accuracy: 0.7781 - loss: 0.4561 - val_accuracy: 0.8765 - val_loss: 0.3074\n",
      "Epoch 2/15\n",
      "\u001b[1m1000/1000\u001b[0m \u001b[32m━━━━━━━━━━━━━━━━━━━━\u001b[0m\u001b[37m\u001b[0m \u001b[1m42s\u001b[0m 42ms/step - accuracy: 0.9125 - loss: 0.2316 - val_accuracy: 0.8789 - val_loss: 0.2947\n",
      "Epoch 3/15\n",
      "\u001b[1m1000/1000\u001b[0m \u001b[32m━━━━━━━━━━━━━━━━━━━━\u001b[0m\u001b[37m\u001b[0m \u001b[1m42s\u001b[0m 42ms/step - accuracy: 0.9397 - loss: 0.1666 - val_accuracy: 0.8661 - val_loss: 0.3185\n",
      "\u001b[1m250/250\u001b[0m \u001b[32m━━━━━━━━━━━━━━━━━━━━\u001b[0m\u001b[37m\u001b[0m \u001b[1m3s\u001b[0m 11ms/step\n",
      "  Fold 2/5...\n",
      "  Building LSTM with embedding_dim=100, lstm_units=32\n",
      "Epoch 1/15\n"
     ]
    },
    {
     "name": "stderr",
     "output_type": "stream",
     "text": [
      "c:\\Users\\ander\\Desktop\\projects\\IMDB_sentiment_analysis\\it1244\\Lib\\site-packages\\keras\\src\\layers\\core\\embedding.py:90: UserWarning: Argument `input_length` is deprecated. Just remove it.\n",
      "  warnings.warn(\n"
     ]
    },
    {
     "name": "stdout",
     "output_type": "stream",
     "text": [
      "\u001b[1m1000/1000\u001b[0m \u001b[32m━━━━━━━━━━━━━━━━━━━━\u001b[0m\u001b[37m\u001b[0m \u001b[1m45s\u001b[0m 43ms/step - accuracy: 0.7528 - loss: 0.4873 - val_accuracy: 0.8673 - val_loss: 0.3098\n",
      "Epoch 2/15\n",
      "\u001b[1m1000/1000\u001b[0m \u001b[32m━━━━━━━━━━━━━━━━━━━━\u001b[0m\u001b[37m\u001b[0m \u001b[1m42s\u001b[0m 42ms/step - accuracy: 0.9110 - loss: 0.2384 - val_accuracy: 0.8736 - val_loss: 0.3393\n",
      "Epoch 3/15\n",
      "\u001b[1m1000/1000\u001b[0m \u001b[32m━━━━━━━━━━━━━━━━━━━━\u001b[0m\u001b[37m\u001b[0m \u001b[1m42s\u001b[0m 42ms/step - accuracy: 0.9357 - loss: 0.1738 - val_accuracy: 0.8840 - val_loss: 0.3116\n",
      "Epoch 4/15\n",
      "\u001b[1m1000/1000\u001b[0m \u001b[32m━━━━━━━━━━━━━━━━━━━━\u001b[0m\u001b[37m\u001b[0m \u001b[1m43s\u001b[0m 42ms/step - accuracy: 0.9588 - loss: 0.1186 - val_accuracy: 0.8515 - val_loss: 0.4626\n",
      "\u001b[1m250/250\u001b[0m \u001b[32m━━━━━━━━━━━━━━━━━━━━\u001b[0m\u001b[37m\u001b[0m \u001b[1m3s\u001b[0m 12ms/step\n",
      "  Fold 3/5...\n",
      "  Building LSTM with embedding_dim=100, lstm_units=32\n",
      "Epoch 1/15\n"
     ]
    },
    {
     "name": "stderr",
     "output_type": "stream",
     "text": [
      "c:\\Users\\ander\\Desktop\\projects\\IMDB_sentiment_analysis\\it1244\\Lib\\site-packages\\keras\\src\\layers\\core\\embedding.py:90: UserWarning: Argument `input_length` is deprecated. Just remove it.\n",
      "  warnings.warn(\n"
     ]
    },
    {
     "name": "stdout",
     "output_type": "stream",
     "text": [
      "\u001b[1m1000/1000\u001b[0m \u001b[32m━━━━━━━━━━━━━━━━━━━━\u001b[0m\u001b[37m\u001b[0m \u001b[1m46s\u001b[0m 44ms/step - accuracy: 0.7740 - loss: 0.4603 - val_accuracy: 0.8767 - val_loss: 0.3098\n",
      "Epoch 2/15\n",
      "\u001b[1m1000/1000\u001b[0m \u001b[32m━━━━━━━━━━━━━━━━━━━━\u001b[0m\u001b[37m\u001b[0m \u001b[1m45s\u001b[0m 45ms/step - accuracy: 0.9125 - loss: 0.2396 - val_accuracy: 0.8800 - val_loss: 0.2936\n",
      "Epoch 3/15\n",
      "\u001b[1m1000/1000\u001b[0m \u001b[32m━━━━━━━━━━━━━━━━━━━━\u001b[0m\u001b[37m\u001b[0m \u001b[1m45s\u001b[0m 45ms/step - accuracy: 0.9368 - loss: 0.1732 - val_accuracy: 0.8710 - val_loss: 0.3811\n",
      "\u001b[1m250/250\u001b[0m \u001b[32m━━━━━━━━━━━━━━━━━━━━\u001b[0m\u001b[37m\u001b[0m \u001b[1m3s\u001b[0m 12ms/step\n",
      "  Fold 4/5...\n",
      "  Building LSTM with embedding_dim=100, lstm_units=32\n",
      "Epoch 1/15\n"
     ]
    },
    {
     "name": "stderr",
     "output_type": "stream",
     "text": [
      "c:\\Users\\ander\\Desktop\\projects\\IMDB_sentiment_analysis\\it1244\\Lib\\site-packages\\keras\\src\\layers\\core\\embedding.py:90: UserWarning: Argument `input_length` is deprecated. Just remove it.\n",
      "  warnings.warn(\n"
     ]
    },
    {
     "name": "stdout",
     "output_type": "stream",
     "text": [
      "\u001b[1m1000/1000\u001b[0m \u001b[32m━━━━━━━━━━━━━━━━━━━━\u001b[0m\u001b[37m\u001b[0m \u001b[1m48s\u001b[0m 45ms/step - accuracy: 0.7640 - loss: 0.4665 - val_accuracy: 0.8658 - val_loss: 0.3212\n",
      "Epoch 2/15\n",
      "\u001b[1m1000/1000\u001b[0m \u001b[32m━━━━━━━━━━━━━━━━━━━━\u001b[0m\u001b[37m\u001b[0m \u001b[1m43s\u001b[0m 43ms/step - accuracy: 0.9059 - loss: 0.2489 - val_accuracy: 0.8771 - val_loss: 0.3086\n",
      "Epoch 3/15\n",
      "\u001b[1m1000/1000\u001b[0m \u001b[32m━━━━━━━━━━━━━━━━━━━━\u001b[0m\u001b[37m\u001b[0m \u001b[1m43s\u001b[0m 43ms/step - accuracy: 0.9409 - loss: 0.1633 - val_accuracy: 0.8745 - val_loss: 0.3442\n",
      "\u001b[1m250/250\u001b[0m \u001b[32m━━━━━━━━━━━━━━━━━━━━\u001b[0m\u001b[37m\u001b[0m \u001b[1m3s\u001b[0m 11ms/step\n",
      "  Fold 5/5...\n",
      "  Building LSTM with embedding_dim=100, lstm_units=32\n",
      "Epoch 1/15\n"
     ]
    },
    {
     "name": "stderr",
     "output_type": "stream",
     "text": [
      "c:\\Users\\ander\\Desktop\\projects\\IMDB_sentiment_analysis\\it1244\\Lib\\site-packages\\keras\\src\\layers\\core\\embedding.py:90: UserWarning: Argument `input_length` is deprecated. Just remove it.\n",
      "  warnings.warn(\n"
     ]
    },
    {
     "name": "stdout",
     "output_type": "stream",
     "text": [
      "\u001b[1m1000/1000\u001b[0m \u001b[32m━━━━━━━━━━━━━━━━━━━━\u001b[0m\u001b[37m\u001b[0m \u001b[1m45s\u001b[0m 43ms/step - accuracy: 0.7610 - loss: 0.4670 - val_accuracy: 0.8684 - val_loss: 0.3127\n",
      "Epoch 2/15\n",
      "\u001b[1m1000/1000\u001b[0m \u001b[32m━━━━━━━━━━━━━━━━━━━━\u001b[0m\u001b[37m\u001b[0m \u001b[1m42s\u001b[0m 42ms/step - accuracy: 0.9141 - loss: 0.2291 - val_accuracy: 0.8755 - val_loss: 0.3285\n",
      "Epoch 3/15\n",
      "\u001b[1m1000/1000\u001b[0m \u001b[32m━━━━━━━━━━━━━━━━━━━━\u001b[0m\u001b[37m\u001b[0m \u001b[1m42s\u001b[0m 42ms/step - accuracy: 0.9388 - loss: 0.1649 - val_accuracy: 0.8720 - val_loss: 0.3223\n",
      "\u001b[1m250/250\u001b[0m \u001b[32m━━━━━━━━━━━━━━━━━━━━\u001b[0m\u001b[37m\u001b[0m \u001b[1m3s\u001b[0m 11ms/step\n",
      "  --- Mean Validation Accuracy: 0.8791 ± 0.0029 ---\n",
      "\n",
      "--- Testing Combo 6/8: embed=100, lstm_units=32, lr=0.0005 ---\n",
      "  Fold 1/5...\n",
      "  Building LSTM with embedding_dim=100, lstm_units=32\n",
      "Epoch 1/15\n"
     ]
    },
    {
     "name": "stderr",
     "output_type": "stream",
     "text": [
      "c:\\Users\\ander\\Desktop\\projects\\IMDB_sentiment_analysis\\it1244\\Lib\\site-packages\\keras\\src\\layers\\core\\embedding.py:90: UserWarning: Argument `input_length` is deprecated. Just remove it.\n",
      "  warnings.warn(\n"
     ]
    },
    {
     "name": "stdout",
     "output_type": "stream",
     "text": [
      "\u001b[1m1000/1000\u001b[0m \u001b[32m━━━━━━━━━━━━━━━━━━━━\u001b[0m\u001b[37m\u001b[0m \u001b[1m45s\u001b[0m 43ms/step - accuracy: 0.7457 - loss: 0.4891 - val_accuracy: 0.8727 - val_loss: 0.3080\n",
      "Epoch 2/15\n",
      "\u001b[1m1000/1000\u001b[0m \u001b[32m━━━━━━━━━━━━━━━━━━━━\u001b[0m\u001b[37m\u001b[0m \u001b[1m42s\u001b[0m 42ms/step - accuracy: 0.9133 - loss: 0.2283 - val_accuracy: 0.8834 - val_loss: 0.3019\n",
      "Epoch 3/15\n",
      "\u001b[1m1000/1000\u001b[0m \u001b[32m━━━━━━━━━━━━━━━━━━━━\u001b[0m\u001b[37m\u001b[0m \u001b[1m42s\u001b[0m 42ms/step - accuracy: 0.9379 - loss: 0.1699 - val_accuracy: 0.8706 - val_loss: 0.3321\n",
      "\u001b[1m250/250\u001b[0m \u001b[32m━━━━━━━━━━━━━━━━━━━━\u001b[0m\u001b[37m\u001b[0m \u001b[1m3s\u001b[0m 12ms/step\n",
      "  Fold 2/5...\n",
      "  Building LSTM with embedding_dim=100, lstm_units=32\n",
      "Epoch 1/15\n"
     ]
    },
    {
     "name": "stderr",
     "output_type": "stream",
     "text": [
      "c:\\Users\\ander\\Desktop\\projects\\IMDB_sentiment_analysis\\it1244\\Lib\\site-packages\\keras\\src\\layers\\core\\embedding.py:90: UserWarning: Argument `input_length` is deprecated. Just remove it.\n",
      "  warnings.warn(\n"
     ]
    },
    {
     "name": "stdout",
     "output_type": "stream",
     "text": [
      "\u001b[1m1000/1000\u001b[0m \u001b[32m━━━━━━━━━━━━━━━━━━━━\u001b[0m\u001b[37m\u001b[0m \u001b[1m45s\u001b[0m 43ms/step - accuracy: 0.7288 - loss: 0.5004 - val_accuracy: 0.8817 - val_loss: 0.2944\n",
      "Epoch 2/15\n",
      "\u001b[1m1000/1000\u001b[0m \u001b[32m━━━━━━━━━━━━━━━━━━━━\u001b[0m\u001b[37m\u001b[0m \u001b[1m43s\u001b[0m 43ms/step - accuracy: 0.9124 - loss: 0.2358 - val_accuracy: 0.8801 - val_loss: 0.2851\n",
      "\u001b[1m250/250\u001b[0m \u001b[32m━━━━━━━━━━━━━━━━━━━━\u001b[0m\u001b[37m\u001b[0m \u001b[1m3s\u001b[0m 12ms/step\n",
      "  Fold 3/5...\n",
      "  Building LSTM with embedding_dim=100, lstm_units=32\n",
      "Epoch 1/15\n"
     ]
    },
    {
     "name": "stderr",
     "output_type": "stream",
     "text": [
      "c:\\Users\\ander\\Desktop\\projects\\IMDB_sentiment_analysis\\it1244\\Lib\\site-packages\\keras\\src\\layers\\core\\embedding.py:90: UserWarning: Argument `input_length` is deprecated. Just remove it.\n",
      "  warnings.warn(\n"
     ]
    },
    {
     "name": "stdout",
     "output_type": "stream",
     "text": [
      "\u001b[1m1000/1000\u001b[0m \u001b[32m━━━━━━━━━━━━━━━━━━━━\u001b[0m\u001b[37m\u001b[0m \u001b[1m45s\u001b[0m 42ms/step - accuracy: 0.7339 - loss: 0.4893 - val_accuracy: 0.8838 - val_loss: 0.2894\n",
      "Epoch 2/15\n",
      "\u001b[1m1000/1000\u001b[0m \u001b[32m━━━━━━━━━━━━━━━━━━━━\u001b[0m\u001b[37m\u001b[0m \u001b[1m42s\u001b[0m 42ms/step - accuracy: 0.9145 - loss: 0.2273 - val_accuracy: 0.8831 - val_loss: 0.2938\n",
      "\u001b[1m250/250\u001b[0m \u001b[32m━━━━━━━━━━━━━━━━━━━━\u001b[0m\u001b[37m\u001b[0m \u001b[1m3s\u001b[0m 11ms/step\n",
      "  Fold 4/5...\n",
      "  Building LSTM with embedding_dim=100, lstm_units=32\n",
      "Epoch 1/15\n"
     ]
    },
    {
     "name": "stderr",
     "output_type": "stream",
     "text": [
      "c:\\Users\\ander\\Desktop\\projects\\IMDB_sentiment_analysis\\it1244\\Lib\\site-packages\\keras\\src\\layers\\core\\embedding.py:90: UserWarning: Argument `input_length` is deprecated. Just remove it.\n",
      "  warnings.warn(\n"
     ]
    },
    {
     "name": "stdout",
     "output_type": "stream",
     "text": [
      "\u001b[1m1000/1000\u001b[0m \u001b[32m━━━━━━━━━━━━━━━━━━━━\u001b[0m\u001b[37m\u001b[0m \u001b[1m45s\u001b[0m 43ms/step - accuracy: 0.7548 - loss: 0.4685 - val_accuracy: 0.8766 - val_loss: 0.3028\n",
      "Epoch 2/15\n",
      "\u001b[1m1000/1000\u001b[0m \u001b[32m━━━━━━━━━━━━━━━━━━━━\u001b[0m\u001b[37m\u001b[0m \u001b[1m43s\u001b[0m 43ms/step - accuracy: 0.9167 - loss: 0.2255 - val_accuracy: 0.8715 - val_loss: 0.3021\n",
      "\u001b[1m250/250\u001b[0m \u001b[32m━━━━━━━━━━━━━━━━━━━━\u001b[0m\u001b[37m\u001b[0m \u001b[1m3s\u001b[0m 12ms/step\n",
      "  Fold 5/5...\n",
      "  Building LSTM with embedding_dim=100, lstm_units=32\n",
      "Epoch 1/15\n"
     ]
    },
    {
     "name": "stderr",
     "output_type": "stream",
     "text": [
      "c:\\Users\\ander\\Desktop\\projects\\IMDB_sentiment_analysis\\it1244\\Lib\\site-packages\\keras\\src\\layers\\core\\embedding.py:90: UserWarning: Argument `input_length` is deprecated. Just remove it.\n",
      "  warnings.warn(\n"
     ]
    },
    {
     "name": "stdout",
     "output_type": "stream",
     "text": [
      "\u001b[1m1000/1000\u001b[0m \u001b[32m━━━━━━━━━━━━━━━━━━━━\u001b[0m\u001b[37m\u001b[0m \u001b[1m45s\u001b[0m 43ms/step - accuracy: 0.7337 - loss: 0.5016 - val_accuracy: 0.8751 - val_loss: 0.3061\n",
      "Epoch 2/15\n",
      "\u001b[1m1000/1000\u001b[0m \u001b[32m━━━━━━━━━━━━━━━━━━━━\u001b[0m\u001b[37m\u001b[0m \u001b[1m42s\u001b[0m 42ms/step - accuracy: 0.9120 - loss: 0.2317 - val_accuracy: 0.8838 - val_loss: 0.2973\n",
      "Epoch 3/15\n",
      "\u001b[1m1000/1000\u001b[0m \u001b[32m━━━━━━━━━━━━━━━━━━━━\u001b[0m\u001b[37m\u001b[0m \u001b[1m41s\u001b[0m 41ms/step - accuracy: 0.9366 - loss: 0.1740 - val_accuracy: 0.8777 - val_loss: 0.3176\n",
      "\u001b[1m250/250\u001b[0m \u001b[32m━━━━━━━━━━━━━━━━━━━━\u001b[0m\u001b[37m\u001b[0m \u001b[1m3s\u001b[0m 11ms/step\n",
      "  --- Mean Validation Accuracy: 0.8819 ± 0.0027 ---\n",
      "\n",
      "--- Testing Combo 7/8: embed=100, lstm_units=64, lr=0.001 ---\n",
      "  Fold 1/5...\n",
      "  Building LSTM with embedding_dim=100, lstm_units=64\n",
      "Epoch 1/15\n"
     ]
    },
    {
     "name": "stderr",
     "output_type": "stream",
     "text": [
      "c:\\Users\\ander\\Desktop\\projects\\IMDB_sentiment_analysis\\it1244\\Lib\\site-packages\\keras\\src\\layers\\core\\embedding.py:90: UserWarning: Argument `input_length` is deprecated. Just remove it.\n",
      "  warnings.warn(\n"
     ]
    },
    {
     "name": "stdout",
     "output_type": "stream",
     "text": [
      "\u001b[1m1000/1000\u001b[0m \u001b[32m━━━━━━━━━━━━━━━━━━━━\u001b[0m\u001b[37m\u001b[0m \u001b[1m50s\u001b[0m 48ms/step - accuracy: 0.7650 - loss: 0.4700 - val_accuracy: 0.8712 - val_loss: 0.3221\n",
      "Epoch 2/15\n",
      "\u001b[1m1000/1000\u001b[0m \u001b[32m━━━━━━━━━━━━━━━━━━━━\u001b[0m\u001b[37m\u001b[0m \u001b[1m48s\u001b[0m 48ms/step - accuracy: 0.9099 - loss: 0.2415 - val_accuracy: 0.8719 - val_loss: 0.3127\n",
      "Epoch 3/15\n",
      "\u001b[1m1000/1000\u001b[0m \u001b[32m━━━━━━━━━━━━━━━━━━━━\u001b[0m\u001b[37m\u001b[0m \u001b[1m48s\u001b[0m 48ms/step - accuracy: 0.9392 - loss: 0.1713 - val_accuracy: 0.8734 - val_loss: 0.3745\n",
      "Epoch 4/15\n",
      "\u001b[1m1000/1000\u001b[0m \u001b[32m━━━━━━━━━━━━━━━━━━━━\u001b[0m\u001b[37m\u001b[0m \u001b[1m48s\u001b[0m 48ms/step - accuracy: 0.9527 - loss: 0.1297 - val_accuracy: 0.8510 - val_loss: 0.3909\n",
      "\u001b[1m250/250\u001b[0m \u001b[32m━━━━━━━━━━━━━━━━━━━━\u001b[0m\u001b[37m\u001b[0m \u001b[1m4s\u001b[0m 16ms/step\n",
      "  Fold 2/5...\n",
      "  Building LSTM with embedding_dim=100, lstm_units=64\n",
      "Epoch 1/15\n"
     ]
    },
    {
     "name": "stderr",
     "output_type": "stream",
     "text": [
      "c:\\Users\\ander\\Desktop\\projects\\IMDB_sentiment_analysis\\it1244\\Lib\\site-packages\\keras\\src\\layers\\core\\embedding.py:90: UserWarning: Argument `input_length` is deprecated. Just remove it.\n",
      "  warnings.warn(\n"
     ]
    },
    {
     "name": "stdout",
     "output_type": "stream",
     "text": [
      "\u001b[1m1000/1000\u001b[0m \u001b[32m━━━━━━━━━━━━━━━━━━━━\u001b[0m\u001b[37m\u001b[0m \u001b[1m49s\u001b[0m 47ms/step - accuracy: 0.7549 - loss: 0.4730 - val_accuracy: 0.8746 - val_loss: 0.2956\n",
      "Epoch 2/15\n",
      "\u001b[1m1000/1000\u001b[0m \u001b[32m━━━━━━━━━━━━━━━━━━━━\u001b[0m\u001b[37m\u001b[0m \u001b[1m49s\u001b[0m 49ms/step - accuracy: 0.9103 - loss: 0.2417 - val_accuracy: 0.8884 - val_loss: 0.3008\n",
      "Epoch 3/15\n",
      "\u001b[1m1000/1000\u001b[0m \u001b[32m━━━━━━━━━━━━━━━━━━━━\u001b[0m\u001b[37m\u001b[0m \u001b[1m49s\u001b[0m 49ms/step - accuracy: 0.9364 - loss: 0.1728 - val_accuracy: 0.8777 - val_loss: 0.3359\n",
      "\u001b[1m250/250\u001b[0m \u001b[32m━━━━━━━━━━━━━━━━━━━━\u001b[0m\u001b[37m\u001b[0m \u001b[1m4s\u001b[0m 15ms/step\n",
      "  Fold 3/5...\n",
      "  Building LSTM with embedding_dim=100, lstm_units=64\n",
      "Epoch 1/15\n"
     ]
    },
    {
     "name": "stderr",
     "output_type": "stream",
     "text": [
      "c:\\Users\\ander\\Desktop\\projects\\IMDB_sentiment_analysis\\it1244\\Lib\\site-packages\\keras\\src\\layers\\core\\embedding.py:90: UserWarning: Argument `input_length` is deprecated. Just remove it.\n",
      "  warnings.warn(\n"
     ]
    },
    {
     "name": "stdout",
     "output_type": "stream",
     "text": [
      "\u001b[1m1000/1000\u001b[0m \u001b[32m━━━━━━━━━━━━━━━━━━━━\u001b[0m\u001b[37m\u001b[0m \u001b[1m60s\u001b[0m 57ms/step - accuracy: 0.7395 - loss: 0.5031 - val_accuracy: 0.8741 - val_loss: 0.3421\n",
      "Epoch 2/15\n",
      "\u001b[1m1000/1000\u001b[0m \u001b[32m━━━━━━━━━━━━━━━━━━━━\u001b[0m\u001b[37m\u001b[0m \u001b[1m55s\u001b[0m 55ms/step - accuracy: 0.9046 - loss: 0.2503 - val_accuracy: 0.8717 - val_loss: 0.3147\n",
      "\u001b[1m250/250\u001b[0m \u001b[32m━━━━━━━━━━━━━━━━━━━━\u001b[0m\u001b[37m\u001b[0m \u001b[1m5s\u001b[0m 18ms/step\n",
      "  Fold 4/5...\n",
      "  Building LSTM with embedding_dim=100, lstm_units=64\n",
      "Epoch 1/15\n"
     ]
    },
    {
     "name": "stderr",
     "output_type": "stream",
     "text": [
      "c:\\Users\\ander\\Desktop\\projects\\IMDB_sentiment_analysis\\it1244\\Lib\\site-packages\\keras\\src\\layers\\core\\embedding.py:90: UserWarning: Argument `input_length` is deprecated. Just remove it.\n",
      "  warnings.warn(\n"
     ]
    },
    {
     "name": "stdout",
     "output_type": "stream",
     "text": [
      "\u001b[1m1000/1000\u001b[0m \u001b[32m━━━━━━━━━━━━━━━━━━━━\u001b[0m\u001b[37m\u001b[0m \u001b[1m58s\u001b[0m 56ms/step - accuracy: 0.7662 - loss: 0.4783 - val_accuracy: 0.8761 - val_loss: 0.3185\n",
      "Epoch 2/15\n",
      "\u001b[1m1000/1000\u001b[0m \u001b[32m━━━━━━━━━━━━━━━━━━━━\u001b[0m\u001b[37m\u001b[0m \u001b[1m59s\u001b[0m 59ms/step - accuracy: 0.9091 - loss: 0.2360 - val_accuracy: 0.8469 - val_loss: 0.3767\n",
      "\u001b[1m250/250\u001b[0m \u001b[32m━━━━━━━━━━━━━━━━━━━━\u001b[0m\u001b[37m\u001b[0m \u001b[1m5s\u001b[0m 19ms/step\n",
      "  Fold 5/5...\n",
      "  Building LSTM with embedding_dim=100, lstm_units=64\n",
      "Epoch 1/15\n"
     ]
    },
    {
     "name": "stderr",
     "output_type": "stream",
     "text": [
      "c:\\Users\\ander\\Desktop\\projects\\IMDB_sentiment_analysis\\it1244\\Lib\\site-packages\\keras\\src\\layers\\core\\embedding.py:90: UserWarning: Argument `input_length` is deprecated. Just remove it.\n",
      "  warnings.warn(\n"
     ]
    },
    {
     "name": "stdout",
     "output_type": "stream",
     "text": [
      "\u001b[1m1000/1000\u001b[0m \u001b[32m━━━━━━━━━━━━━━━━━━━━\u001b[0m\u001b[37m\u001b[0m \u001b[1m55s\u001b[0m 52ms/step - accuracy: 0.7511 - loss: 0.4908 - val_accuracy: 0.8745 - val_loss: 0.3102\n",
      "Epoch 2/15\n",
      "\u001b[1m1000/1000\u001b[0m \u001b[32m━━━━━━━━━━━━━━━━━━━━\u001b[0m\u001b[37m\u001b[0m \u001b[1m50s\u001b[0m 50ms/step - accuracy: 0.9038 - loss: 0.2542 - val_accuracy: 0.8619 - val_loss: 0.3225\n",
      "\u001b[1m250/250\u001b[0m \u001b[32m━━━━━━━━━━━━━━━━━━━━\u001b[0m\u001b[37m\u001b[0m \u001b[1m4s\u001b[0m 17ms/step\n",
      "  --- Mean Validation Accuracy: 0.8773 ± 0.0056 ---\n",
      "\n",
      "--- Testing Combo 8/8: embed=100, lstm_units=64, lr=0.0005 ---\n",
      "  Fold 1/5...\n",
      "  Building LSTM with embedding_dim=100, lstm_units=64\n",
      "Epoch 1/15\n"
     ]
    },
    {
     "name": "stderr",
     "output_type": "stream",
     "text": [
      "c:\\Users\\ander\\Desktop\\projects\\IMDB_sentiment_analysis\\it1244\\Lib\\site-packages\\keras\\src\\layers\\core\\embedding.py:90: UserWarning: Argument `input_length` is deprecated. Just remove it.\n",
      "  warnings.warn(\n"
     ]
    },
    {
     "name": "stdout",
     "output_type": "stream",
     "text": [
      "\u001b[1m1000/1000\u001b[0m \u001b[32m━━━━━━━━━━━━━━━━━━━━\u001b[0m\u001b[37m\u001b[0m \u001b[1m55s\u001b[0m 52ms/step - accuracy: 0.7481 - loss: 0.4724 - val_accuracy: 0.8783 - val_loss: 0.3034\n",
      "Epoch 2/15\n",
      "\u001b[1m1000/1000\u001b[0m \u001b[32m━━━━━━━━━━━━━━━━━━━━\u001b[0m\u001b[37m\u001b[0m \u001b[1m51s\u001b[0m 51ms/step - accuracy: 0.9148 - loss: 0.2293 - val_accuracy: 0.8786 - val_loss: 0.3016\n",
      "Epoch 3/15\n",
      "\u001b[1m1000/1000\u001b[0m \u001b[32m━━━━━━━━━━━━━━━━━━━━\u001b[0m\u001b[37m\u001b[0m \u001b[1m50s\u001b[0m 50ms/step - accuracy: 0.9390 - loss: 0.1706 - val_accuracy: 0.8767 - val_loss: 0.3401\n",
      "\u001b[1m250/250\u001b[0m \u001b[32m━━━━━━━━━━━━━━━━━━━━\u001b[0m\u001b[37m\u001b[0m \u001b[1m4s\u001b[0m 17ms/step\n",
      "  Fold 2/5...\n",
      "  Building LSTM with embedding_dim=100, lstm_units=64\n",
      "Epoch 1/15\n"
     ]
    },
    {
     "name": "stderr",
     "output_type": "stream",
     "text": [
      "c:\\Users\\ander\\Desktop\\projects\\IMDB_sentiment_analysis\\it1244\\Lib\\site-packages\\keras\\src\\layers\\core\\embedding.py:90: UserWarning: Argument `input_length` is deprecated. Just remove it.\n",
      "  warnings.warn(\n"
     ]
    },
    {
     "name": "stdout",
     "output_type": "stream",
     "text": [
      "\u001b[1m1000/1000\u001b[0m \u001b[32m━━━━━━━━━━━━━━━━━━━━\u001b[0m\u001b[37m\u001b[0m \u001b[1m65s\u001b[0m 62ms/step - accuracy: 0.7397 - loss: 0.4865 - val_accuracy: 0.8826 - val_loss: 0.3054\n",
      "Epoch 2/15\n",
      "\u001b[1m1000/1000\u001b[0m \u001b[32m━━━━━━━━━━━━━━━━━━━━\u001b[0m\u001b[37m\u001b[0m \u001b[1m58s\u001b[0m 58ms/step - accuracy: 0.9063 - loss: 0.2442 - val_accuracy: 0.8821 - val_loss: 0.3211\n",
      "\u001b[1m250/250\u001b[0m \u001b[32m━━━━━━━━━━━━━━━━━━━━\u001b[0m\u001b[37m\u001b[0m \u001b[1m5s\u001b[0m 21ms/step\n",
      "  Fold 3/5...\n",
      "  Building LSTM with embedding_dim=100, lstm_units=64\n",
      "Epoch 1/15\n"
     ]
    },
    {
     "name": "stderr",
     "output_type": "stream",
     "text": [
      "c:\\Users\\ander\\Desktop\\projects\\IMDB_sentiment_analysis\\it1244\\Lib\\site-packages\\keras\\src\\layers\\core\\embedding.py:90: UserWarning: Argument `input_length` is deprecated. Just remove it.\n",
      "  warnings.warn(\n"
     ]
    },
    {
     "name": "stdout",
     "output_type": "stream",
     "text": [
      "\u001b[1m1000/1000\u001b[0m \u001b[32m━━━━━━━━━━━━━━━━━━━━\u001b[0m\u001b[37m\u001b[0m \u001b[1m60s\u001b[0m 57ms/step - accuracy: 0.7546 - loss: 0.4764 - val_accuracy: 0.8689 - val_loss: 0.3213\n",
      "Epoch 2/15\n",
      "\u001b[1m1000/1000\u001b[0m \u001b[32m━━━━━━━━━━━━━━━━━━━━\u001b[0m\u001b[37m\u001b[0m \u001b[1m56s\u001b[0m 56ms/step - accuracy: 0.9106 - loss: 0.2354 - val_accuracy: 0.8763 - val_loss: 0.3139\n",
      "Epoch 3/15\n",
      "\u001b[1m1000/1000\u001b[0m \u001b[32m━━━━━━━━━━━━━━━━━━━━\u001b[0m\u001b[37m\u001b[0m \u001b[1m55s\u001b[0m 55ms/step - accuracy: 0.9379 - loss: 0.1737 - val_accuracy: 0.8777 - val_loss: 0.3093\n",
      "Epoch 4/15\n",
      "\u001b[1m1000/1000\u001b[0m \u001b[32m━━━━━━━━━━━━━━━━━━━━\u001b[0m\u001b[37m\u001b[0m \u001b[1m55s\u001b[0m 55ms/step - accuracy: 0.9580 - loss: 0.1248 - val_accuracy: 0.8677 - val_loss: 0.3606\n",
      "\u001b[1m250/250\u001b[0m \u001b[32m━━━━━━━━━━━━━━━━━━━━\u001b[0m\u001b[37m\u001b[0m \u001b[1m5s\u001b[0m 18ms/step\n",
      "  Fold 4/5...\n",
      "  Building LSTM with embedding_dim=100, lstm_units=64\n",
      "Epoch 1/15\n"
     ]
    },
    {
     "name": "stderr",
     "output_type": "stream",
     "text": [
      "c:\\Users\\ander\\Desktop\\projects\\IMDB_sentiment_analysis\\it1244\\Lib\\site-packages\\keras\\src\\layers\\core\\embedding.py:90: UserWarning: Argument `input_length` is deprecated. Just remove it.\n",
      "  warnings.warn(\n"
     ]
    },
    {
     "name": "stdout",
     "output_type": "stream",
     "text": [
      "\u001b[1m1000/1000\u001b[0m \u001b[32m━━━━━━━━━━━━━━━━━━━━\u001b[0m\u001b[37m\u001b[0m \u001b[1m57s\u001b[0m 54ms/step - accuracy: 0.7238 - loss: 0.5070 - val_accuracy: 0.8751 - val_loss: 0.3108\n",
      "Epoch 2/15\n",
      "\u001b[1m1000/1000\u001b[0m \u001b[32m━━━━━━━━━━━━━━━━━━━━\u001b[0m\u001b[37m\u001b[0m \u001b[1m52s\u001b[0m 52ms/step - accuracy: 0.9122 - loss: 0.2324 - val_accuracy: 0.8756 - val_loss: 0.3429\n",
      "Epoch 3/15\n",
      "\u001b[1m1000/1000\u001b[0m \u001b[32m━━━━━━━━━━━━━━━━━━━━\u001b[0m\u001b[37m\u001b[0m \u001b[1m52s\u001b[0m 52ms/step - accuracy: 0.9383 - loss: 0.1699 - val_accuracy: 0.8735 - val_loss: 0.3346\n",
      "\u001b[1m250/250\u001b[0m \u001b[32m━━━━━━━━━━━━━━━━━━━━\u001b[0m\u001b[37m\u001b[0m \u001b[1m5s\u001b[0m 18ms/step\n",
      "  Fold 5/5...\n",
      "  Building LSTM with embedding_dim=100, lstm_units=64\n",
      "Epoch 1/15\n"
     ]
    },
    {
     "name": "stderr",
     "output_type": "stream",
     "text": [
      "c:\\Users\\ander\\Desktop\\projects\\IMDB_sentiment_analysis\\it1244\\Lib\\site-packages\\keras\\src\\layers\\core\\embedding.py:90: UserWarning: Argument `input_length` is deprecated. Just remove it.\n",
      "  warnings.warn(\n"
     ]
    },
    {
     "name": "stdout",
     "output_type": "stream",
     "text": [
      "\u001b[1m1000/1000\u001b[0m \u001b[32m━━━━━━━━━━━━━━━━━━━━\u001b[0m\u001b[37m\u001b[0m \u001b[1m63s\u001b[0m 60ms/step - accuracy: 0.7454 - loss: 0.4800 - val_accuracy: 0.8636 - val_loss: 0.3366\n",
      "Epoch 2/15\n",
      "\u001b[1m1000/1000\u001b[0m \u001b[32m━━━━━━━━━━━━━━━━━━━━\u001b[0m\u001b[37m\u001b[0m \u001b[1m59s\u001b[0m 59ms/step - accuracy: 0.9112 - loss: 0.2392 - val_accuracy: 0.8820 - val_loss: 0.2905\n",
      "Epoch 3/15\n",
      "\u001b[1m1000/1000\u001b[0m \u001b[32m━━━━━━━━━━━━━━━━━━━━\u001b[0m\u001b[37m\u001b[0m \u001b[1m58s\u001b[0m 58ms/step - accuracy: 0.9343 - loss: 0.1769 - val_accuracy: 0.8810 - val_loss: 0.3083\n",
      "\u001b[1m250/250\u001b[0m \u001b[32m━━━━━━━━━━━━━━━━━━━━\u001b[0m\u001b[37m\u001b[0m \u001b[1m5s\u001b[0m 19ms/step\n",
      "  --- Mean Validation Accuracy: 0.8793 ± 0.0026 ---\n"
     ]
    }
   ],
   "source": [
    "from tensorflow.keras.callbacks import EarlyStopping\n",
    "from tensorflow.keras.optimizers import Adam # Or tf.keras.optimizers.Adam\n",
    "\n",
    "# --- Initialize Storage ---\n",
    "lstm_cv_results = []\n",
    "lstm_misclassified_data = [] # Separate list for LSTM misclassifications\n",
    "\n",
    "best_lstm_score = -1\n",
    "best_lstm_params = {}\n",
    "\n",
    "print(\"Starting LSTM Cross-Validation with Hyperparameter Tuning...\")\n",
    "\n",
    "# --- Loop through Hyperparameter Combinations ---\n",
    "lstm_param_combinations = list(itertools.product(embedding_dims_lstm, lstm_unit_options, learning_rates_lstm))\n",
    "print(f\"Total parameter combinations to test: {len(lstm_param_combinations)}\")\n",
    "\n",
    "for combo_idx, (embed_dim, lstm_units, lr) in enumerate(lstm_param_combinations):\n",
    "    print(f\"\\n--- Testing Combo {combo_idx+1}/{len(lstm_param_combinations)}: embed={embed_dim}, lstm_units={lstm_units}, lr={lr} ---\")\n",
    "    # Store fold accuracies for calculating mean/std for this combo\n",
    "    fold_accuracies = []\n",
    "\n",
    "    # --- Inner loop for Cross-Validation Folds ---\n",
    "    for fold, (train_idx, val_idx) in enumerate(cv.split(X_train_pad, y_train)):\n",
    "        # Assumes y_train is already a NumPy array from previous step\n",
    "        print(f\"  Fold {fold + 1}/{N_SPLITS}...\")\n",
    "\n",
    "        # 1. Split data\n",
    "        X_train_fold, y_train_fold = X_train_pad[train_idx], y_train[train_idx].values\n",
    "        X_val_fold, y_val_fold = X_train_pad[val_idx], y_train[val_idx].values\n",
    "\n",
    "        # 2. Rebuild the LSTM model\n",
    "        lstm_model_fold = build_lstm_model(\n",
    "            vocab_size=FIXED_VOCAB_SIZE,\n",
    "            embedding_dim=embed_dim,\n",
    "            max_length=FIXED_MAX_LENGTH,\n",
    "            lstm_units=lstm_units\n",
    "        )\n",
    "\n",
    "        # 3. Compile the model\n",
    "        optimizer = Adam(learning_rate=lr)\n",
    "        lstm_model_fold.compile(optimizer=optimizer,\n",
    "                                loss='binary_crossentropy',\n",
    "                                metrics=['accuracy'])\n",
    "\n",
    "        # 4. Train the model with Early Stopping\n",
    "        # Patience might need adjustment depending on EPOCHS_CV_LSTM\n",
    "        early_stopping = EarlyStopping(monitor='val_accuracy', patience=1, restore_best_weights=True, verbose=0)\n",
    "        history = lstm_model_fold.fit(\n",
    "            X_train_fold, y_train_fold,\n",
    "            epochs=EPOCHS_CV_LSTM,\n",
    "            batch_size=BATCH_SIZE_LSTM,\n",
    "            validation_data=(X_val_fold, y_val_fold),\n",
    "            callbacks=[early_stopping],\n",
    "            verbose=1\n",
    "        )\n",
    "\n",
    "        # 5. Evaluate\n",
    "        loss, accuracy = lstm_model_fold.evaluate(X_val_fold, y_val_fold, batch_size=BATCH_SIZE_LSTM, verbose=0)\n",
    "        fold_accuracies.append(accuracy)\n",
    "\n",
    "        # --- 6. Predict & Track First 5 Misclassifications ---\n",
    "        y_pred_proba_fold = lstm_model_fold.predict(X_val_fold, batch_size=BATCH_SIZE_LSTM)\n",
    "        y_pred_fold = (y_pred_proba_fold > 0.5).astype(int).flatten()\n",
    "        misclassified_indices_in_fold = np.where(y_pred_fold != y_val_fold)[0]\n",
    "\n",
    "        misclassified_count_this_fold = 0\n",
    "        for local_idx in misclassified_indices_in_fold:\n",
    "            if misclassified_count_this_fold >= 5:\n",
    "                break\n",
    "            original_train_idx = val_idx[local_idx]\n",
    "            original_text = X_train[original_train_idx]\n",
    "\n",
    "            misclassified_info = {\n",
    "                'original_train_index': original_train_idx,\n",
    "                'fold': fold + 1,\n",
    "                'embed_dim': embed_dim,\n",
    "                'lstm_units': lstm_units, # Store relevant LSTM param\n",
    "                'lr': lr,\n",
    "                'text': original_text,\n",
    "                'true_label': int(y_val_fold[local_idx]), # Ensure y_val_fold is NumPy\n",
    "                'predicted_label': int(y_pred_fold[local_idx]),\n",
    "                'predicted_probability': float(y_pred_proba_fold[local_idx][0]) # Assumes (N, 1) output shape before flatten\n",
    "            }\n",
    "            lstm_misclassified_data.append(misclassified_info)\n",
    "            misclassified_count_this_fold += 1\n",
    "        # --- End Misclassification Tracking ---\n",
    "\n",
    "    # Calculate and store mean accuracy for this hyperparameter combo\n",
    "    mean_combo_accuracy = np.mean(fold_accuracies)\n",
    "    std_combo_accuracy = np.std(fold_accuracies)\n",
    "    print(f\"  --- Mean Validation Accuracy: {mean_combo_accuracy:.4f} ± {std_combo_accuracy:.4f} ---\") # Print summary\n",
    "\n",
    "    lstm_cv_results.append({\n",
    "        'embed_dim': embed_dim, 'lstm_units': lstm_units, 'lr': lr,\n",
    "        'mean_val_accuracy': mean_combo_accuracy,\n",
    "        'std_val_accuracy': std_combo_accuracy\n",
    "    })\n",
    "\n",
    "    # Track best parameters silently\n",
    "    if mean_combo_accuracy > best_lstm_score:\n",
    "        best_lstm_score = mean_combo_accuracy\n",
    "        best_lstm_params = {'embed_dim': embed_dim, 'lstm_units': lstm_units, 'lr': lr}\n",
    "\n",
    "    # --- End Hyperparameter Combo Loop ---"
   ]
  },
  {
   "cell_type": "code",
   "execution_count": 9,
   "id": "c694b2ed",
   "metadata": {},
   "outputs": [
    {
     "name": "stdout",
     "output_type": "stream",
     "text": [
      "\n",
      "--- LSTM CV Hyperparameter Tuning Results (Sorted) ---\n",
      "   embed_dim  lstm_units      lr  mean_val_accuracy  std_val_accuracy\n",
      "1         50          32  0.0005           0.883625          0.003059\n",
      "5        100          32  0.0005           0.881850          0.002715\n",
      "3         50          64  0.0005           0.880900          0.002819\n",
      "0         50          32  0.0010           0.880675          0.003322\n",
      "7        100          64  0.0005           0.879325          0.002635\n",
      "4        100          32  0.0010           0.879100          0.002889\n",
      "6        100          64  0.0010           0.877300          0.005610\n",
      "2         50          64  0.0010           0.876650          0.007371\n",
      "\n",
      "--- Best LSTM Hyperparameters Found ---\n",
      "{'embed_dim': 50, 'lstm_units': 32, 'lr': 0.0005}\n",
      "Best Mean Cross-Validation Accuracy: 0.8836\n"
     ]
    }
   ],
   "source": [
    "lstm_cv_results_df = pd.DataFrame(lstm_cv_results)\n",
    "lstm_cv_results_df = lstm_cv_results_df.sort_values(by='mean_val_accuracy', ascending=False)\n",
    "print(\"\\n--- LSTM CV Hyperparameter Tuning Results (Sorted) ---\")\n",
    "print(lstm_cv_results_df)\n",
    "print(\"\\n--- Best LSTM Hyperparameters Found ---\")\n",
    "print(best_lstm_params)\n",
    "print(f\"Best Mean Cross-Validation Accuracy: {best_lstm_score:.4f}\")"
   ]
  },
  {
   "cell_type": "markdown",
   "id": "99f097ff",
   "metadata": {},
   "source": [
    "From the results, the LSTM model achieve a best mean average accuracy of **88.36%**, with a small standard deviation (all <= **±0.0074**). This suggests that the model's performance is consistent accross folds, which is a good sign of performance as well."
   ]
  },
  {
   "cell_type": "code",
   "execution_count": 13,
   "id": "23671b46",
   "metadata": {},
   "outputs": [
    {
     "name": "stdout",
     "output_type": "stream",
     "text": [
      "\n",
      "--- Sample of Misclassified Data ---\n",
      "Text: saw chance show cable want like think sandra quite funny remember facial movement throughout movie jaw drop stun awful movie suffer throughthe person say one funny movie time please point one line one scene even worth chuckleshe much good singer remember not want watch lounge acti think movie try hard like since think not view objectively\n",
      "Text: saw chance show cable want like think sandra quite funny remember facial movement throughout movie jaw drop stun awful movie suffer throughthe person say one funny movie time please point one line one scene even worth chuckleshe much good singer remember not want watch lounge acti think movie try hard like since think not view objectively\n",
      "Text: rented movie day love romance story get bad one ever see life find hard believe sam would fall love kelley say hardly no 2 word great longtime boyfriend devote completely think kelley major jerk throughout movie never change good thing movie josh hartnett think wonderful acting job go start watch movie\n",
      "Text: movie lot blood sabretooth attack also love guy woman good time sabretooth attacked woman eat stomach take liver best 1ton sabretooth walk front leg hilarious make movie good action less talk know mean also please please people make movie not make anothwer movie like movie end terrible 1 sabretooth alive kill woman end movie reminds grudge end always 1 enemy leave ok damn movie suck 't believe love lil bro get freaked attack stomach takin blood ya\n",
      "Text: rule full moon production logo warn sign avoid film enjoy jeffrey comb film give shotit 's not bad not great something else film involve struggle mystic evil brother want dominate world title character dr mordrid also deal people authority mundane world successfullypossible spoiler followdr mordrid travel dimension find companion guard fortress however guard blind eye ruin pit wizard pass hand across other 's eye hey presto eye restore sort heal apparently work eyeslater mordred brother animate couple animal skeleton museum fight guess one winshowever side picture not bad though much like comic book dr mordred 's human adventure okay comb play role convincinglyi 've see lot bad\n"
     ]
    },
    {
     "data": {
      "text/html": [
       "<div>\n",
       "<style scoped>\n",
       "    .dataframe tbody tr th:only-of-type {\n",
       "        vertical-align: middle;\n",
       "    }\n",
       "\n",
       "    .dataframe tbody tr th {\n",
       "        vertical-align: top;\n",
       "    }\n",
       "\n",
       "    .dataframe thead th {\n",
       "        text-align: right;\n",
       "    }\n",
       "</style>\n",
       "<table border=\"1\" class=\"dataframe\">\n",
       "  <thead>\n",
       "    <tr style=\"text-align: right;\">\n",
       "      <th></th>\n",
       "      <th>text</th>\n",
       "      <th>true_label</th>\n",
       "      <th>predicted_label</th>\n",
       "      <th>predicted_probability</th>\n",
       "    </tr>\n",
       "  </thead>\n",
       "  <tbody>\n",
       "    <tr>\n",
       "      <th>171</th>\n",
       "      <td>saw chance show cable want like think sandra q...</td>\n",
       "      <td>0</td>\n",
       "      <td>1</td>\n",
       "      <td>0.699180</td>\n",
       "    </tr>\n",
       "    <tr>\n",
       "      <th>21</th>\n",
       "      <td>saw chance show cable want like think sandra q...</td>\n",
       "      <td>0</td>\n",
       "      <td>1</td>\n",
       "      <td>0.526419</td>\n",
       "    </tr>\n",
       "    <tr>\n",
       "      <th>56</th>\n",
       "      <td>rented movie day love romance story get bad on...</td>\n",
       "      <td>0</td>\n",
       "      <td>1</td>\n",
       "      <td>0.647070</td>\n",
       "    </tr>\n",
       "    <tr>\n",
       "      <th>27</th>\n",
       "      <td>movie lot blood sabretooth attack also love gu...</td>\n",
       "      <td>0</td>\n",
       "      <td>1</td>\n",
       "      <td>0.820384</td>\n",
       "    </tr>\n",
       "    <tr>\n",
       "      <th>106</th>\n",
       "      <td>rule full moon production logo warn sign avoid...</td>\n",
       "      <td>1</td>\n",
       "      <td>0</td>\n",
       "      <td>0.251571</td>\n",
       "    </tr>\n",
       "  </tbody>\n",
       "</table>\n",
       "</div>"
      ],
      "text/plain": [
       "                                                  text  true_label  \\\n",
       "171  saw chance show cable want like think sandra q...           0   \n",
       "21   saw chance show cable want like think sandra q...           0   \n",
       "56   rented movie day love romance story get bad on...           0   \n",
       "27   movie lot blood sabretooth attack also love gu...           0   \n",
       "106  rule full moon production logo warn sign avoid...           1   \n",
       "\n",
       "     predicted_label  predicted_probability  \n",
       "171                1               0.699180  \n",
       "21                 1               0.526419  \n",
       "56                 1               0.647070  \n",
       "27                 1               0.820384  \n",
       "106                0               0.251571  "
      ]
     },
     "execution_count": 13,
     "metadata": {},
     "output_type": "execute_result"
    }
   ],
   "source": [
    "# analyse misclassified data\n",
    "misclassified_df = pd.DataFrame(lstm_misclassified_data)\n",
    "misclassified_df = misclassified_df.sort_values(by='predicted_probability', ascending=True)\n",
    "\n",
    "# taking a look at a sample at random (display only specific columns)\n",
    "print(\"\\n--- Sample of Misclassified Data ---\")\n",
    "sample_misclassified = pd.DataFrame(misclassified_df[['text', 'true_label', 'predicted_label', 'predicted_probability']].sample(5))\n",
    "for i in range(len(sample_misclassified)):\n",
    "    print(f\"Text: {sample_misclassified.iloc[i]['text']}\")\n",
    "sample_misclassified"
   ]
  },
  {
   "cell_type": "markdown",
   "id": "4d148b35",
   "metadata": {},
   "source": [
    "LSTM doesn't using a sliding window kernel like CNN but processes sequences step-by-step. In the misclassification examples above, it looks like the model might have focused on the positive adjectives while ignoring contextual clues like sarcasm or fragmented structure for the reviews that it wrongly classified as positive. Therefore, it is unable to capture the full semantic context since it relies on order of tokens rather than global context of the entire sequence."
   ]
  },
  {
   "cell_type": "markdown",
   "id": "75e08101",
   "metadata": {},
   "source": [
    "Now that we are confident that LSTM is a good model choice, we will proceed to train it using the hyperparameters identified."
   ]
  },
  {
   "cell_type": "code",
   "execution_count": 10,
   "id": "0081bf51",
   "metadata": {},
   "outputs": [
    {
     "name": "stdout",
     "output_type": "stream",
     "text": [
      "  Building LSTM with embedding_dim=50, lstm_units=32\n",
      "Epoch 1/5\n"
     ]
    },
    {
     "name": "stderr",
     "output_type": "stream",
     "text": [
      "c:\\Users\\ander\\Desktop\\projects\\IMDB_sentiment_analysis\\it1244\\Lib\\site-packages\\keras\\src\\layers\\core\\embedding.py:90: UserWarning: Argument `input_length` is deprecated. Just remove it.\n",
      "  warnings.warn(\n"
     ]
    },
    {
     "name": "stdout",
     "output_type": "stream",
     "text": [
      "\u001b[1m1250/1250\u001b[0m \u001b[32m━━━━━━━━━━━━━━━━━━━━\u001b[0m\u001b[37m\u001b[0m \u001b[1m42s\u001b[0m 32ms/step - accuracy: 0.7495 - loss: 0.4754\n",
      "Epoch 2/5\n",
      "\u001b[1m1250/1250\u001b[0m \u001b[32m━━━━━━━━━━━━━━━━━━━━\u001b[0m\u001b[37m\u001b[0m \u001b[1m40s\u001b[0m 32ms/step - accuracy: 0.9157 - loss: 0.2239\n",
      "Epoch 3/5\n",
      "\u001b[1m1250/1250\u001b[0m \u001b[32m━━━━━━━━━━━━━━━━━━━━\u001b[0m\u001b[37m\u001b[0m \u001b[1m40s\u001b[0m 32ms/step - accuracy: 0.9364 - loss: 0.1741\n",
      "Epoch 4/5\n",
      "\u001b[1m1250/1250\u001b[0m \u001b[32m━━━━━━━━━━━━━━━━━━━━\u001b[0m\u001b[37m\u001b[0m \u001b[1m40s\u001b[0m 32ms/step - accuracy: 0.9486 - loss: 0.1396\n",
      "Epoch 5/5\n",
      "\u001b[1m1250/1250\u001b[0m \u001b[32m━━━━━━━━━━━━━━━━━━━━\u001b[0m\u001b[37m\u001b[0m \u001b[1m40s\u001b[0m 32ms/step - accuracy: 0.9576 - loss: 0.1196\n"
     ]
    },
    {
     "data": {
      "text/plain": [
       "<keras.src.callbacks.history.History at 0x1938dc22710>"
      ]
     },
     "execution_count": 10,
     "metadata": {},
     "output_type": "execute_result"
    }
   ],
   "source": [
    "# Use parameters found from CV\n",
    "final_embed_dim_lstm = best_lstm_params['embed_dim']\n",
    "final_lstm_units = best_lstm_params['lstm_units']\n",
    "final_lr_lstm = best_lstm_params['lr']\n",
    "\n",
    "EPOCHS_FINAL_LSTM = 5 # from CV, most epochs were between 3-5\n",
    "PATIENCE_FINAL_LSTM = 2\n",
    "\n",
    "final_lstm_model = build_lstm_model(\n",
    "    vocab_size=FIXED_VOCAB_SIZE,\n",
    "    embedding_dim=final_embed_dim_lstm,\n",
    "    max_length=FIXED_MAX_LENGTH,\n",
    "    lstm_units=final_lstm_units\n",
    ")\n",
    "\n",
    "final_lstm_model.compile(optimizer=Adam(learning_rate=final_lr_lstm),\n",
    "                        loss='binary_crossentropy',\n",
    "                        metrics=['accuracy'])\n",
    "\n",
    "# early stopping for final model\n",
    "early_stopping_final = EarlyStopping(\n",
    "    monitor='loss', \n",
    "    patience=PATIENCE_FINAL_LSTM, restore_best_weights=True, verbose=0)\n",
    "\n",
    "final_lstm_model.fit(\n",
    "    X_train_pad, y_train.values,\n",
    "    epochs=EPOCHS_FINAL_LSTM,\n",
    "    batch_size=BATCH_SIZE_LSTM,\n",
    "    callbacks=[early_stopping_final],\n",
    "    verbose=1\n",
    ")"
   ]
  },
  {
   "cell_type": "code",
   "execution_count": 12,
   "id": "4d54e979",
   "metadata": {},
   "outputs": [],
   "source": [
    "final_lstm_model.save('dl_models/final_lstm_model.keras')"
   ]
  },
  {
   "cell_type": "markdown",
   "id": "849dd4b2",
   "metadata": {},
   "source": [
    "We will then proceed to evaluate the model on the unseen test data and determine its performance based on common classification metrics."
   ]
  },
  {
   "cell_type": "code",
   "execution_count": 14,
   "id": "6672774a",
   "metadata": {},
   "outputs": [],
   "source": [
    "import matplotlib.pyplot as plt\n",
    "import seaborn as sns\n",
    "from sklearn.metrics import (\n",
    "    accuracy_score,\n",
    "    confusion_matrix,\n",
    "    classification_report,\n",
    "    roc_curve,\n",
    "    auc,\n",
    "    precision_recall_curve,\n",
    "    average_precision_score\n",
    ")"
   ]
  },
  {
   "cell_type": "code",
   "execution_count": 15,
   "id": "c9a0ead1",
   "metadata": {},
   "outputs": [],
   "source": [
    "def plot_evaluation_summary(y_true, y_pred_proba, cm, model_name=\"Model\"):\n",
    "    \"\"\"Generates a figure with insightful evaluation plots.\"\"\"\n",
    "\n",
    "    fig, axes = plt.subplots(2, 2, figsize=(14, 12))\n",
    "    fig.suptitle(f'Evaluation Summary for {model_name}', fontsize=16)\n",
    "\n",
    "    # 1. Confusion Matrix (Raw Counts)\n",
    "    sns.heatmap(cm, annot=True, fmt='d', cmap='Blues', ax=axes[0, 0],\n",
    "                xticklabels=['Predicted Neg (0)', 'Predicted Pos (1)'],\n",
    "                yticklabels=['True Neg (0)', 'True Pos (1)'])\n",
    "    axes[0, 0].set_title('Confusion Matrix (Counts)')\n",
    "    axes[0, 0].set_ylabel('True Label')\n",
    "    axes[0, 0].set_xlabel('Predicted Label')\n",
    "\n",
    "    # 2. ROC Curve \n",
    "    fpr, tpr, _ = roc_curve(y_true, y_pred_proba)\n",
    "    roc_auc = auc(fpr, tpr)\n",
    "    axes[0, 1].plot(fpr, tpr, color='darkorange', lw=2, label=f'ROC curve (AUC = {roc_auc:.3f})')\n",
    "    axes[0, 1].plot([0, 1], [0, 1], color='navy', lw=2, linestyle='--')\n",
    "    axes[0, 1].set_xlim([0.0, 1.0])\n",
    "    axes[0, 1].set_ylim([0.0, 1.05])\n",
    "    axes[0, 1].set_xlabel('False Positive Rate')\n",
    "    axes[0, 1].set_ylabel('True Positive Rate')\n",
    "    axes[0, 1].set_title('Receiver Operating Characteristic (ROC)')\n",
    "    axes[0, 1].legend(loc=\"lower right\")\n",
    "    axes[0, 1].grid(alpha=0.3)\n",
    "\n",
    "    # 3. Precision-Recall Curve \n",
    "    precision, recall, _ = precision_recall_curve(y_true, y_pred_proba)\n",
    "    pr_auc = average_precision_score(y_true, y_pred_proba)\n",
    "    axes[1, 0].plot(recall, precision, color='skyblue', lw=2, label=f'PR curve (AP = {pr_auc:.3f})')\n",
    "    pos_proportion = np.mean(y_true)\n",
    "    axes[1, 0].axhline(pos_proportion, color='grey', lw=1, linestyle='--', label=f'Baseline ({pos_proportion:.2f})')\n",
    "    axes[1, 0].set_xlim([0.0, 1.0])\n",
    "    axes[1, 0].set_ylim([0.0, 1.05])\n",
    "    axes[1, 0].set_xlabel('Recall (Sensitivity)')\n",
    "    axes[1, 0].set_ylabel('Precision')\n",
    "    axes[1, 0].set_title('Precision-Recall Curve')\n",
    "    axes[1, 0].legend(loc=\"lower left\")\n",
    "    axes[1, 0].grid(alpha=0.3)\n",
    "\n",
    "    # 4. Distribution of Predicted Probabilities (Using KDE Plot)\n",
    "    neg_probs = y_pred_proba[y_true == 0]\n",
    "    pos_probs = y_pred_proba[y_true == 1]\n",
    "    sns.kdeplot(neg_probs, color=\"red\", fill=True, alpha=0.5, label='True Negative (0)', ax=axes[1, 1], lw=2)\n",
    "    sns.kdeplot(pos_probs, color=\"blue\", fill=True, alpha=0.5, label='True Positive (1)', ax=axes[1, 1], lw=2)\n",
    "    axes[1, 1].axvline(0.5, color='grey', linestyle='--', lw=1, label='Threshold (0.5)')\n",
    "    axes[1, 1].set_title('Distribution of Predicted Probabilities (KDE)') # Updated title\n",
    "    axes[1, 1].set_xlabel('Predicted Probability of Positive Class (1)')\n",
    "    axes[1, 1].set_ylabel('Density')\n",
    "    # Adjust xlim slightly if peaks are cut off right at 0/1\n",
    "    axes[1, 1].set_xlim([-0.05, 1.05])\n",
    "    axes[1, 1].legend()\n",
    "    axes[1, 1].grid(alpha=0.3)\n",
    "\n",
    "    plt.tight_layout(rect=[0, 0.03, 1, 0.97])\n",
    "\n",
    "    return fig\n"
   ]
  },
  {
   "cell_type": "code",
   "execution_count": 16,
   "id": "fb9c48c3",
   "metadata": {},
   "outputs": [],
   "source": [
    "def evaluate_sequential_model(model, X_test_pad, y_test, model_name=\"Sequential Model\", batch_size=32, threshold=0.5):\n",
    "    print(f\"--- Evaluating {model_name} ---\")\n",
    "\n",
    "    # Ensure y_test is NumPy \n",
    "    if not isinstance(y_test, np.ndarray):\n",
    "        y_test = np.array(y_test)\n",
    "\n",
    "    # Predict probabilities\n",
    "    print(f\"Predicting probabilities using batch size {batch_size}...\")\n",
    "    try:\n",
    "        y_pred_proba = model.predict(X_test_pad, batch_size=batch_size, verbose=1)\n",
    "    except Exception as e:\n",
    "        print(f\"Error during prediction: {e}\")\n",
    "        return None, None\n",
    "\n",
    "    # Ensure predictions are flattened correctly\n",
    "    y_pred_proba = y_pred_proba.flatten()\n",
    "\n",
    "    # Convert probabilities to binary labels\n",
    "    y_pred_label = (y_pred_proba >= threshold).astype(int)\n",
    "\n",
    "    # Calculate Metrics\n",
    "    print(\"\\nCalculating Metrics...\")\n",
    "    accuracy = accuracy_score(y_test, y_pred_label)\n",
    "    cm = confusion_matrix(y_test, y_pred_label)\n",
    "    # Ensure target names match label encoding (0: Neg, 1: Pos)\n",
    "    report_str = classification_report(y_test, y_pred_label, target_names=['Negative (0)', 'Positive (1)'])\n",
    "    report_dict = classification_report(y_test, y_pred_label, target_names=['Negative (0)', 'Positive (1)'], output_dict=True)\n",
    "    fpr, tpr, _ = roc_curve(y_test, y_pred_proba)\n",
    "    roc_auc = auc(fpr, tpr)\n",
    "    pr_auc = average_precision_score(y_test, y_pred_proba)\n",
    "\n",
    "    # Store Results\n",
    "    results = {\n",
    "        'model_name': model_name,\n",
    "        'accuracy': accuracy,\n",
    "        'roc_auc': roc_auc,\n",
    "        'pr_auc (Average Precision)': pr_auc,\n",
    "        'confusion_matrix': cm.tolist(),\n",
    "        'classification_report_str': report_str,\n",
    "        'classification_report_dict': report_dict,\n",
    "    }\n",
    "\n",
    "    # Print Key Metrics\n",
    "    print(\"\\n--- Key Performance Metrics ---\")\n",
    "    print(f\"Accuracy: {results['accuracy']:.4f}\")\n",
    "    print(f\"ROC AUC: {results['roc_auc']:.4f}\")\n",
    "    print(f\"PR AUC (Avg Precision): {results['pr_auc (Average Precision)']:.4f}\")\n",
    "    print(f\"\\nConfusion Matrix:\\n{cm}\")\n",
    "    print(\"\\nClassification Report:\")\n",
    "    print(results['classification_report_str'])\n",
    "\n",
    "    # Generate Plots using the separate plotting function\n",
    "    print(\"\\nGenerating Evaluation Plots...\")\n",
    "    fig = plot_evaluation_summary(y_test, y_pred_proba, cm, model_name)\n",
    "\n",
    "    print(f\"--- Evaluation Complete for {model_name} ---\")\n",
    "\n",
    "    return results, fig"
   ]
  },
  {
   "cell_type": "code",
   "execution_count": 18,
   "id": "113137e3",
   "metadata": {},
   "outputs": [
    {
     "name": "stdout",
     "output_type": "stream",
     "text": [
      "--- Evaluating LSTM ---\n",
      "Predicting probabilities using batch size 32...\n",
      "\u001b[1m313/313\u001b[0m \u001b[32m━━━━━━━━━━━━━━━━━━━━\u001b[0m\u001b[37m\u001b[0m \u001b[1m3s\u001b[0m 10ms/step\n",
      "\n",
      "Calculating Metrics...\n",
      "\n",
      "--- Key Performance Metrics ---\n",
      "Accuracy: 0.8756\n",
      "ROC AUC: 0.9390\n",
      "PR AUC (Avg Precision): 0.9330\n",
      "\n",
      "Confusion Matrix:\n",
      "[[4413  587]\n",
      " [ 657 4343]]\n",
      "\n",
      "Classification Report:\n",
      "              precision    recall  f1-score   support\n",
      "\n",
      "Negative (0)       0.87      0.88      0.88      5000\n",
      "Positive (1)       0.88      0.87      0.87      5000\n",
      "\n",
      "    accuracy                           0.88     10000\n",
      "   macro avg       0.88      0.88      0.88     10000\n",
      "weighted avg       0.88      0.88      0.88     10000\n",
      "\n",
      "\n",
      "Generating Evaluation Plots...\n",
      "--- Evaluation Complete for LSTM ---\n"
     ]
    },
    {
     "data": {
      "image/png": "[encoded data removed]",
      "text/plain": [
       "<Figure size 1400x1200 with 5 Axes>"
      ]
     },
     "metadata": {},
     "output_type": "display_data"
    }
   ],
   "source": [
    "lstm_results, lstm_fig = evaluate_sequential_model(\n",
    "                            final_lstm_model,\n",
    "                            X_test_pad, # Pass the padded sequences\n",
    "                            y_test,\n",
    "                            model_name=\"LSTM\",\n",
    "                            batch_size=BATCH_SIZE_LSTM # Use appropriate batch size\n",
    "                        )\n",
    "if lstm_fig:\n",
    "     plt.show() # Display the plot"
   ]
  },
  {
   "cell_type": "markdown",
   "id": "9f81d9b8",
   "metadata": {},
   "source": [
    "The LSTM model achieved an accuracy of **87.56%** on the unseen test data, which indicates strong performance and good generalisation on unseen data (slightly worse than oru cnn model).\n",
    "\n",
    "Looking at the confusion matrix, the LSTM model is able to identify a relatively large number of both and positive and negative reviews. The errors (FN, FP) are quite balanced and significantly smaller thatn the correct predictions, indicating good overall classification ability.\n",
    "\n",
    "Based on the ROC curve, we have an AUC=0.939, suggesting that the model is capable of distinguishing between positive and negative classes.\n",
    "\n",
    "Our precision-recall curve shows that the curve remains high even as recall increases, only dropping significantly at very high recall values. The average precision of 0.933 also affirms that the model maintians high precision when identifying a large proportion of true positive reviews.\n",
    "\n",
    "The Kernel Density Estimate on the bottom right demonstrates how the model's predicted probabilites are distributed for samples that are truly negative versus those that are truly positive. There is a clear distinction between the two distributions, albeit some overlap and errors but they are relatively low density. In contrast, the narrow peaks indicate that the LSTM model is generally confident in its predictions."
   ]
  }
 ],
 "metadata": {
  "kernelspec": {
   "display_name": "it1244",
   "language": "python",
   "name": "python3"
  },
  "language_info": {
   "codemirror_mode": {
    "name": "ipython",
    "version": 3
   },
   "file_extension": ".py",
   "mimetype": "text/x-python",
   "name": "python",
   "nbconvert_exporter": "python",
   "pygments_lexer": "ipython3",
   "version": "3.11.4"
  }
 },
 "nbformat": 4,
 "nbformat_minor": 5
}
